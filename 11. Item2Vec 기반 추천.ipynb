{
 "cells": [
  {
   "cell_type": "markdown",
   "metadata": {},
   "source": [
    "## 00. 환경설정"
   ]
  },
  {
   "cell_type": "code",
   "execution_count": 1,
   "metadata": {},
   "outputs": [
    {
     "name": "stderr",
     "output_type": "stream",
     "text": [
      "C:\\Users\\kimminsu\\Anaconda3\\lib\\site-packages\\gensim\\similarities\\__init__.py:15: UserWarning: The gensim.similarities.levenshtein submodule is disabled, because the optional Levenshtein package <https://pypi.org/project/python-Levenshtein/> is unavailable. Install Levenhstein (e.g. `pip install python-Levenshtein`) to suppress this warning.\n",
      "  warnings.warn(msg)\n"
     ]
    }
   ],
   "source": [
    "import os\n",
    "import pandas as pd\n",
    "import seaborn as sns\n",
    "import scipy\n",
    "import numpy as np\n",
    "import random\n",
    "from matplotlib import pyplot as plt\n",
    "from datetime import datetime\n",
    "from tqdm import tqdm\n",
    "%matplotlib inline\n",
    "\n",
    "import gensim\n",
    "import warnings\n",
    "warnings.filterwarnings(\"ignore\")"
   ]
  },
  {
   "cell_type": "markdown",
   "metadata": {},
   "source": [
    "## 01. Item2Vec을 이용한 추천시스템 구현\n",
    "- Item2Vec에 가장 적합한 데이터는 유저 혹은 세션 단위로 비슷한 의도를 가지고 아이템을 소비한 로그 데이터입니다.\n",
    "- 무비렌즈 데이터는 Item2Vec을 수행하기에 적합한 데이터는 아니지만 Item2Vec을 통한 연관 추천의 결과가 잘 드러납니다."
   ]
  },
  {
   "cell_type": "code",
   "execution_count": 2,
   "metadata": {},
   "outputs": [],
   "source": [
    "movies_df = pd.read_csv(\"../data/ml-latest-small/movies.csv\")\n",
    "ratings_df = pd.read_csv(\"../data/ml-latest-small/ratings.csv\")\n",
    "\n",
    "movie_id_to_name = pd.Series(movies_df.title.values, index = movies_df.movieId.values).to_dict()\n",
    "name_to_movie_id = pd.Series(movies_df.movieId.values, index = movies_df.title).to_dict()"
   ]
  },
  {
   "cell_type": "code",
   "execution_count": 3,
   "metadata": {},
   "outputs": [
    {
     "data": {
      "text/plain": [
       "<matplotlib.axes._subplots.AxesSubplot at 0x1da9c804c48>"
      ]
     },
     "execution_count": 3,
     "metadata": {},
     "output_type": "execute_result"
    },
    {
     "data": {
      "image/png": "[encoded data removed]",
      "text/plain": [
       "<Figure size 432x288 with 1 Axes>"
      ]
     },
     "metadata": {
      "needs_background": "light"
     },
     "output_type": "display_data"
    }
   ],
   "source": [
    "sns.distplot(ratings_df['rating'])"
   ]
  },
  {
   "cell_type": "code",
   "execution_count": 4,
   "metadata": {},
   "outputs": [],
   "source": [
    "from sklearn.model_selection import train_test_split\n",
    "\n",
    "ratings_df['liked'] = np.where(ratings_df['rating'] >= 4, 1, 0)\n",
    "ratings_df['movieId'] = ratings_df['movieId'].astype(\"str\")\n",
    "train_df, test_df = train_test_split(ratings_df, stratify = ratings_df['userId'], random_state=100, test_size=0.2)"
   ]
  },
  {
   "cell_type": "code",
   "execution_count": 5,
   "metadata": {},
   "outputs": [
    {
     "data": {
      "text/html": [
       "<div>\n",
       "<style scoped>\n",
       "    .dataframe tbody tr th:only-of-type {\n",
       "        vertical-align: middle;\n",
       "    }\n",
       "\n",
       "    .dataframe tbody tr th {\n",
       "        vertical-align: top;\n",
       "    }\n",
       "\n",
       "    .dataframe thead th {\n",
       "        text-align: right;\n",
       "    }\n",
       "</style>\n",
       "<table border=\"1\" class=\"dataframe\">\n",
       "  <thead>\n",
       "    <tr style=\"text-align: right;\">\n",
       "      <th></th>\n",
       "      <th>userId</th>\n",
       "      <th>movieId</th>\n",
       "      <th>rating</th>\n",
       "      <th>timestamp</th>\n",
       "      <th>liked</th>\n",
       "    </tr>\n",
       "  </thead>\n",
       "  <tbody>\n",
       "    <tr>\n",
       "      <th>78097</th>\n",
       "      <td>484</td>\n",
       "      <td>3911</td>\n",
       "      <td>4.0</td>\n",
       "      <td>1342294787</td>\n",
       "      <td>1</td>\n",
       "    </tr>\n",
       "    <tr>\n",
       "      <th>34543</th>\n",
       "      <td>232</td>\n",
       "      <td>48877</td>\n",
       "      <td>3.5</td>\n",
       "      <td>1163024515</td>\n",
       "      <td>0</td>\n",
       "    </tr>\n",
       "    <tr>\n",
       "      <th>94410</th>\n",
       "      <td>599</td>\n",
       "      <td>26940</td>\n",
       "      <td>2.5</td>\n",
       "      <td>1519346264</td>\n",
       "      <td>0</td>\n",
       "    </tr>\n",
       "    <tr>\n",
       "      <th>85385</th>\n",
       "      <td>555</td>\n",
       "      <td>724</td>\n",
       "      <td>5.0</td>\n",
       "      <td>978745225</td>\n",
       "      <td>1</td>\n",
       "    </tr>\n",
       "    <tr>\n",
       "      <th>78341</th>\n",
       "      <td>487</td>\n",
       "      <td>31658</td>\n",
       "      <td>3.5</td>\n",
       "      <td>1428574498</td>\n",
       "      <td>0</td>\n",
       "    </tr>\n",
       "    <tr>\n",
       "      <th>...</th>\n",
       "      <td>...</td>\n",
       "      <td>...</td>\n",
       "      <td>...</td>\n",
       "      <td>...</td>\n",
       "      <td>...</td>\n",
       "    </tr>\n",
       "    <tr>\n",
       "      <th>79624</th>\n",
       "      <td>495</td>\n",
       "      <td>7163</td>\n",
       "      <td>4.5</td>\n",
       "      <td>1458636189</td>\n",
       "      <td>1</td>\n",
       "    </tr>\n",
       "    <tr>\n",
       "      <th>57080</th>\n",
       "      <td>380</td>\n",
       "      <td>1544</td>\n",
       "      <td>4.0</td>\n",
       "      <td>1493667555</td>\n",
       "      <td>1</td>\n",
       "    </tr>\n",
       "    <tr>\n",
       "      <th>56692</th>\n",
       "      <td>377</td>\n",
       "      <td>1262</td>\n",
       "      <td>4.5</td>\n",
       "      <td>1340341828</td>\n",
       "      <td>1</td>\n",
       "    </tr>\n",
       "    <tr>\n",
       "      <th>96597</th>\n",
       "      <td>603</td>\n",
       "      <td>2118</td>\n",
       "      <td>3.0</td>\n",
       "      <td>953925630</td>\n",
       "      <td>0</td>\n",
       "    </tr>\n",
       "    <tr>\n",
       "      <th>93838</th>\n",
       "      <td>599</td>\n",
       "      <td>4285</td>\n",
       "      <td>2.5</td>\n",
       "      <td>1498518884</td>\n",
       "      <td>0</td>\n",
       "    </tr>\n",
       "  </tbody>\n",
       "</table>\n",
       "<p>80668 rows × 5 columns</p>\n",
       "</div>"
      ],
      "text/plain": [
       "       userId movieId  rating   timestamp  liked\n",
       "78097     484    3911     4.0  1342294787      1\n",
       "34543     232   48877     3.5  1163024515      0\n",
       "94410     599   26940     2.5  1519346264      0\n",
       "85385     555     724     5.0   978745225      1\n",
       "78341     487   31658     3.5  1428574498      0\n",
       "...       ...     ...     ...         ...    ...\n",
       "79624     495    7163     4.5  1458636189      1\n",
       "57080     380    1544     4.0  1493667555      1\n",
       "56692     377    1262     4.5  1340341828      1\n",
       "96597     603    2118     3.0   953925630      0\n",
       "93838     599    4285     2.5  1498518884      0\n",
       "\n",
       "[80668 rows x 5 columns]"
      ]
     },
     "execution_count": 5,
     "metadata": {},
     "output_type": "execute_result"
    }
   ],
   "source": [
    "train_df"
   ]
  },
  {
   "cell_type": "code",
   "execution_count": 6,
   "metadata": {},
   "outputs": [
    {
     "name": "stdout",
     "output_type": "stream",
     "text": [
      "number of train data: 80668\n",
      "number of test  data: 20168\n"
     ]
    }
   ],
   "source": [
    "print(\"number of train data:\", len(train_df))\n",
    "print(\"number of test  data:\", len(test_df))"
   ]
  },
  {
   "cell_type": "markdown",
   "metadata": {},
   "source": [
    "#### 한 명의 유저를 기준으로 4점 이상으로 평가한 영화와 4점 미만으로 평가한 영화를 나누어 각각 Item2Vec 임베딩에 사용합니다."
   ]
  },
  {
   "cell_type": "code",
   "execution_count": 7,
   "metadata": {},
   "outputs": [],
   "source": [
    "user_grouped = train_df.groupby(['liked', 'userId'])\n",
    "user_movie_list = [user_grouped.get_group(gp)['movieId'].tolist() for gp in user_grouped.groups]"
   ]
  },
  {
   "cell_type": "markdown",
   "metadata": {},
   "source": [
    "#### 0번 유저의 학습 데이터"
   ]
  },
  {
   "cell_type": "code",
   "execution_count": 8,
   "metadata": {
    "scrolled": true
   },
   "outputs": [
    {
     "data": {
      "text/plain": [
       "['673',\n",
       " '3176',\n",
       " '423',\n",
       " '223',\n",
       " '70',\n",
       " '2617',\n",
       " '2414',\n",
       " '1219',\n",
       " '2338',\n",
       " '2253',\n",
       " '2389',\n",
       " '3243',\n",
       " '1445',\n",
       " '1644',\n",
       " '2528',\n",
       " '3247',\n",
       " '1408',\n",
       " '1030',\n",
       " '500',\n",
       " '2093',\n",
       " '1676',\n",
       " '1377',\n",
       " '736',\n",
       " '316']"
      ]
     },
     "execution_count": 8,
     "metadata": {},
     "output_type": "execute_result"
    }
   ],
   "source": [
    "user_movie_list[0]"
   ]
  },
  {
   "cell_type": "code",
   "execution_count": 9,
   "metadata": {},
   "outputs": [
    {
     "data": {
      "text/plain": [
       "1215"
      ]
     },
     "execution_count": 9,
     "metadata": {},
     "output_type": "execute_result"
    }
   ],
   "source": [
    "len(user_movie_list)"
   ]
  },
  {
   "cell_type": "markdown",
   "metadata": {},
   "source": [
    "### Gensim의 [Word2Vec](https://radimrehurek.com/gensim/models/word2vec.html)\n",
    "- Gensim 패키지는 Word2Vec 임베딩을 제공합니다."
   ]
  },
  {
   "cell_type": "code",
   "execution_count": 10,
   "metadata": {},
   "outputs": [],
   "source": [
    "from gensim.models.word2vec import Word2Vec\n",
    "\n",
    "model = Word2Vec(sentences = user_movie_list,\n",
    "                 epochs = 5,\n",
    "                 vector_size = 100,\n",
    "                 min_count = 3,     # 단어가 최소 3회 이상 등장해야 학습되고 모델에 저장됨 \n",
    "                 workers = 4,\n",
    "                 sg = 1,            # skip-gram을 사용한다면 1\n",
    "                 hs = 0,            # negative sampling을 사용한다면 0 (hierarchical softmax)\n",
    "                 negative = 5,      # 1개의 positive sample 당 negative sample의 개수\n",
    "                 window = 9999999   # Window를 크게 잡는 이유는 문장 내 모든 아이템끼리 학습이 되어야 하기 때문\n",
    "                )\n",
    "\n",
    "word_vectors = model.wv"
   ]
  },
  {
   "cell_type": "markdown",
   "metadata": {},
   "source": [
    "#### 임베딩된 아이템의 결과"
   ]
  },
  {
   "cell_type": "code",
   "execution_count": 11,
   "metadata": {},
   "outputs": [
    {
     "data": {
      "text/plain": [
       "array([-0.03946853,  0.00545489,  0.27740222,  0.18820502,  0.01148834,\n",
       "        0.20195721, -0.02110451,  0.05552216,  0.07477687, -0.09445705,\n",
       "        0.06600963,  0.01623284, -0.15554582, -0.02479254,  0.2111969 ,\n",
       "        0.15701886, -0.1652993 , -0.22461776, -0.35147724,  0.04734299,\n",
       "        0.41309625,  0.16397418,  0.22695734, -0.04086019, -0.30657402,\n",
       "        0.19824007, -0.06630701,  0.19248535, -0.32797527, -0.22291034,\n",
       "        0.35022953, -0.06105593,  0.38004404, -0.05290887,  0.08842707,\n",
       "        0.04956527,  0.13101372,  0.02429305, -0.02950283, -0.22992136,\n",
       "       -0.08304939, -0.07602482,  0.12571497, -0.3122366 ,  0.2759611 ,\n",
       "       -0.46991375, -0.2872375 ,  0.07487666, -0.06946862,  0.0422753 ,\n",
       "        0.20788933, -0.33736193,  0.08695715,  0.18397067, -0.26857895,\n",
       "       -0.06195689, -0.00911339, -0.24911736, -0.0728983 , -0.27947605,\n",
       "        0.23176937, -0.01810282,  0.19976974,  0.02097477,  0.03928498,\n",
       "        0.30339575,  0.1707759 ,  0.08441551,  0.07956425,  0.12819806,\n",
       "       -0.02541683,  0.21235125,  0.32851827,  0.0233592 , -0.30295616,\n",
       "        0.02007279,  0.13639757, -0.27813807, -0.16725223, -0.29851067,\n",
       "        0.05360705,  0.0301173 , -0.24030669,  0.08485792,  0.1562663 ,\n",
       "        0.22778319,  0.26395583,  0.19039103,  0.26209965,  0.35579708,\n",
       "        0.14929122, -0.09882632, -0.03879358,  0.1462202 , -0.18912943,\n",
       "        0.45823425, -0.05410732, -0.22218658,  0.06545766,  0.2105215 ],\n",
       "      dtype=float32)"
      ]
     },
     "execution_count": 11,
     "metadata": {},
     "output_type": "execute_result"
    }
   ],
   "source": [
    "word_vectors['30793']"
   ]
  },
  {
   "cell_type": "markdown",
   "metadata": {},
   "source": [
    "### 주어진 아이템에 대한 연관 추천\n",
    "- 주어진 아이템 벡터와 가장 비슷한 아이템 벡터를 찾아봅니다.\n",
    "- Item2Vec와 MF 모두 아이템 벡터를 생성하는 과정이라고 볼 수 있습니다."
   ]
  },
  {
   "cell_type": "code",
   "execution_count": 12,
   "metadata": {},
   "outputs": [
    {
     "data": {
      "text/html": [
       "<div>\n",
       "<style scoped>\n",
       "    .dataframe tbody tr th:only-of-type {\n",
       "        vertical-align: middle;\n",
       "    }\n",
       "\n",
       "    .dataframe tbody tr th {\n",
       "        vertical-align: top;\n",
       "    }\n",
       "\n",
       "    .dataframe thead th {\n",
       "        text-align: right;\n",
       "    }\n",
       "</style>\n",
       "<table border=\"1\" class=\"dataframe\">\n",
       "  <thead>\n",
       "    <tr style=\"text-align: right;\">\n",
       "      <th></th>\n",
       "      <th>movieId</th>\n",
       "      <th>title</th>\n",
       "      <th>genres</th>\n",
       "    </tr>\n",
       "  </thead>\n",
       "  <tbody>\n",
       "    <tr>\n",
       "      <th>5735</th>\n",
       "      <td>30793</td>\n",
       "      <td>Charlie and the Chocolate Factory (2005)</td>\n",
       "      <td>Adventure|Children|Comedy|Fantasy|IMAX</td>\n",
       "    </tr>\n",
       "  </tbody>\n",
       "</table>\n",
       "</div>"
      ],
      "text/plain": [
       "      movieId                                     title  \\\n",
       "5735    30793  Charlie and the Chocolate Factory (2005)   \n",
       "\n",
       "                                      genres  \n",
       "5735  Adventure|Children|Comedy|Fantasy|IMAX  "
      ]
     },
     "execution_count": 12,
     "metadata": {},
     "output_type": "execute_result"
    }
   ],
   "source": [
    "movies_df[movies_df.movieId == 30793]"
   ]
  },
  {
   "cell_type": "markdown",
   "metadata": {},
   "source": [
    "#### 주어진 아이템에 대해서 비슷한 아이템을 코사인 유사도로 구합니다."
   ]
  },
  {
   "cell_type": "code",
   "execution_count": 13,
   "metadata": {},
   "outputs": [],
   "source": [
    "topn = 10\n",
    "positive_list = ['30793']\n",
    "similar_movies = model.wv.most_similar(positive=positive_list, topn=topn)"
   ]
  },
  {
   "cell_type": "code",
   "execution_count": 14,
   "metadata": {},
   "outputs": [
    {
     "data": {
      "text/html": [
       "<div>\n",
       "<style scoped>\n",
       "    .dataframe tbody tr th:only-of-type {\n",
       "        vertical-align: middle;\n",
       "    }\n",
       "\n",
       "    .dataframe tbody tr th {\n",
       "        vertical-align: top;\n",
       "    }\n",
       "\n",
       "    .dataframe thead th {\n",
       "        text-align: right;\n",
       "    }\n",
       "</style>\n",
       "<table border=\"1\" class=\"dataframe\">\n",
       "  <thead>\n",
       "    <tr style=\"text-align: right;\">\n",
       "      <th></th>\n",
       "      <th>movieId</th>\n",
       "      <th>title</th>\n",
       "      <th>genres</th>\n",
       "    </tr>\n",
       "  </thead>\n",
       "  <tbody>\n",
       "    <tr>\n",
       "      <th>4796</th>\n",
       "      <td>7147</td>\n",
       "      <td>Big Fish (2003)</td>\n",
       "      <td>Drama|Fantasy|Romance</td>\n",
       "    </tr>\n",
       "    <tr>\n",
       "      <th>5160</th>\n",
       "      <td>8360</td>\n",
       "      <td>Shrek 2 (2004)</td>\n",
       "      <td>Adventure|Animation|Children|Comedy|Musical|Ro...</td>\n",
       "    </tr>\n",
       "    <tr>\n",
       "      <th>5166</th>\n",
       "      <td>8368</td>\n",
       "      <td>Harry Potter and the Prisoner of Azkaban (2004)</td>\n",
       "      <td>Adventure|Fantasy|IMAX</td>\n",
       "    </tr>\n",
       "    <tr>\n",
       "      <th>5173</th>\n",
       "      <td>8376</td>\n",
       "      <td>Napoleon Dynamite (2004)</td>\n",
       "      <td>Comedy</td>\n",
       "    </tr>\n",
       "    <tr>\n",
       "      <th>5265</th>\n",
       "      <td>8644</td>\n",
       "      <td>I, Robot (2004)</td>\n",
       "      <td>Action|Adventure|Sci-Fi|Thriller</td>\n",
       "    </tr>\n",
       "    <tr>\n",
       "      <th>6112</th>\n",
       "      <td>42734</td>\n",
       "      <td>Hoodwinked! (2005)</td>\n",
       "      <td>Animation|Children|Comedy</td>\n",
       "    </tr>\n",
       "    <tr>\n",
       "      <th>6530</th>\n",
       "      <td>54272</td>\n",
       "      <td>Simpsons Movie, The (2007)</td>\n",
       "      <td>Animation|Comedy</td>\n",
       "    </tr>\n",
       "    <tr>\n",
       "      <th>7069</th>\n",
       "      <td>69644</td>\n",
       "      <td>Ice Age: Dawn of the Dinosaurs (2009)</td>\n",
       "      <td>Action|Adventure|Animation|Children|Comedy|Rom...</td>\n",
       "    </tr>\n",
       "    <tr>\n",
       "      <th>7144</th>\n",
       "      <td>71462</td>\n",
       "      <td>Cove, The (2009)</td>\n",
       "      <td>Documentary</td>\n",
       "    </tr>\n",
       "    <tr>\n",
       "      <th>7742</th>\n",
       "      <td>90888</td>\n",
       "      <td>Immortals (2011)</td>\n",
       "      <td>Action|Drama|Fantasy</td>\n",
       "    </tr>\n",
       "  </tbody>\n",
       "</table>\n",
       "</div>"
      ],
      "text/plain": [
       "      movieId                                            title  \\\n",
       "4796     7147                                  Big Fish (2003)   \n",
       "5160     8360                                   Shrek 2 (2004)   \n",
       "5166     8368  Harry Potter and the Prisoner of Azkaban (2004)   \n",
       "5173     8376                         Napoleon Dynamite (2004)   \n",
       "5265     8644                                  I, Robot (2004)   \n",
       "6112    42734                               Hoodwinked! (2005)   \n",
       "6530    54272                       Simpsons Movie, The (2007)   \n",
       "7069    69644            Ice Age: Dawn of the Dinosaurs (2009)   \n",
       "7144    71462                                 Cove, The (2009)   \n",
       "7742    90888                                 Immortals (2011)   \n",
       "\n",
       "                                                 genres  \n",
       "4796                              Drama|Fantasy|Romance  \n",
       "5160  Adventure|Animation|Children|Comedy|Musical|Ro...  \n",
       "5166                             Adventure|Fantasy|IMAX  \n",
       "5173                                             Comedy  \n",
       "5265                   Action|Adventure|Sci-Fi|Thriller  \n",
       "6112                          Animation|Children|Comedy  \n",
       "6530                                   Animation|Comedy  \n",
       "7069  Action|Adventure|Animation|Children|Comedy|Rom...  \n",
       "7144                                        Documentary  \n",
       "7742                               Action|Drama|Fantasy  "
      ]
     },
     "execution_count": 14,
     "metadata": {},
     "output_type": "execute_result"
    }
   ],
   "source": [
    "similar_movie_list = [movie_id for movie_id, score in similar_movies]\n",
    "movies_df[movies_df['movieId'].isin(similar_movie_list)]"
   ]
  },
  {
   "cell_type": "code",
   "execution_count": 15,
   "metadata": {},
   "outputs": [
    {
     "data": {
      "text/html": [
       "<div>\n",
       "<style scoped>\n",
       "    .dataframe tbody tr th:only-of-type {\n",
       "        vertical-align: middle;\n",
       "    }\n",
       "\n",
       "    .dataframe tbody tr th {\n",
       "        vertical-align: top;\n",
       "    }\n",
       "\n",
       "    .dataframe thead th {\n",
       "        text-align: right;\n",
       "    }\n",
       "</style>\n",
       "<table border=\"1\" class=\"dataframe\">\n",
       "  <thead>\n",
       "    <tr style=\"text-align: right;\">\n",
       "      <th></th>\n",
       "      <th>movieId</th>\n",
       "      <th>title</th>\n",
       "      <th>genres</th>\n",
       "    </tr>\n",
       "  </thead>\n",
       "  <tbody>\n",
       "    <tr>\n",
       "      <th>6406</th>\n",
       "      <td>50912</td>\n",
       "      <td>Paris, I Love You (Paris, je t'aime) (2006)</td>\n",
       "      <td>Romance</td>\n",
       "    </tr>\n",
       "    <tr>\n",
       "      <th>6657</th>\n",
       "      <td>56941</td>\n",
       "      <td>P.S. I Love You (2007)</td>\n",
       "      <td>Comedy|Drama|Romance</td>\n",
       "    </tr>\n",
       "  </tbody>\n",
       "</table>\n",
       "</div>"
      ],
      "text/plain": [
       "      movieId                                        title  \\\n",
       "6406    50912  Paris, I Love You (Paris, je t'aime) (2006)   \n",
       "6657    56941                       P.S. I Love You (2007)   \n",
       "\n",
       "                    genres  \n",
       "6406               Romance  \n",
       "6657  Comedy|Drama|Romance  "
      ]
     },
     "execution_count": 15,
     "metadata": {},
     "output_type": "execute_result"
    }
   ],
   "source": [
    "movies_df[movies_df['movieId'].isin([50912, 56941])]"
   ]
  },
  {
   "cell_type": "markdown",
   "metadata": {},
   "source": [
    "#### 2개 이상의 아이템에 대해서는 해당 아이템 벡터들의 element-wise 평균을 구하여 cosine simliarity를 계산합니다"
   ]
  },
  {
   "cell_type": "code",
   "execution_count": 16,
   "metadata": {},
   "outputs": [
    {
     "data": {
      "text/html": [
       "<div>\n",
       "<style scoped>\n",
       "    .dataframe tbody tr th:only-of-type {\n",
       "        vertical-align: middle;\n",
       "    }\n",
       "\n",
       "    .dataframe tbody tr th {\n",
       "        vertical-align: top;\n",
       "    }\n",
       "\n",
       "    .dataframe thead th {\n",
       "        text-align: right;\n",
       "    }\n",
       "</style>\n",
       "<table border=\"1\" class=\"dataframe\">\n",
       "  <thead>\n",
       "    <tr style=\"text-align: right;\">\n",
       "      <th></th>\n",
       "      <th>movieId</th>\n",
       "      <th>title</th>\n",
       "      <th>genres</th>\n",
       "    </tr>\n",
       "  </thead>\n",
       "  <tbody>\n",
       "    <tr>\n",
       "      <th>3159</th>\n",
       "      <td>4248</td>\n",
       "      <td>Josie and the Pussycats (2001)</td>\n",
       "      <td>Comedy</td>\n",
       "    </tr>\n",
       "    <tr>\n",
       "      <th>6457</th>\n",
       "      <td>52319</td>\n",
       "      <td>Inglorious Bastards (Quel maledetto treno blin...</td>\n",
       "      <td>Action|Adventure|Drama|War</td>\n",
       "    </tr>\n",
       "    <tr>\n",
       "      <th>6756</th>\n",
       "      <td>59725</td>\n",
       "      <td>Sex and the City (2008)</td>\n",
       "      <td>Comedy|Romance</td>\n",
       "    </tr>\n",
       "    <tr>\n",
       "      <th>6896</th>\n",
       "      <td>63479</td>\n",
       "      <td>Sex Drive (2008)</td>\n",
       "      <td>Comedy</td>\n",
       "    </tr>\n",
       "    <tr>\n",
       "      <th>7188</th>\n",
       "      <td>72407</td>\n",
       "      <td>Twilight Saga: New Moon, The (2009)</td>\n",
       "      <td>Drama|Fantasy|Horror|Romance|Thriller</td>\n",
       "    </tr>\n",
       "    <tr>\n",
       "      <th>7716</th>\n",
       "      <td>90376</td>\n",
       "      <td>We Need to Talk About Kevin (2011)</td>\n",
       "      <td>Drama|Thriller</td>\n",
       "    </tr>\n",
       "    <tr>\n",
       "      <th>7988</th>\n",
       "      <td>96821</td>\n",
       "      <td>Perks of Being a Wallflower, The (2012)</td>\n",
       "      <td>Drama|Romance</td>\n",
       "    </tr>\n",
       "    <tr>\n",
       "      <th>8433</th>\n",
       "      <td>111659</td>\n",
       "      <td>Maleficent (2014)</td>\n",
       "      <td>Action|Adventure|Children|IMAX</td>\n",
       "    </tr>\n",
       "    <tr>\n",
       "      <th>8994</th>\n",
       "      <td>139642</td>\n",
       "      <td>Southpaw (2015)</td>\n",
       "      <td>Action|Drama</td>\n",
       "    </tr>\n",
       "    <tr>\n",
       "      <th>9009</th>\n",
       "      <td>140174</td>\n",
       "      <td>Room (2015)</td>\n",
       "      <td>Drama</td>\n",
       "    </tr>\n",
       "  </tbody>\n",
       "</table>\n",
       "</div>"
      ],
      "text/plain": [
       "      movieId                                              title  \\\n",
       "3159     4248                     Josie and the Pussycats (2001)   \n",
       "6457    52319  Inglorious Bastards (Quel maledetto treno blin...   \n",
       "6756    59725                            Sex and the City (2008)   \n",
       "6896    63479                                   Sex Drive (2008)   \n",
       "7188    72407                Twilight Saga: New Moon, The (2009)   \n",
       "7716    90376                 We Need to Talk About Kevin (2011)   \n",
       "7988    96821            Perks of Being a Wallflower, The (2012)   \n",
       "8433   111659                                  Maleficent (2014)   \n",
       "8994   139642                                    Southpaw (2015)   \n",
       "9009   140174                                        Room (2015)   \n",
       "\n",
       "                                     genres  \n",
       "3159                                 Comedy  \n",
       "6457             Action|Adventure|Drama|War  \n",
       "6756                         Comedy|Romance  \n",
       "6896                                 Comedy  \n",
       "7188  Drama|Fantasy|Horror|Romance|Thriller  \n",
       "7716                         Drama|Thriller  \n",
       "7988                          Drama|Romance  \n",
       "8433         Action|Adventure|Children|IMAX  \n",
       "8994                           Action|Drama  \n",
       "9009                                  Drama  "
      ]
     },
     "execution_count": 16,
     "metadata": {},
     "output_type": "execute_result"
    }
   ],
   "source": [
    "topn = 10\n",
    "positive_list = ['50912', '56941']\n",
    "similar_movie_list = [movie_id for movie_id, score in model.wv.most_similar(positive=positive_list, topn=topn)]\n",
    "movies_df[movies_df['movieId'].isin(similar_movie_list)]"
   ]
  },
  {
   "cell_type": "markdown",
   "metadata": {},
   "source": [
    "## 02. 유저에게 아이템 추천\n",
    "- 유저에게 추천을 수행할 때는 사용자가 선호했던 아이템을 positive_list로 사용합니다.\n",
    "- 이 때 모델 하이퍼파라미터와 min_count로 인해 word2vec 모델 학습이 안된 아이템은 제외해줍니다."
   ]
  },
  {
   "cell_type": "code",
   "execution_count": 17,
   "metadata": {},
   "outputs": [],
   "source": [
    "_df = train_df[train_df['liked'] == 1]\n",
    "_df = _df[_df.movieId.isin(model.wv.index_to_key)]\n",
    "user_liked_train_movies = _df.groupby('userId').agg({'movieId': lambda x: x.tolist()})['movieId'].to_dict()"
   ]
  },
  {
   "cell_type": "code",
   "execution_count": 18,
   "metadata": {},
   "outputs": [],
   "source": [
    "_df = test_df[test_df['liked'] == 1]\n",
    "user_liked_test_movies = _df.groupby('userId').agg({'movieId': lambda x: x.tolist()})['movieId'].to_dict()"
   ]
  },
  {
   "cell_type": "markdown",
   "metadata": {},
   "source": [
    "### 전체 유저에 대해서 추천을 수행합니다."
   ]
  },
  {
   "cell_type": "code",
   "execution_count": 19,
   "metadata": {},
   "outputs": [
    {
     "name": "stdout",
     "output_type": "stream",
     "text": [
      "precision@k: 0.0680532445923461\n",
      "recall@k: 0.1559130281343443\n",
      "cold_start_user: 0\n"
     ]
    }
   ],
   "source": [
    "topn = 20\n",
    "precisions = []\n",
    "recalls = []\n",
    "cold_start = 0\n",
    "\n",
    "for user_id, liked_items in user_liked_test_movies.items():\n",
    "    \n",
    "    if user_id in user_liked_train_movies:\n",
    "        # test 데이터에서 선호한 아이템\n",
    "        relevant = liked_items\n",
    "        \n",
    "        # train 데이터에서 선호한 아이템 리스트를 사용하여\n",
    "        # Item2Vec 모델을 통해 추천 아이템을 생성합니다.\n",
    "        \n",
    "        train_liked_items = user_liked_train_movies[user_id]\n",
    "        recommend = [movie_id for movie_id, score in model.wv.most_similar(positive = train_liked_items, topn=topn)]\n",
    "    \n",
    "    # test 데이터의 유저가 train에 없는 경우에는 건너뜁니다.\n",
    "    else:\n",
    "        cold_start += 1\n",
    "        continue\n",
    "        \n",
    "    intersect = set(relevant).intersection(set(recommend))\n",
    "    precision = len(intersect) / len(recommend)\n",
    "    recall = len(intersect) / len(relevant)\n",
    "    \n",
    "    precisions.append(precision)\n",
    "    recalls.append(recall)\n",
    "    \n",
    "print(\"precision@k:\", np.mean(np.asarray(precisions)))\n",
    "print(\"recall@k:\", np.mean(np.asarray(recalls)))\n",
    "print(\"cold_start_user:\", cold_start)"
   ]
  }
 ],
 "metadata": {
  "kernelspec": {
   "display_name": "Python 3",
   "language": "python",
   "name": "python3"
  },
  "language_info": {
   "codemirror_mode": {
    "name": "ipython",
    "version": 3
   },
   "file_extension": ".py",
   "mimetype": "text/x-python",
   "name": "python",
   "nbconvert_exporter": "python",
   "pygments_lexer": "ipython3",
   "version": "3.7.6"
  }
 },
 "nbformat": 4,
 "nbformat_minor": 2
}
