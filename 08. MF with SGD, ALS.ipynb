{
 "cells": [
  {
   "cell_type": "markdown",
   "metadata": {},
   "source": [
    "## 00. 환경설정"
   ]
  },
  {
   "cell_type": "code",
   "execution_count": 1,
   "metadata": {},
   "outputs": [],
   "source": [
    "import os\n",
    "import pandas as pd\n",
    "import seaborn as sns\n",
    "import scipy\n",
    "import numpy as np\n",
    "import random\n",
    "from matplotlib import pyplot as plt\n",
    "from datetime import datetime\n",
    "from tqdm import tqdm\n",
    "%matplotlib inline\n",
    "\n",
    "from surprise import KNNBasic, KNNWithMeans, SVD\n",
    "from surprise.model_selection.validation import cross_validate\n",
    "\n",
    "from IPython.display import Image\n",
    "\n",
    "import warnings\n",
    "warnings.filterwarnings(\"ignore\")"
   ]
  },
  {
   "cell_type": "markdown",
   "metadata": {},
   "source": [
    "## 01. Matrix Factorization 구현\n",
    "- SGD 최적화를 이용하여 MF 모델의 파라미터를 업데이트한다"
   ]
  },
  {
   "cell_type": "code",
   "execution_count": 2,
   "metadata": {},
   "outputs": [
    {
     "data": {
      "text/html": [
       "<div>\n",
       "<style scoped>\n",
       "    .dataframe tbody tr th:only-of-type {\n",
       "        vertical-align: middle;\n",
       "    }\n",
       "\n",
       "    .dataframe tbody tr th {\n",
       "        vertical-align: top;\n",
       "    }\n",
       "\n",
       "    .dataframe thead th {\n",
       "        text-align: right;\n",
       "    }\n",
       "</style>\n",
       "<table border=\"1\" class=\"dataframe\">\n",
       "  <thead>\n",
       "    <tr style=\"text-align: right;\">\n",
       "      <th></th>\n",
       "      <th>userId</th>\n",
       "      <th>movieId</th>\n",
       "      <th>rating</th>\n",
       "      <th>timestamp</th>\n",
       "    </tr>\n",
       "  </thead>\n",
       "  <tbody>\n",
       "    <tr>\n",
       "      <th>0</th>\n",
       "      <td>1</td>\n",
       "      <td>1</td>\n",
       "      <td>4.0</td>\n",
       "      <td>964982703</td>\n",
       "    </tr>\n",
       "    <tr>\n",
       "      <th>1</th>\n",
       "      <td>1</td>\n",
       "      <td>3</td>\n",
       "      <td>4.0</td>\n",
       "      <td>964981247</td>\n",
       "    </tr>\n",
       "    <tr>\n",
       "      <th>2</th>\n",
       "      <td>1</td>\n",
       "      <td>6</td>\n",
       "      <td>4.0</td>\n",
       "      <td>964982224</td>\n",
       "    </tr>\n",
       "    <tr>\n",
       "      <th>3</th>\n",
       "      <td>1</td>\n",
       "      <td>47</td>\n",
       "      <td>5.0</td>\n",
       "      <td>964983815</td>\n",
       "    </tr>\n",
       "    <tr>\n",
       "      <th>4</th>\n",
       "      <td>1</td>\n",
       "      <td>50</td>\n",
       "      <td>5.0</td>\n",
       "      <td>964982931</td>\n",
       "    </tr>\n",
       "    <tr>\n",
       "      <th>...</th>\n",
       "      <td>...</td>\n",
       "      <td>...</td>\n",
       "      <td>...</td>\n",
       "      <td>...</td>\n",
       "    </tr>\n",
       "    <tr>\n",
       "      <th>100831</th>\n",
       "      <td>610</td>\n",
       "      <td>166534</td>\n",
       "      <td>4.0</td>\n",
       "      <td>1493848402</td>\n",
       "    </tr>\n",
       "    <tr>\n",
       "      <th>100832</th>\n",
       "      <td>610</td>\n",
       "      <td>168248</td>\n",
       "      <td>5.0</td>\n",
       "      <td>1493850091</td>\n",
       "    </tr>\n",
       "    <tr>\n",
       "      <th>100833</th>\n",
       "      <td>610</td>\n",
       "      <td>168250</td>\n",
       "      <td>5.0</td>\n",
       "      <td>1494273047</td>\n",
       "    </tr>\n",
       "    <tr>\n",
       "      <th>100834</th>\n",
       "      <td>610</td>\n",
       "      <td>168252</td>\n",
       "      <td>5.0</td>\n",
       "      <td>1493846352</td>\n",
       "    </tr>\n",
       "    <tr>\n",
       "      <th>100835</th>\n",
       "      <td>610</td>\n",
       "      <td>170875</td>\n",
       "      <td>3.0</td>\n",
       "      <td>1493846415</td>\n",
       "    </tr>\n",
       "  </tbody>\n",
       "</table>\n",
       "<p>100836 rows × 4 columns</p>\n",
       "</div>"
      ],
      "text/plain": [
       "        userId  movieId  rating   timestamp\n",
       "0            1        1     4.0   964982703\n",
       "1            1        3     4.0   964981247\n",
       "2            1        6     4.0   964982224\n",
       "3            1       47     5.0   964983815\n",
       "4            1       50     5.0   964982931\n",
       "...        ...      ...     ...         ...\n",
       "100831     610   166534     4.0  1493848402\n",
       "100832     610   168248     5.0  1493850091\n",
       "100833     610   168250     5.0  1494273047\n",
       "100834     610   168252     5.0  1493846352\n",
       "100835     610   170875     3.0  1493846415\n",
       "\n",
       "[100836 rows x 4 columns]"
      ]
     },
     "execution_count": 2,
     "metadata": {},
     "output_type": "execute_result"
    }
   ],
   "source": [
    "ratings_df = pd.read_csv(\"../data/ml-latest-small/ratings.csv\", encoding='utf-8')\n",
    "ratings_df"
   ]
  },
  {
   "cell_type": "code",
   "execution_count": 3,
   "metadata": {},
   "outputs": [
    {
     "data": {
      "text/plain": [
       "<matplotlib.axes._subplots.AxesSubplot at 0x20b121025c8>"
      ]
     },
     "execution_count": 3,
     "metadata": {},
     "output_type": "execute_result"
    },
    {
     "data": {
      "image/png": "[encoded data removed]",
      "text/plain": [
       "<Figure size 432x288 with 1 Axes>"
      ]
     },
     "metadata": {
      "needs_background": "light"
     },
     "output_type": "display_data"
    }
   ],
   "source": [
    "sns.distplot(ratings_df['rating'])"
   ]
  },
  {
   "cell_type": "markdown",
   "metadata": {},
   "source": [
    "### 학습 데이터, 하이퍼 파라미터 initialize"
   ]
  },
  {
   "cell_type": "code",
   "execution_count": 4,
   "metadata": {},
   "outputs": [],
   "source": [
    "# 유저-아이템의 Rating 매트릭스\n",
    "user_item_matrix = ratings_df.pivot_table(\"rating\", \"userId\", 'movieId').fillna(0)\n",
    "\n",
    "# numpy 형태로 변환\n",
    "R = user_item_matrix.to_numpy()\n",
    "\n",
    "# 잠재 요인의 수\n",
    "K = 20\n",
    "learning_rate = 0.01\n",
    "\n",
    "# l2 정규화 파라미터\n",
    "regularization = 0.2\n",
    "\n",
    "# 학습 데이터의 반복 횟수\n",
    "iterations = 20\n",
    "\n",
    "num_users, num_items = user_item_matrix.shape"
   ]
  },
  {
   "cell_type": "markdown",
   "metadata": {},
   "source": [
    "### 학습 파라미터 initialize"
   ]
  },
  {
   "cell_type": "code",
   "execution_count": 5,
   "metadata": {},
   "outputs": [],
   "source": [
    "# 평균이 0, 표준편차는 1/K로 랜덤하게 initialize\n",
    "P = np.random.normal(scale = 1./K, size=(num_users, K))\n",
    "Q = np.random.normal(scale = 1./K, size=(num_items, K))\n",
    "\n",
    "# Initialize the biases\n",
    "# 유저별 bias\n",
    "b_u = np.zeros(num_users)\n",
    "\n",
    "# 아이템별 bias\n",
    "b_i = np.zeros(num_items)\n",
    "\n",
    "# 전체 bias\n",
    "b = np.mean(R[np.where(R != 0)])"
   ]
  },
  {
   "cell_type": "code",
   "execution_count": 6,
   "metadata": {},
   "outputs": [
    {
     "data": {
      "text/plain": [
       "(610, 9724)"
      ]
     },
     "execution_count": 6,
     "metadata": {},
     "output_type": "execute_result"
    }
   ],
   "source": [
    "R.shape"
   ]
  },
  {
   "cell_type": "markdown",
   "metadata": {},
   "source": [
    "### 학습 데이터 구성\n",
    "- 실제 평가를 내린 데이터만 학습에 사용함"
   ]
  },
  {
   "cell_type": "code",
   "execution_count": 7,
   "metadata": {},
   "outputs": [],
   "source": [
    "samples = [(i, j, R[i, j]) for i in range(num_users) for j in range(num_items) if R[i, j] > 0]"
   ]
  },
  {
   "cell_type": "markdown",
   "metadata": {},
   "source": [
    "- 총 학습 데이터 사이즈"
   ]
  },
  {
   "cell_type": "code",
   "execution_count": 8,
   "metadata": {},
   "outputs": [
    {
     "data": {
      "text/plain": [
       "100836"
      ]
     },
     "execution_count": 8,
     "metadata": {},
     "output_type": "execute_result"
    }
   ],
   "source": [
    "len(samples)"
   ]
  },
  {
   "cell_type": "markdown",
   "metadata": {},
   "source": [
    "### SGD를 활용한 파라미터 업데이트"
   ]
  },
  {
   "cell_type": "markdown",
   "metadata": {},
   "source": [
    "- Parameter Update\n",
    "![ab](https://i.ibb.co/QCgV5Ys/svd-sgd.png)"
   ]
  },
  {
   "cell_type": "code",
   "execution_count": 9,
   "metadata": {},
   "outputs": [
    {
     "name": "stdout",
     "output_type": "stream",
     "text": [
      "1 0.8985076095560088\n",
      "2 0.8767818798319986\n",
      "3 0.8646634286524926\n",
      "4 0.8574577657899166\n",
      "5 0.8512418143350183\n",
      "6 0.8464153437723833\n",
      "7 0.8437287263911325\n",
      "8 0.8401694267334513\n",
      "9 0.8378809686168452\n",
      "10 0.8348362479769528\n",
      "11 0.8328189670186613\n",
      "12 0.831432361999392\n",
      "13 0.8287099317241761\n",
      "14 0.8282899406788337\n",
      "15 0.8263952894590282\n",
      "16 0.8244698706894156\n",
      "17 0.8236359103608241\n",
      "18 0.8232049663362809\n",
      "19 0.8212657765542805\n",
      "20 0.8207961066513243\n"
     ]
    }
   ],
   "source": [
    "training_result = []\n",
    "\n",
    "for epoch in range(iterations):\n",
    "    \n",
    "    # 학습 데이터 순서를 셔플링\n",
    "    np.random.shuffle(samples)\n",
    "    \n",
    "    for i, j, r in samples:\n",
    "        \n",
    "        # 현재 주어진 파라미터로 predicted rating을 구함\n",
    "        prediction = b + b_u[i] + b_i[j] + P[i, :].dot(Q[j, :].T)\n",
    "        \n",
    "        # 실제 rating과 predicted rating의 차이가 error\n",
    "        e = (r - prediction)\n",
    "        \n",
    "        # 유저, 아이템 bias 파라미터를 업데이트\n",
    "        b_u[i] += learning_rate * (e - regularization * b_u[i])\n",
    "        b_i[j] += learning_rate * (e - regularization * b_i[j])\n",
    "        \n",
    "        # 유저, 아이템 잠재 행렬 파라미터를 업데이트\n",
    "        P[i, :] += learning_rate * (e * Q[j, :] - regularization * P[i, :])\n",
    "        Q[j, :] += learning_rate * (e * P[i, :] - regularization * Q[j, :])\n",
    "        \n",
    "    # 학습이 모두 끝나고 학습 데이터를 활용해 training loss를 구합니다.\n",
    "    ut, it = R.nonzero()\n",
    "    predicted_R = b + b_u[:, np.newaxis] + b_i[np.newaxis, :] + P.dot(Q.T) # add new axis, dimension 1 => 2\n",
    "    error = []\n",
    "    \n",
    "    for x, y in zip(ut, it):\n",
    "        error.append(pow(R[x, y] - predicted_R[x, y], 2))\n",
    "    rmse = np.sqrt(np.asarray(error).mean())\n",
    "    print(epoch + 1, rmse)\n",
    "    training_result.append([epoch + 1, rmse])\n",
    "    \n",
    "traing_result_pd = pd.DataFrame(training_result, columns = ['iteration', 'rmse'])"
   ]
  },
  {
   "cell_type": "markdown",
   "metadata": {},
   "source": [
    "## 02. MF with Class"
   ]
  },
  {
   "cell_type": "code",
   "execution_count": 10,
   "metadata": {},
   "outputs": [],
   "source": [
    "import numpy as np\n",
    "\n",
    "# 위에서 구한 MF를 SGD로 학습하는 것을 class 형태로 만듦\n",
    "\n",
    "class MF():\n",
    "\n",
    "    def __init__(self, R, K, learning_rate, regularization, iterations):\n",
    "        \"\"\"\n",
    "        Arguments\n",
    "        - R (ndarray)             : 유저 아이템 매트릭스\n",
    "        - K (int)                 : latent factor 차원\n",
    "        - learning_rate (float)   : learning rate\n",
    "        - regularization (float)  : regularization parameter\n",
    "        \"\"\"\n",
    "        self.R = R\n",
    "        self.num_users, self.num_items = R.shape\n",
    "        self.K = K\n",
    "        self.learning_rate = learning_rate\n",
    "        self.regularization = regularization\n",
    "        self.iterations = iterations\n",
    "\n",
    "    def train(self):\n",
    "        \n",
    "        # 유저, 아이템 잠재 요인 행렬 초기화\n",
    "        self.P = np.random.normal(scale=1./self.K, size=(self.num_users, self.K))\n",
    "        self.Q = np.random.normal(scale=1./self.K, size=(self.num_items, self.K))\n",
    "\n",
    "        # 유저, 아이템, 글로벌 bias 초기화\n",
    "        self.b_u = np.zeros(self.num_users)\n",
    "        self.b_i = np.zeros(self.num_items)\n",
    "        self.b = np.mean(self.R[np.where(self.R != 0)])\n",
    "\n",
    "        # 학습 데이터 생성\n",
    "        self.samples = [\n",
    "            (i, j, self.R[i, j])\n",
    "            for i in range(self.num_users)\n",
    "            for j in range(self.num_items)\n",
    "            if self.R[i, j] > 0\n",
    "        ]\n",
    "\n",
    "        # iteration 개수만큼 전체 데이터에 대해서 SGD 수행\n",
    "        training_process = []\n",
    "        for i in range(self.iterations):\n",
    "            np.random.shuffle(self.samples)\n",
    "            self.sgd()\n",
    "            rmse = self.rmse()\n",
    "            training_process.append((i, rmse))\n",
    "            if (i+1) % 10 == 0:\n",
    "                print(\"Iteration: %d, error = %.4f\" % (i+1, rmse))\n",
    "\n",
    "        return pd.DataFrame(training_process, columns = ['iteration', 'rmse'])\n",
    "\n",
    "    def rmse(self):\n",
    "        \"\"\"\n",
    "        전체 학습 데이터에 대한 rmse 계산\n",
    "        \"\"\"\n",
    "        ut, it = self.R.nonzero()\n",
    "        predicted_R = self.full_matrix()\n",
    "        error = []\n",
    "        for x, y in zip(ut, it):\n",
    "            error.append(pow(R[x, y] - predicted_R[x, y], 2))\n",
    "        return np.sqrt(np.asarray(error).mean())\n",
    "\n",
    "    def sgd(self):\n",
    "        \"\"\"\n",
    "        sgd로 파라미터 업데이트가 되는 함수\n",
    "        \"\"\"\n",
    "        for i, j, r in self.samples:\n",
    "            # 실제 rating과 predicted rating을 구하고 error를 구함\n",
    "            prediction = self.get_rating(i, j)\n",
    "            e = (r - prediction)\n",
    "\n",
    "            # bias 업데이트\n",
    "            self.b_u[i] += self.learning_rate * (e - self.regularization * self.b_u[i])\n",
    "            self.b_i[j] += self.learning_rate * (e - self.regularization * self.b_i[j])\n",
    "\n",
    "            # 유저, 아이템 잠재 요인 행렬 업데이트\n",
    "            self.P[i, :] += self.learning_rate * (e * self.Q[j, :] - self.regularization * self.P[i,:])\n",
    "            self.Q[j, :] += self.learning_rate * (e * self.P[i, :] - self.regularization * self.Q[j,:])\n",
    "\n",
    "    def get_rating(self, i, j):\n",
    "        \"\"\"\n",
    "        유저 i, 아이템 j에 대한 예측 평점\n",
    "        \"\"\"\n",
    "        prediction = self.b + self.b_u[i] + self.b_i[j] + self.P[i, :].dot(self.Q[j, :].T)\n",
    "        return prediction\n",
    "\n",
    "    def full_matrix(self):\n",
    "        \"\"\"\n",
    "        예측된 유저 아이템 매트릭스를 계산 Rhat\n",
    "        \"\"\"\n",
    "        return self.b + self.b_u[:,np.newaxis] + self.b_i[np.newaxis:,] + self.P.dot(self.Q.T)"
   ]
  },
  {
   "cell_type": "markdown",
   "metadata": {},
   "source": [
    "#### 주어진 유저-아이템 매트릭스"
   ]
  },
  {
   "cell_type": "code",
   "execution_count": 11,
   "metadata": {},
   "outputs": [],
   "source": [
    "R = np.array([\n",
    "    [5, 3, 0, 1],\n",
    "    [4, 0, 0, 1],\n",
    "    [1, 1, 0, 5],\n",
    "    [1, 0, 0, 4],\n",
    "    [0, 1, 5, 4],\n",
    "])\n",
    "\n",
    "mf = MF(R, K=2, learning_rate=0.1, regularization=0.01, iterations=30)"
   ]
  },
  {
   "cell_type": "markdown",
   "metadata": {},
   "source": [
    "#### MF 모델 학습"
   ]
  },
  {
   "cell_type": "code",
   "execution_count": 12,
   "metadata": {},
   "outputs": [
    {
     "name": "stdout",
     "output_type": "stream",
     "text": [
      "Iteration: 10, error = 0.0691\n",
      "Iteration: 20, error = 0.0128\n",
      "Iteration: 30, error = 0.0104\n"
     ]
    }
   ],
   "source": [
    "train_result_df = mf.train()"
   ]
  },
  {
   "cell_type": "markdown",
   "metadata": {},
   "source": [
    "#### 예측 매트릭스"
   ]
  },
  {
   "cell_type": "code",
   "execution_count": 13,
   "metadata": {},
   "outputs": [
    {
     "data": {
      "text/plain": [
       "array([[4.98216574, 3.00148616, 3.12893148, 1.01203491],\n",
       "       [3.99472109, 2.39797629, 2.72437338, 1.01210592],\n",
       "       [1.00763819, 1.00567955, 4.98663646, 4.98650283],\n",
       "       [1.00864123, 1.15959422, 3.84891291, 3.99471856],\n",
       "       [1.96237706, 1.0159439 , 4.98871176, 3.99853666]])"
      ]
     },
     "execution_count": 13,
     "metadata": {},
     "output_type": "execute_result"
    }
   ],
   "source": [
    "mf.full_matrix()"
   ]
  },
  {
   "cell_type": "markdown",
   "metadata": {},
   "source": [
    "## 03. 무비렌즈 데이터로 학습"
   ]
  },
  {
   "cell_type": "code",
   "execution_count": 14,
   "metadata": {},
   "outputs": [],
   "source": [
    "user_item_matrix = ratings_df.pivot_table('rating', 'userId', 'movieId').fillna(0)\n",
    "R = user_item_matrix.to_numpy()\n",
    "K = 20\n",
    "learning_rate = 0.01\n",
    "regularization = 0.2\n",
    "\n",
    "mf = MF(R, K, learning_rate, regularization, iterations=30)"
   ]
  },
  {
   "cell_type": "code",
   "execution_count": 15,
   "metadata": {},
   "outputs": [
    {
     "name": "stdout",
     "output_type": "stream",
     "text": [
      "Iteration: 10, error = 0.8351\n",
      "Iteration: 20, error = 0.8202\n",
      "Iteration: 30, error = 0.8131\n"
     ]
    }
   ],
   "source": [
    "train_result_df = mf.train()"
   ]
  },
  {
   "cell_type": "code",
   "execution_count": 16,
   "metadata": {},
   "outputs": [
    {
     "data": {
      "image/png": "[encoded data removed]",
      "text/plain": [
       "<Figure size 576x288 with 1 Axes>"
      ]
     },
     "metadata": {
      "needs_background": "light"
     },
     "output_type": "display_data"
    }
   ],
   "source": [
    "# iteration에 따른 training loss\n",
    "\n",
    "x = train_result_df.iteration.values + 1\n",
    "y = train_result_df.rmse.values\n",
    "plt.figure(figsize=((8,4)))\n",
    "plt.plot(x, y)\n",
    "plt.xticks(x, x)\n",
    "plt.xlabel(\"Iterations\")\n",
    "plt.ylabel(\"RMSE\")\n",
    "plt.grid(axis=\"y\")"
   ]
  },
  {
   "cell_type": "markdown",
   "metadata": {},
   "source": [
    "## 04. Matrix Factorization의 ALS 구현\n",
    "1. 초기 사용자, 아이템 행렬을 초기화\n",
    "2. 아이템 행렬을 고정하고 사용자 행렬을 최적화\n",
    "3. 사용자 행렬을 고정하고 아이템 행렬을 최적화\n",
    "4. 2, 3의 과정을 반복"
   ]
  },
  {
   "cell_type": "markdown",
   "metadata": {},
   "source": [
    "### 유저-아이템 행렬"
   ]
  },
  {
   "cell_type": "code",
   "execution_count": 17,
   "metadata": {},
   "outputs": [],
   "source": [
    "R = np.array([\n",
    "        [1, 0, 0, 1, 3],\n",
    "        [2, 0, 3, 1, 1],\n",
    "        [1, 2, 0, 5, 0],\n",
    "        [1, 0, 0, 4, 4],\n",
    "        [2, 1, 5, 4, 0],\n",
    "        [5, 1, 5, 4, 0],\n",
    "        [0, 0, 0, 1, 0], ])"
   ]
  },
  {
   "cell_type": "markdown",
   "metadata": {},
   "source": [
    "### 학습 데이터, 하이퍼 파라미터 초기화"
   ]
  },
  {
   "cell_type": "code",
   "execution_count": 18,
   "metadata": {},
   "outputs": [],
   "source": [
    "# 잠재요인 개수\n",
    "k = 5\n",
    "\n",
    "# l2 하이퍼파라미터\n",
    "regularization = 0.01\n",
    "\n",
    "num_users, num_items = R.shape\n",
    "\n",
    "# ALS 업데이트 횟수 - SGD보다 많다\n",
    "iterations = 100"
   ]
  },
  {
   "cell_type": "markdown",
   "metadata": {},
   "source": [
    "### 유저, 아이템 잠재요인 매트릭스"
   ]
  },
  {
   "cell_type": "code",
   "execution_count": 19,
   "metadata": {},
   "outputs": [],
   "source": [
    "users = np.random.normal(scale=1./k, size=(num_users, k))\n",
    "items = np.random.normal(scale=1./k, size=(num_items, k))"
   ]
  },
  {
   "cell_type": "code",
   "execution_count": 20,
   "metadata": {},
   "outputs": [
    {
     "data": {
      "text/plain": [
       "(5, 5)"
      ]
     },
     "execution_count": 20,
     "metadata": {},
     "output_type": "execute_result"
    }
   ],
   "source": [
    "items.shape"
   ]
  },
  {
   "cell_type": "markdown",
   "metadata": {},
   "source": [
    "### ALS 업데이트 수식\n",
    "![수식](https://i.ibb.co/Csh6Yb0/2021-06-25-10-50-03.png)"
   ]
  },
  {
   "cell_type": "markdown",
   "metadata": {},
   "source": [
    "#### iteration마다 위에 있는 수식을 활용해 유저, 아이템을 업데이트 한다.\n",
    "[참고](https://numpy.org/doc/stable/reference/generated/numpy.linalg.solve.html)"
   ]
  },
  {
   "cell_type": "code",
   "execution_count": 21,
   "metadata": {},
   "outputs": [
    {
     "name": "stdout",
     "output_type": "stream",
     "text": [
      "Iteration: 10, cost = 0.0012\n",
      "Iteration: 20, cost = 0.0014\n",
      "Iteration: 30, cost = 0.0015\n",
      "Iteration: 40, cost = 0.0017\n",
      "Iteration: 50, cost = 0.0019\n",
      "Iteration: 60, cost = 0.0020\n",
      "Iteration: 70, cost = 0.0021\n",
      "Iteration: 80, cost = 0.0023\n",
      "Iteration: 90, cost = 0.0024\n",
      "Iteration: 100, cost = 0.0025\n"
     ]
    }
   ],
   "source": [
    "training_process = []\n",
    "\n",
    "for epoch in range(iterations):\n",
    "    for i, Ri in enumerate(R):\n",
    "        users[i] = np.linalg.solve(np.dot(items.T, items) + regularization * np.eye(k), \\\n",
    "                                  np.dot(items.T, R[i].T)).T\n",
    "        \n",
    "    for j, Rj in enumerate(R.T):\n",
    "        items[j] = np.linalg.solve(np.dot(users.T, users) + regularization * np.eye(k), \\\n",
    "                                  np.dot(users.T, R[:, j]))\n",
    "        \n",
    "    cost = 0\n",
    "    xi, yi = R.nonzero()\n",
    "    \n",
    "    for x, y in zip(xi, yi):\n",
    "        cost += pow(R[x, y] - users[x, :].dot(items[y, :].T), 2)\n",
    "        \n",
    "    cost = np.sqrt(cost / len(xi))\n",
    "    training_process.append((epoch, cost))\n",
    "    \n",
    "    if (epoch + 1) % 10 == 0:\n",
    "        print(\"Iteration: %d, cost = %.4f\" % (epoch+1, cost))"
   ]
  },
  {
   "cell_type": "code",
   "execution_count": 22,
   "metadata": {},
   "outputs": [
    {
     "data": {
      "text/plain": [
       "array([[1, 0, 0, 1, 3],\n",
       "       [2, 0, 3, 1, 1],\n",
       "       [1, 2, 0, 5, 0],\n",
       "       [1, 0, 0, 4, 4],\n",
       "       [2, 1, 5, 4, 0],\n",
       "       [5, 1, 5, 4, 0],\n",
       "       [0, 0, 0, 1, 0]])"
      ]
     },
     "execution_count": 22,
     "metadata": {},
     "output_type": "execute_result"
    }
   ],
   "source": [
    "R"
   ]
  },
  {
   "cell_type": "code",
   "execution_count": 23,
   "metadata": {},
   "outputs": [
    {
     "data": {
      "text/plain": [
       "array([[ 9.98975638e-01, -4.69085255e-03, -9.39086723e-07,\n",
       "         1.00240683e+00,  2.99618917e+00],\n",
       "       [ 1.99991549e+00, -9.89489528e-04,  2.99831551e+00,\n",
       "         1.00142440e+00,  9.98392956e-01],\n",
       "       [ 9.99889331e-01,  1.99527754e+00,  1.76498836e-03,\n",
       "         4.99844281e+00,  9.11066701e-04],\n",
       "       [ 1.00061424e+00,  4.51013653e-03,  6.62001072e-04,\n",
       "         3.99749804e+00,  3.99837385e+00],\n",
       "       [ 2.00470453e+00,  9.99196095e-01,  4.99602129e+00,\n",
       "         3.99901825e+00, -4.19181670e-04],\n",
       "       [ 4.99483720e+00,  1.00156207e+00,  5.00127110e+00,\n",
       "         4.00001202e+00,  1.57554721e-03],\n",
       "       [ 3.31383008e-04,  4.13530988e-03,  4.67461959e-04,\n",
       "         9.97899755e-01,  1.37872304e-03]])"
      ]
     },
     "execution_count": 23,
     "metadata": {},
     "output_type": "execute_result"
    }
   ],
   "source": [
    "R_hat = users.dot(items.T)\n",
    "R_hat"
   ]
  },
  {
   "cell_type": "markdown",
   "metadata": {},
   "source": [
    "## 05. ALS 클래스 구현"
   ]
  },
  {
   "cell_type": "code",
   "execution_count": 24,
   "metadata": {},
   "outputs": [],
   "source": [
    "import numpy as np\n",
    "from tqdm import tqdm_notebook as tqdm\n",
    "\n",
    "class AlternatingLeastSquares():\n",
    "    def __init__(self, R, k, regularization, iterations, verbose=False):\n",
    "        \"\"\"\n",
    "        Arguments\n",
    "        - R (ndarray)             : 유저 아이템 매트릭스\n",
    "        - k (int)                 : latent factor 차원\n",
    "        - reg_param (float)       : regularization parameter\n",
    "        - epochs (int)            : als로 파라미터 업데이트를 수행하는 횟수\n",
    "        - verbose (boolean)       : 학습 과정의 status print 옵션\n",
    "        \"\"\"\n",
    "        self.R = R\n",
    "        self.num_users, self.num_items = R.shape\n",
    "        self.k = k\n",
    "        self.regularization = regularization\n",
    "        self.iterations = iterations\n",
    "        self.verbose = verbose\n",
    "\n",
    "\n",
    "    def fit(self):\n",
    "\n",
    "        # 유저, 아이템 매트릭스를 초기화\n",
    "        self.users = np.random.normal(scale=1./k, size=(self.num_users, self.k))\n",
    "        self.items = np.random.normal(scale=1./k, size=(self.num_items, self.k))\n",
    "\n",
    "        # iteration 개수만큼 ALS를 수행하여 유저, 아이템 파라미터를 업데이트함\n",
    "        self._training_process = [] \n",
    "        for iteration in range(self.iterations):\n",
    "            for i, Ri in enumerate(self.R):\n",
    "                self.users[i] = self.user_latent(i, Ri)\n",
    "\n",
    "            for j, Rj in enumerate(self.R.T):\n",
    "                self.items[j] = self.item_latent(j, Rj)\n",
    "            \n",
    "            # iteration 수행이 끝날때마다 training loss를 계산함\n",
    "            cost = self.cost()\n",
    "            self._training_process.append((iteration, cost))\n",
    "\n",
    "            # 10번째마다 loss를 출력하는 옵션\n",
    "            if self.verbose == True and ((iteration + 1) % 10 == 0):\n",
    "                print(\"Iteration: %d, cost = %.4f\" % (iteration + 1, cost))\n",
    "\n",
    "    def cost(self):\n",
    "        \"\"\"\n",
    "        학습 데이터 전체의 rmse 계산\n",
    "        \"\"\"\n",
    "        xi, yi = self.R.nonzero()\n",
    "        cost = 0\n",
    "        for x, y in zip(xi, yi):\n",
    "            cost += pow(self.R[x, y] - self.get_prediction(x, y), 2)\n",
    "        return np.sqrt(cost/len(xi))\n",
    "\n",
    "\n",
    "    def user_latent(self, i, Ri):\n",
    "        \"\"\"\n",
    "        유저 i에 대한 유저 벡터 업데이트\n",
    "        \"\"\"\n",
    "\n",
    "        du = np.linalg.solve(np.dot(self.items.T, self.items) + self.regularization * np.eye(self.k),\n",
    "                                   np.dot(self.items.T, self.R[i].T)).T\n",
    "        return du\n",
    "\n",
    "    def item_latent(self, j, Rj):\n",
    "        \"\"\"\n",
    "        아이템 j에 대한 아이템 벡터 업데이트\n",
    "        \"\"\"\n",
    "\n",
    "        di = np.linalg.solve(np.dot(self.users.T, self.users) + self.regularization * np.eye(self.k),\n",
    "                                 np.dot(self.users.T, self.R[:, j]))\n",
    "        return di\n",
    "\n",
    "\n",
    "    def get_prediction(self, i, j):\n",
    "        \"\"\"\n",
    "        유저 i, 아이템 j에 대한 예측 평점\n",
    "        \"\"\"\n",
    "        return self.users[i, :].dot(self.items[j, :].T)\n",
    "\n",
    "\n",
    "    def get_full_matrix(self):\n",
    "        \"\"\"\n",
    "        예측된 유저 아이템 매트릭스를 계산 Rhat\n",
    "        \"\"\"\n",
    "        return self.users.dot(self.items.T)"
   ]
  },
  {
   "cell_type": "code",
   "execution_count": 25,
   "metadata": {},
   "outputs": [
    {
     "name": "stdout",
     "output_type": "stream",
     "text": [
      "Iteration: 10, cost = 0.0009\n",
      "Iteration: 20, cost = 0.0012\n"
     ]
    }
   ],
   "source": [
    "R = np.array([\n",
    "        [1, 0, 0, 1, 3],\n",
    "        [2, 0, 3, 1, 1],\n",
    "        [1, 2, 0, 5, 0],\n",
    "        [1, 0, 0, 4, 4],\n",
    "        [2, 1, 5, 4, 0],\n",
    "        [5, 1, 5, 4, 0],\n",
    "        [0, 0, 0, 1, 0],\n",
    "    ])\n",
    "\n",
    "als = AlternatingLeastSquares(R = R, regularization = 0.01, iterations=20, verbose=True, k=5)\n",
    "als.fit()"
   ]
  },
  {
   "cell_type": "code",
   "execution_count": 26,
   "metadata": {},
   "outputs": [
    {
     "data": {
      "text/plain": [
       "array([[ 1.00054010e+00, -3.47877765e-03, -3.07850656e-05,\n",
       "         1.00145857e+00,  2.99780665e+00],\n",
       "       [ 2.00031893e+00, -9.63067626e-04,  2.99943684e+00,\n",
       "         1.00064909e+00,  9.99116778e-01],\n",
       "       [ 1.00022716e+00,  1.99745563e+00,  6.02141466e-04,\n",
       "         5.00002898e+00, -3.05200754e-04],\n",
       "       [ 9.99870035e-01,  2.83436033e-03,  1.87015227e-04,\n",
       "         3.99878779e+00,  4.00031825e+00],\n",
       "       [ 2.00187426e+00,  9.99325083e-01,  4.99864343e+00,\n",
       "         3.99992359e+00, -8.74636355e-04],\n",
       "       [ 4.99783945e+00,  1.00132656e+00,  5.00052129e+00,\n",
       "         3.99968444e+00,  1.42307860e-03],\n",
       "       [-4.86904306e-04,  2.88566877e-03,  1.63767264e-04,\n",
       "         9.98806174e-01,  1.31175866e-03]])"
      ]
     },
     "execution_count": 26,
     "metadata": {},
     "output_type": "execute_result"
    }
   ],
   "source": [
    "als.get_full_matrix()"
   ]
  },
  {
   "cell_type": "code",
   "execution_count": 27,
   "metadata": {},
   "outputs": [
    {
     "data": {
      "text/plain": [
       "1.0006490940803254"
      ]
     },
     "execution_count": 27,
     "metadata": {},
     "output_type": "execute_result"
    }
   ],
   "source": [
    "als.get_prediction(1, 3)"
   ]
  },
  {
   "cell_type": "markdown",
   "metadata": {},
   "source": [
    "## 06. Surprise에서 제공하는 MF 모델(SVD)\n",
    "- Surprise 패키지의 SVD는 SGD로 학습되는 MF를 의미한다.\n",
    "- SGD로 모델이 학습될 대 변경 가능한 옵션과 하이퍼파라미터에 대해 살펴본다.\n",
    "- 무비렌즈 데이터를 활용해 kNN 모델과 SVD 모델을 각각 학습해보고 추천 성능을 비교해본다."
   ]
  },
  {
   "cell_type": "code",
   "execution_count": 28,
   "metadata": {},
   "outputs": [],
   "source": [
    "# surprise에서 제공하는 dataset과 reader\n",
    "\n",
    "from surprise import Reader, Dataset\n",
    "\n",
    "reader = Reader(rating_scale=(0.5, 5.0))\n",
    "data = Dataset.load_from_df(ratings_df[['userId', 'movieId', 'rating']], reader)"
   ]
  },
  {
   "cell_type": "code",
   "execution_count": 29,
   "metadata": {},
   "outputs": [],
   "source": [
    "from surprise import accuracy\n",
    "from surprise.model_selection import train_test_split\n",
    "\n",
    "# train / test 데이터 나누기\n",
    "train_data, test_data = train_test_split(data, test_size=0.2, random_state=10)"
   ]
  },
  {
   "cell_type": "markdown",
   "metadata": {},
   "source": [
    "### SVD Model\n",
    "\n",
    "- [모델 API 문서](https://surprise.readthedocs.io/en/stable/matrix_factorization.html)\n",
    "- The SVD++ algorithm, an extension of SVD taking into account implicit ratings."
   ]
  },
  {
   "cell_type": "code",
   "execution_count": 30,
   "metadata": {},
   "outputs": [
    {
     "name": "stdout",
     "output_type": "stream",
     "text": [
      "RMSE: 0.8660\n"
     ]
    },
    {
     "data": {
      "text/plain": [
       "0.8660030808698003"
      ]
     },
     "execution_count": 30,
     "metadata": {},
     "output_type": "execute_result"
    }
   ],
   "source": [
    "# SVD 모델을 사용하자 => MF의 SGD 구현을 Suprise에서 SVD로 부름\n",
    "\n",
    "svd_model = SVD(n_factors=20, reg_all = 0.02)\n",
    "\n",
    "# 학습데이터를 가지고 모델 학습\n",
    "svd_model.fit(train_data)\n",
    "\n",
    "# 테스트 데이터로 모델의 예측 평점을 추론\n",
    "predictions = svd_model.test(test_data)\n",
    "\n",
    "# Then compute RMSE\n",
    "accuracy.rmse(predictions)"
   ]
  },
  {
   "cell_type": "markdown",
   "metadata": {},
   "source": [
    "#### 유저/아이템 매트릭스"
   ]
  },
  {
   "cell_type": "code",
   "execution_count": 31,
   "metadata": {},
   "outputs": [
    {
     "name": "stdout",
     "output_type": "stream",
     "text": [
      "(610, 20)\n",
      "(8933, 20)\n"
     ]
    }
   ],
   "source": [
    "print(svd_model.pu.shape)\n",
    "print(svd_model.qi.shape)"
   ]
  },
  {
   "cell_type": "markdown",
   "metadata": {},
   "source": [
    "#### 유저 0의 latent factor"
   ]
  },
  {
   "cell_type": "code",
   "execution_count": 32,
   "metadata": {},
   "outputs": [
    {
     "data": {
      "text/plain": [
       "array([-0.03099873, -0.05642505, -0.07785974, -0.16784845, -0.10577581,\n",
       "        0.05834872,  0.07545349, -0.02610836, -0.00734263,  0.12959561,\n",
       "       -0.15351897,  0.06536194,  0.08620424,  0.1744412 , -0.05833897,\n",
       "       -0.20289811,  0.20321874, -0.3789021 , -0.15915271, -0.01673731])"
      ]
     },
     "execution_count": 32,
     "metadata": {},
     "output_type": "execute_result"
    }
   ],
   "source": [
    "svd_model.pu[0]"
   ]
  },
  {
   "cell_type": "markdown",
   "metadata": {},
   "source": [
    "#### 아이템 0의 latent factor"
   ]
  },
  {
   "cell_type": "code",
   "execution_count": 33,
   "metadata": {},
   "outputs": [
    {
     "data": {
      "text/plain": [
       "array([ 0.25599293, -0.24280786,  0.00535914,  0.09900458, -0.13744529,\n",
       "       -0.23939816,  0.02116269, -0.04442159,  0.27611131,  0.18141644,\n",
       "       -0.08812498, -0.1745348 ,  0.03973557,  0.28163829, -0.21130212,\n",
       "       -0.06865931, -0.2036131 ,  0.27009727, -0.0720132 ,  0.03788732])"
      ]
     },
     "execution_count": 33,
     "metadata": {},
     "output_type": "execute_result"
    }
   ],
   "source": [
    "svd_model.qi[0]"
   ]
  },
  {
   "cell_type": "markdown",
   "metadata": {},
   "source": [
    "#### 평점 예측"
   ]
  },
  {
   "cell_type": "code",
   "execution_count": 34,
   "metadata": {},
   "outputs": [
    {
     "data": {
      "text/plain": [
       "Prediction(uid=1, iid=1, r_ui=None, est=4.611782498381671, details={'was_impossible': False})"
      ]
     },
     "execution_count": 34,
     "metadata": {},
     "output_type": "execute_result"
    }
   ],
   "source": [
    "user_id = 1\n",
    "item_id = 1\n",
    "\n",
    "svd_model.predict(user_id, item_id)"
   ]
  },
  {
   "cell_type": "markdown",
   "metadata": {},
   "source": [
    "#### 새로운 유저, 아이템이 등장할 경우 default_prediction을 사용\n",
    "![default_prediction](https://i.ibb.co/6YxrX1s/default-prediction.png)"
   ]
  },
  {
   "cell_type": "code",
   "execution_count": 35,
   "metadata": {},
   "outputs": [
    {
     "name": "stdout",
     "output_type": "stream",
     "text": [
      "3.5001859473397134\n",
      "3.5001859473397134\n"
     ]
    }
   ],
   "source": [
    "user_id = 0\n",
    "item_id = 0\n",
    "\n",
    "print(svd_model.predict(user_id, item_id).est)\n",
    "print(svd_model.default_prediction())"
   ]
  },
  {
   "cell_type": "markdown",
   "metadata": {},
   "source": [
    "### [모델 상세 옵션](https://surprise.readthedocs.io/en/stable/matrix_factorization.html#surprise.prediction_algorithms.matrix_factorization.SVD)\n",
    "\n",
    "- Rating Function\n",
    "![ab](https://i.ibb.co/MSZJKLp/svd-rating.png)\n",
    "- Objective Function\n",
    "![ab](https://i.ibb.co/DzMmtyx/svd-obj.png)"
   ]
  },
  {
   "cell_type": "markdown",
   "metadata": {},
   "source": [
    "#### bias 유무에 따른 성능 비교"
   ]
  },
  {
   "cell_type": "code",
   "execution_count": 36,
   "metadata": {},
   "outputs": [
    {
     "name": "stdout",
     "output_type": "stream",
     "text": [
      "RMSE: 0.9852\n",
      "biased: False , 0.985227512074916\n",
      "RMSE: 0.8704\n",
      "biased: True , 0.8703636789383212\n"
     ]
    }
   ],
   "source": [
    "for biased in [False, True]:\n",
    "    svd_model = SVD(biased=biased)\n",
    "    svd_model.fit(train_data)\n",
    "    predictions = svd_model.test(test_data)\n",
    "\n",
    "    # Then compute RMSE\n",
    "    print('biased:', biased, ',', accuracy.rmse(predictions))"
   ]
  },
  {
   "cell_type": "markdown",
   "metadata": {},
   "source": [
    "#### latent factor 수에 따른 성능 비교"
   ]
  },
  {
   "cell_type": "code",
   "execution_count": 37,
   "metadata": {},
   "outputs": [
    {
     "name": "stdout",
     "output_type": "stream",
     "text": [
      "RMSE: 0.8669\n",
      "n_factors: 25 , 0.866884038010784\n",
      "RMSE: 0.8680\n",
      "n_factors: 50 , 0.8680162935758132\n",
      "RMSE: 0.8726\n",
      "n_factors: 100 , 0.8725720245049245\n",
      "RMSE: 0.8747\n",
      "n_factors: 150 , 0.8747062420938684\n"
     ]
    }
   ],
   "source": [
    "for k in [25, 50, 100, 150]:\n",
    "    svd_model = SVD(n_factors=k)\n",
    "    svd_model.fit(train_data)\n",
    "    predictions = svd_model.test(test_data)\n",
    "\n",
    "    # Then compute RMSE\n",
    "    print('n_factors:', k, ',', accuracy.rmse(predictions))"
   ]
  },
  {
   "cell_type": "markdown",
   "metadata": {},
   "source": [
    "#### learning rate에 따른 성능 비교"
   ]
  },
  {
   "cell_type": "code",
   "execution_count": 38,
   "metadata": {},
   "outputs": [
    {
     "name": "stdout",
     "output_type": "stream",
     "text": [
      "RMSE: 0.8776\n",
      "lr_all: 0.0025 , 0.8776344461608272\n",
      "RMSE: 0.8699\n",
      "lr_all: 0.005 , 0.8699222480341662\n",
      "RMSE: 0.8951\n",
      "lr_all: 0.001 , 0.8950513514160988\n"
     ]
    }
   ],
   "source": [
    "for lr_all in [.0025, .005, .001]:\n",
    "    svd_model = SVD(lr_all=lr_all)\n",
    "    svd_model.fit(train_data)\n",
    "    predictions = svd_model.test(test_data)\n",
    "\n",
    "    # Then compute RMSE\n",
    "    print('lr_all:', lr_all, ',', accuracy.rmse(predictions))"
   ]
  },
  {
   "cell_type": "markdown",
   "metadata": {},
   "source": [
    "#### regularization에 따른 성능 비교"
   ]
  },
  {
   "cell_type": "code",
   "execution_count": 39,
   "metadata": {},
   "outputs": [
    {
     "name": "stdout",
     "output_type": "stream",
     "text": [
      "RMSE: 0.8937\n",
      "reg_all: 0 , 0.8936555235686122\n",
      "RMSE: 0.8704\n",
      "reg_all: 0.02 , 0.870430014866698\n",
      "RMSE: 0.8673\n",
      "reg_all: 0.1 , 0.8673302158459903\n",
      "RMSE: 0.9051\n",
      "reg_all: 1 , 0.905099471006505\n"
     ]
    }
   ],
   "source": [
    "for reg_all in [0, 0.02, 0.1, 1]:\n",
    "    svd_model = SVD(reg_all=reg_all)\n",
    "    svd_model.fit(train_data)\n",
    "    predictions = svd_model.test(test_data)\n",
    "\n",
    "    # Then compute RMSE\n",
    "    print('reg_all:', reg_all, ',', accuracy.rmse(predictions))"
   ]
  },
  {
   "cell_type": "markdown",
   "metadata": {},
   "source": [
    "#### Grid Search 패키지를 제공함"
   ]
  },
  {
   "cell_type": "code",
   "execution_count": 40,
   "metadata": {},
   "outputs": [],
   "source": [
    "from surprise.model_selection import GridSearchCV\n",
    "\n",
    "grid = {'lr_all': [.0025, .005], \n",
    "        'n_factors': [25, 50, 100],\n",
    "        'reg_all': [0.02, 0.1]\n",
    "       }\n",
    "\n",
    "gs = GridSearchCV(SVD, grid, measures=['RMSE'], cv=2)\n",
    "gs.fit(data)"
   ]
  },
  {
   "cell_type": "code",
   "execution_count": 41,
   "metadata": {},
   "outputs": [
    {
     "data": {
      "text/html": [
       "<div>\n",
       "<style scoped>\n",
       "    .dataframe tbody tr th:only-of-type {\n",
       "        vertical-align: middle;\n",
       "    }\n",
       "\n",
       "    .dataframe tbody tr th {\n",
       "        vertical-align: top;\n",
       "    }\n",
       "\n",
       "    .dataframe thead th {\n",
       "        text-align: right;\n",
       "    }\n",
       "</style>\n",
       "<table border=\"1\" class=\"dataframe\">\n",
       "  <thead>\n",
       "    <tr style=\"text-align: right;\">\n",
       "      <th></th>\n",
       "      <th>split0_test_rmse</th>\n",
       "      <th>split1_test_rmse</th>\n",
       "      <th>mean_test_rmse</th>\n",
       "      <th>std_test_rmse</th>\n",
       "      <th>rank_test_rmse</th>\n",
       "      <th>mean_fit_time</th>\n",
       "      <th>std_fit_time</th>\n",
       "      <th>mean_test_time</th>\n",
       "      <th>std_test_time</th>\n",
       "      <th>params</th>\n",
       "      <th>param_lr_all</th>\n",
       "      <th>param_n_factors</th>\n",
       "      <th>param_reg_all</th>\n",
       "    </tr>\n",
       "  </thead>\n",
       "  <tbody>\n",
       "    <tr>\n",
       "      <th>7</th>\n",
       "      <td>0.879590</td>\n",
       "      <td>0.881011</td>\n",
       "      <td>0.880301</td>\n",
       "      <td>0.000711</td>\n",
       "      <td>1</td>\n",
       "      <td>2.306833</td>\n",
       "      <td>0.004266</td>\n",
       "      <td>0.677244</td>\n",
       "      <td>0.006639</td>\n",
       "      <td>{'lr_all': 0.005, 'n_factors': 25, 'reg_all': ...</td>\n",
       "      <td>0.0050</td>\n",
       "      <td>25</td>\n",
       "      <td>0.10</td>\n",
       "    </tr>\n",
       "    <tr>\n",
       "      <th>9</th>\n",
       "      <td>0.880503</td>\n",
       "      <td>0.881280</td>\n",
       "      <td>0.880891</td>\n",
       "      <td>0.000388</td>\n",
       "      <td>2</td>\n",
       "      <td>3.600934</td>\n",
       "      <td>0.186163</td>\n",
       "      <td>0.794973</td>\n",
       "      <td>0.108060</td>\n",
       "      <td>{'lr_all': 0.005, 'n_factors': 50, 'reg_all': ...</td>\n",
       "      <td>0.0050</td>\n",
       "      <td>50</td>\n",
       "      <td>0.10</td>\n",
       "    </tr>\n",
       "    <tr>\n",
       "      <th>11</th>\n",
       "      <td>0.881055</td>\n",
       "      <td>0.881315</td>\n",
       "      <td>0.881185</td>\n",
       "      <td>0.000130</td>\n",
       "      <td>3</td>\n",
       "      <td>5.557814</td>\n",
       "      <td>0.045481</td>\n",
       "      <td>0.668756</td>\n",
       "      <td>0.000647</td>\n",
       "      <td>{'lr_all': 0.005, 'n_factors': 100, 'reg_all':...</td>\n",
       "      <td>0.0050</td>\n",
       "      <td>100</td>\n",
       "      <td>0.10</td>\n",
       "    </tr>\n",
       "    <tr>\n",
       "      <th>6</th>\n",
       "      <td>0.880162</td>\n",
       "      <td>0.882769</td>\n",
       "      <td>0.881466</td>\n",
       "      <td>0.001303</td>\n",
       "      <td>4</td>\n",
       "      <td>2.374165</td>\n",
       "      <td>0.014508</td>\n",
       "      <td>0.647510</td>\n",
       "      <td>0.003196</td>\n",
       "      <td>{'lr_all': 0.005, 'n_factors': 25, 'reg_all': ...</td>\n",
       "      <td>0.0050</td>\n",
       "      <td>25</td>\n",
       "      <td>0.02</td>\n",
       "    </tr>\n",
       "    <tr>\n",
       "      <th>8</th>\n",
       "      <td>0.883886</td>\n",
       "      <td>0.884087</td>\n",
       "      <td>0.883987</td>\n",
       "      <td>0.000101</td>\n",
       "      <td>5</td>\n",
       "      <td>3.371479</td>\n",
       "      <td>0.032349</td>\n",
       "      <td>0.616422</td>\n",
       "      <td>0.041925</td>\n",
       "      <td>{'lr_all': 0.005, 'n_factors': 50, 'reg_all': ...</td>\n",
       "      <td>0.0050</td>\n",
       "      <td>50</td>\n",
       "      <td>0.02</td>\n",
       "    </tr>\n",
       "    <tr>\n",
       "      <th>0</th>\n",
       "      <td>0.888658</td>\n",
       "      <td>0.888974</td>\n",
       "      <td>0.888816</td>\n",
       "      <td>0.000158</td>\n",
       "      <td>6</td>\n",
       "      <td>2.346534</td>\n",
       "      <td>0.043830</td>\n",
       "      <td>0.689923</td>\n",
       "      <td>0.001761</td>\n",
       "      <td>{'lr_all': 0.0025, 'n_factors': 25, 'reg_all':...</td>\n",
       "      <td>0.0025</td>\n",
       "      <td>25</td>\n",
       "      <td>0.02</td>\n",
       "    </tr>\n",
       "    <tr>\n",
       "      <th>10</th>\n",
       "      <td>0.888655</td>\n",
       "      <td>0.889426</td>\n",
       "      <td>0.889040</td>\n",
       "      <td>0.000385</td>\n",
       "      <td>7</td>\n",
       "      <td>6.030160</td>\n",
       "      <td>0.482804</td>\n",
       "      <td>0.688143</td>\n",
       "      <td>0.007303</td>\n",
       "      <td>{'lr_all': 0.005, 'n_factors': 100, 'reg_all':...</td>\n",
       "      <td>0.0050</td>\n",
       "      <td>100</td>\n",
       "      <td>0.02</td>\n",
       "    </tr>\n",
       "    <tr>\n",
       "      <th>1</th>\n",
       "      <td>0.889274</td>\n",
       "      <td>0.889322</td>\n",
       "      <td>0.889298</td>\n",
       "      <td>0.000024</td>\n",
       "      <td>8</td>\n",
       "      <td>2.389229</td>\n",
       "      <td>0.070999</td>\n",
       "      <td>0.741644</td>\n",
       "      <td>0.064878</td>\n",
       "      <td>{'lr_all': 0.0025, 'n_factors': 25, 'reg_all':...</td>\n",
       "      <td>0.0025</td>\n",
       "      <td>25</td>\n",
       "      <td>0.10</td>\n",
       "    </tr>\n",
       "    <tr>\n",
       "      <th>3</th>\n",
       "      <td>0.889744</td>\n",
       "      <td>0.889641</td>\n",
       "      <td>0.889693</td>\n",
       "      <td>0.000052</td>\n",
       "      <td>9</td>\n",
       "      <td>3.436527</td>\n",
       "      <td>0.006205</td>\n",
       "      <td>0.665408</td>\n",
       "      <td>0.009951</td>\n",
       "      <td>{'lr_all': 0.0025, 'n_factors': 50, 'reg_all':...</td>\n",
       "      <td>0.0025</td>\n",
       "      <td>50</td>\n",
       "      <td>0.10</td>\n",
       "    </tr>\n",
       "    <tr>\n",
       "      <th>5</th>\n",
       "      <td>0.890260</td>\n",
       "      <td>0.890628</td>\n",
       "      <td>0.890444</td>\n",
       "      <td>0.000184</td>\n",
       "      <td>10</td>\n",
       "      <td>5.602694</td>\n",
       "      <td>0.062305</td>\n",
       "      <td>0.668211</td>\n",
       "      <td>0.001114</td>\n",
       "      <td>{'lr_all': 0.0025, 'n_factors': 100, 'reg_all'...</td>\n",
       "      <td>0.0025</td>\n",
       "      <td>100</td>\n",
       "      <td>0.10</td>\n",
       "    </tr>\n",
       "    <tr>\n",
       "      <th>2</th>\n",
       "      <td>0.889909</td>\n",
       "      <td>0.891018</td>\n",
       "      <td>0.890464</td>\n",
       "      <td>0.000555</td>\n",
       "      <td>11</td>\n",
       "      <td>3.515481</td>\n",
       "      <td>0.090130</td>\n",
       "      <td>0.670033</td>\n",
       "      <td>0.023949</td>\n",
       "      <td>{'lr_all': 0.0025, 'n_factors': 50, 'reg_all':...</td>\n",
       "      <td>0.0025</td>\n",
       "      <td>50</td>\n",
       "      <td>0.02</td>\n",
       "    </tr>\n",
       "    <tr>\n",
       "      <th>4</th>\n",
       "      <td>0.893434</td>\n",
       "      <td>0.893515</td>\n",
       "      <td>0.893474</td>\n",
       "      <td>0.000040</td>\n",
       "      <td>12</td>\n",
       "      <td>6.183955</td>\n",
       "      <td>0.192634</td>\n",
       "      <td>0.824757</td>\n",
       "      <td>0.111739</td>\n",
       "      <td>{'lr_all': 0.0025, 'n_factors': 100, 'reg_all'...</td>\n",
       "      <td>0.0025</td>\n",
       "      <td>100</td>\n",
       "      <td>0.02</td>\n",
       "    </tr>\n",
       "  </tbody>\n",
       "</table>\n",
       "</div>"
      ],
      "text/plain": [
       "    split0_test_rmse  split1_test_rmse  mean_test_rmse  std_test_rmse  \\\n",
       "7           0.879590          0.881011        0.880301       0.000711   \n",
       "9           0.880503          0.881280        0.880891       0.000388   \n",
       "11          0.881055          0.881315        0.881185       0.000130   \n",
       "6           0.880162          0.882769        0.881466       0.001303   \n",
       "8           0.883886          0.884087        0.883987       0.000101   \n",
       "0           0.888658          0.888974        0.888816       0.000158   \n",
       "10          0.888655          0.889426        0.889040       0.000385   \n",
       "1           0.889274          0.889322        0.889298       0.000024   \n",
       "3           0.889744          0.889641        0.889693       0.000052   \n",
       "5           0.890260          0.890628        0.890444       0.000184   \n",
       "2           0.889909          0.891018        0.890464       0.000555   \n",
       "4           0.893434          0.893515        0.893474       0.000040   \n",
       "\n",
       "    rank_test_rmse  mean_fit_time  std_fit_time  mean_test_time  \\\n",
       "7                1       2.306833      0.004266        0.677244   \n",
       "9                2       3.600934      0.186163        0.794973   \n",
       "11               3       5.557814      0.045481        0.668756   \n",
       "6                4       2.374165      0.014508        0.647510   \n",
       "8                5       3.371479      0.032349        0.616422   \n",
       "0                6       2.346534      0.043830        0.689923   \n",
       "10               7       6.030160      0.482804        0.688143   \n",
       "1                8       2.389229      0.070999        0.741644   \n",
       "3                9       3.436527      0.006205        0.665408   \n",
       "5               10       5.602694      0.062305        0.668211   \n",
       "2               11       3.515481      0.090130        0.670033   \n",
       "4               12       6.183955      0.192634        0.824757   \n",
       "\n",
       "    std_test_time                                             params  \\\n",
       "7        0.006639  {'lr_all': 0.005, 'n_factors': 25, 'reg_all': ...   \n",
       "9        0.108060  {'lr_all': 0.005, 'n_factors': 50, 'reg_all': ...   \n",
       "11       0.000647  {'lr_all': 0.005, 'n_factors': 100, 'reg_all':...   \n",
       "6        0.003196  {'lr_all': 0.005, 'n_factors': 25, 'reg_all': ...   \n",
       "8        0.041925  {'lr_all': 0.005, 'n_factors': 50, 'reg_all': ...   \n",
       "0        0.001761  {'lr_all': 0.0025, 'n_factors': 25, 'reg_all':...   \n",
       "10       0.007303  {'lr_all': 0.005, 'n_factors': 100, 'reg_all':...   \n",
       "1        0.064878  {'lr_all': 0.0025, 'n_factors': 25, 'reg_all':...   \n",
       "3        0.009951  {'lr_all': 0.0025, 'n_factors': 50, 'reg_all':...   \n",
       "5        0.001114  {'lr_all': 0.0025, 'n_factors': 100, 'reg_all'...   \n",
       "2        0.023949  {'lr_all': 0.0025, 'n_factors': 50, 'reg_all':...   \n",
       "4        0.111739  {'lr_all': 0.0025, 'n_factors': 100, 'reg_all'...   \n",
       "\n",
       "    param_lr_all  param_n_factors  param_reg_all  \n",
       "7         0.0050               25           0.10  \n",
       "9         0.0050               50           0.10  \n",
       "11        0.0050              100           0.10  \n",
       "6         0.0050               25           0.02  \n",
       "8         0.0050               50           0.02  \n",
       "0         0.0025               25           0.02  \n",
       "10        0.0050              100           0.02  \n",
       "1         0.0025               25           0.10  \n",
       "3         0.0025               50           0.10  \n",
       "5         0.0025              100           0.10  \n",
       "2         0.0025               50           0.02  \n",
       "4         0.0025              100           0.02  "
      ]
     },
     "execution_count": 41,
     "metadata": {},
     "output_type": "execute_result"
    }
   ],
   "source": [
    "pd.DataFrame(gs.cv_results).sort_values(by='rank_test_rmse')"
   ]
  },
  {
   "cell_type": "code",
   "execution_count": 42,
   "metadata": {},
   "outputs": [
    {
     "name": "stdout",
     "output_type": "stream",
     "text": [
      "{'rmse': 0.8803006451797001}\n",
      "{'rmse': {'lr_all': 0.005, 'n_factors': 25, 'reg_all': 0.1}}\n"
     ]
    }
   ],
   "source": [
    "print(gs.best_score)\n",
    "print(gs.best_params)"
   ]
  },
  {
   "cell_type": "markdown",
   "metadata": {},
   "source": [
    "## 07. 예측 모델 간의 성능 비교\n",
    "- kNN과 MF(SVD) 사이의 모델 성능 비교"
   ]
  },
  {
   "cell_type": "markdown",
   "metadata": {},
   "source": [
    "### kNN 모델"
   ]
  },
  {
   "cell_type": "code",
   "execution_count": 43,
   "metadata": {},
   "outputs": [
    {
     "name": "stdout",
     "output_type": "stream",
     "text": [
      "Computing the msd similarity matrix...\n",
      "Done computing similarity matrix.\n",
      "Computing the msd similarity matrix...\n",
      "Done computing similarity matrix.\n",
      "Computing the msd similarity matrix...\n",
      "Done computing similarity matrix.\n",
      "Computing the msd similarity matrix...\n",
      "Done computing similarity matrix.\n",
      "Computing the msd similarity matrix...\n",
      "Done computing similarity matrix.\n",
      "Evaluating RMSE, MAE of algorithm KNNWithMeans on 5 split(s).\n",
      "\n",
      "                  Fold 1  Fold 2  Fold 3  Fold 4  Fold 5  Mean    Std     \n",
      "RMSE (testset)    0.8940  0.8874  0.8959  0.8922  0.8922  0.8923  0.0028  \n",
      "MAE (testset)     0.6815  0.6785  0.6855  0.6836  0.6820  0.6822  0.0024  \n",
      "Fit time          7.60    7.49    7.51    7.41    7.39    7.48    0.08    \n",
      "Test time         13.08   12.32   12.36   12.36   12.31   12.49   0.30    \n"
     ]
    },
    {
     "data": {
      "text/plain": [
       "{'test_rmse': array([0.89395714, 0.88743407, 0.8958937 , 0.89222901, 0.89222254]),\n",
       " 'test_mae': array([0.68147979, 0.67845507, 0.68553271, 0.68362014, 0.68197489]),\n",
       " 'fit_time': (7.600543975830078,\n",
       "  7.492369651794434,\n",
       "  7.514346361160278,\n",
       "  7.412439584732056,\n",
       "  7.39105749130249),\n",
       " 'test_time': (13.083563566207886,\n",
       "  12.317754030227661,\n",
       "  12.362648010253906,\n",
       "  12.3638174533844,\n",
       "  12.313887119293213)}"
      ]
     },
     "execution_count": 43,
     "metadata": {},
     "output_type": "execute_result"
    }
   ],
   "source": [
    "sim_options = {\n",
    "    'name': 'msd',\n",
    "    'user_based': False\n",
    "}\n",
    "\n",
    "knn = KNNWithMeans(k = 40, min_k = 1, sim_options = sim_options)\n",
    "\n",
    "cross_validate(knn, data, measures=['RMSE', 'MAE'], cv=5, verbose=True)"
   ]
  },
  {
   "cell_type": "markdown",
   "metadata": {},
   "source": [
    "### SVD 모델"
   ]
  },
  {
   "cell_type": "code",
   "execution_count": 44,
   "metadata": {},
   "outputs": [
    {
     "name": "stdout",
     "output_type": "stream",
     "text": [
      "Evaluating RMSE, MAE of algorithm SVD on 5 split(s).\n",
      "\n",
      "                  Fold 1  Fold 2  Fold 3  Fold 4  Fold 5  Mean    Std     \n",
      "RMSE (testset)    0.8646  0.8719  0.8701  0.8779  0.8692  0.8707  0.0043  \n",
      "MAE (testset)     0.6659  0.6714  0.6694  0.6749  0.6695  0.6703  0.0029  \n",
      "Fit time          3.58    3.60    3.58    3.58    3.58    3.59    0.01    \n",
      "Test time         0.30    0.21    0.21    0.21    0.22    0.23    0.03    \n"
     ]
    },
    {
     "data": {
      "text/plain": [
       "{'test_rmse': array([0.86458575, 0.8719132 , 0.87005604, 0.87786239, 0.86923162]),\n",
       " 'test_mae': array([0.66593297, 0.67144204, 0.66944609, 0.67493962, 0.66951888]),\n",
       " 'fit_time': (3.575917959213257,\n",
       "  3.603013038635254,\n",
       "  3.5769147872924805,\n",
       "  3.5842466354370117,\n",
       "  3.584979772567749),\n",
       " 'test_time': (0.3022267818450928,\n",
       "  0.2131941318511963,\n",
       "  0.21445083618164062,\n",
       "  0.21469783782958984,\n",
       "  0.21930265426635742)}"
      ]
     },
     "execution_count": 44,
     "metadata": {},
     "output_type": "execute_result"
    }
   ],
   "source": [
    "svd = SVD(n_factors=25, lr_all=0.005, reg_all=0.1)\n",
    "\n",
    "cross_validate(svd, data, measures=['RMSE', 'MAE'], cv=5, verbose=True)"
   ]
  }
 ],
 "metadata": {
  "kernelspec": {
   "display_name": "Python 3",
   "language": "python",
   "name": "python3"
  },
  "language_info": {
   "codemirror_mode": {
    "name": "ipython",
    "version": 3
   },
   "file_extension": ".py",
   "mimetype": "text/x-python",
   "name": "python",
   "nbconvert_exporter": "python",
   "pygments_lexer": "ipython3",
   "version": "3.7.6"
  }
 },
 "nbformat": 4,
 "nbformat_minor": 2
}
