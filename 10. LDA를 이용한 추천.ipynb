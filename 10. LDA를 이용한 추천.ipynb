{
 "cells": [
  {
   "cell_type": "markdown",
   "metadata": {},
   "source": [
    "## 00. 환경설정"
   ]
  },
  {
   "cell_type": "code",
   "execution_count": 1,
   "metadata": {},
   "outputs": [
    {
     "name": "stderr",
     "output_type": "stream",
     "text": [
      "C:\\Users\\kimminsu\\Anaconda3\\lib\\site-packages\\gensim\\similarities\\__init__.py:15: UserWarning: The gensim.similarities.levenshtein submodule is disabled, because the optional Levenshtein package <https://pypi.org/project/python-Levenshtein/> is unavailable. Install Levenhstein (e.g. `pip install python-Levenshtein`) to suppress this warning.\n",
      "  warnings.warn(msg)\n"
     ]
    }
   ],
   "source": [
    "import re\n",
    "import pandas as pd\n",
    "import numpy as np\n",
    "from matplotlib import pyplot as plt\n",
    "from datetime import datetime\n",
    "from tqdm import tqdm\n",
    "%matplotlib inline\n",
    "\n",
    "# Gensim\n",
    "import gensim\n",
    "import gensim.corpora as corpora\n",
    "from gensim.models import CoherenceModel\n",
    "\n",
    "# Plotting tools\n",
    "import pyLDAvis\n",
    "import pyLDAvis.gensim  # don't skip this\n",
    "import matplotlib.pyplot as plt\n",
    "%matplotlib inline\n",
    "\n",
    "# Enable logging for gensim - optional\n",
    "import logging\n",
    "logging.basicConfig(format='%(asctime)s : %(levelname)s : %(message)s', level=logging.ERROR)\n",
    "\n",
    "import warnings\n",
    "warnings.filterwarnings(\"ignore\")"
   ]
  },
  {
   "cell_type": "markdown",
   "metadata": {},
   "source": [
    "## 01. LDA 모델 맛보기\n",
    "- scikit learn에서 제공하는 텍스트 데이터를 가지고 LDA 모델을 학습해봅니다.\n",
    "- 추천 데이터는 아니지만 LDA를 파악하기 위해 간단한 실습을 수행합니다."
   ]
  },
  {
   "cell_type": "code",
   "execution_count": 2,
   "metadata": {},
   "outputs": [
    {
     "data": {
      "text/plain": [
       "11314"
      ]
     },
     "execution_count": 2,
     "metadata": {},
     "output_type": "execute_result"
    }
   ],
   "source": [
    "from sklearn.datasets import fetch_20newsgroups\n",
    "\n",
    "dataset = fetch_20newsgroups(shuffle=True, random_state=1, remove=('headers', 'footers', 'quotes'))\n",
    "documents = dataset.data\n",
    "len(documents)"
   ]
  },
  {
   "cell_type": "markdown",
   "metadata": {},
   "source": [
    "- 문서(document) 예시"
   ]
  },
  {
   "cell_type": "code",
   "execution_count": 3,
   "metadata": {},
   "outputs": [
    {
     "data": {
      "text/plain": [
       "\"\\n\\n\\n\\n\\n\\n\\nYeah, do you expect people to read the FAQ, etc. and actually accept hard\\natheism?  No, you need a little leap of faith, Jimmy.  Your logic runs out\\nof steam!\\n\\n\\n\\n\\n\\n\\n\\nJim,\\n\\nSorry I can't pity you, Jim.  And I'm sorry that you have these feelings of\\ndenial about the faith you need to get by.  Oh well, just pretend that it will\\nall end happily ever after anyway.  Maybe if you start a new newsgroup,\\nalt.atheist.hard, you won't be bummin' so much?\\n\\n\\n\\n\\n\\n\\nBye-Bye, Big Jim.  Don't forget your Flintstone's Chewables!  :) \\n--\\nBake Timmons, III\""
      ]
     },
     "execution_count": 3,
     "metadata": {},
     "output_type": "execute_result"
    }
   ],
   "source": [
    "documents[1]"
   ]
  },
  {
   "cell_type": "markdown",
   "metadata": {},
   "source": [
    "### 텍스트 데이터 전처리"
   ]
  },
  {
   "cell_type": "code",
   "execution_count": 4,
   "metadata": {},
   "outputs": [
    {
     "data": {
      "text/html": [
       "<div>\n",
       "<style scoped>\n",
       "    .dataframe tbody tr th:only-of-type {\n",
       "        vertical-align: middle;\n",
       "    }\n",
       "\n",
       "    .dataframe tbody tr th {\n",
       "        vertical-align: top;\n",
       "    }\n",
       "\n",
       "    .dataframe thead th {\n",
       "        text-align: right;\n",
       "    }\n",
       "</style>\n",
       "<table border=\"1\" class=\"dataframe\">\n",
       "  <thead>\n",
       "    <tr style=\"text-align: right;\">\n",
       "      <th></th>\n",
       "      <th>document</th>\n",
       "      <th>clean_doc</th>\n",
       "    </tr>\n",
       "  </thead>\n",
       "  <tbody>\n",
       "    <tr>\n",
       "      <th>0</th>\n",
       "      <td>Well i'm not sure about the story nad it did s...</td>\n",
       "      <td>well sure about story seem biased what disagre...</td>\n",
       "    </tr>\n",
       "    <tr>\n",
       "      <th>1</th>\n",
       "      <td>\\n\\n\\n\\n\\n\\n\\nYeah, do you expect people to re...</td>\n",
       "      <td>yeah expect people read actually accept hard a...</td>\n",
       "    </tr>\n",
       "    <tr>\n",
       "      <th>2</th>\n",
       "      <td>Although I realize that principle is not one o...</td>\n",
       "      <td>although realize that principle your strongest...</td>\n",
       "    </tr>\n",
       "    <tr>\n",
       "      <th>3</th>\n",
       "      <td>Notwithstanding all the legitimate fuss about ...</td>\n",
       "      <td>notwithstanding legitimate fuss about this pro...</td>\n",
       "    </tr>\n",
       "    <tr>\n",
       "      <th>4</th>\n",
       "      <td>Well, I will have to change the scoring on my ...</td>\n",
       "      <td>well will have change scoring playoff pool unf...</td>\n",
       "    </tr>\n",
       "    <tr>\n",
       "      <th>...</th>\n",
       "      <td>...</td>\n",
       "      <td>...</td>\n",
       "    </tr>\n",
       "    <tr>\n",
       "      <th>11309</th>\n",
       "      <td>Danny Rubenstein, an Israeli journalist, will ...</td>\n",
       "      <td>danny rubenstein israeli journalist will speak...</td>\n",
       "    </tr>\n",
       "    <tr>\n",
       "      <th>11310</th>\n",
       "      <td>\\n</td>\n",
       "      <td></td>\n",
       "    </tr>\n",
       "    <tr>\n",
       "      <th>11311</th>\n",
       "      <td>\\nI agree.  Home runs off Clemens are always m...</td>\n",
       "      <td>agree home runs clemens always memorable kinda...</td>\n",
       "    </tr>\n",
       "    <tr>\n",
       "      <th>11312</th>\n",
       "      <td>I used HP DeskJet with Orange Micros Grappler ...</td>\n",
       "      <td>used deskjet with orange micros grappler syste...</td>\n",
       "    </tr>\n",
       "    <tr>\n",
       "      <th>11313</th>\n",
       "      <td>^^^^^^\\n...</td>\n",
       "      <td>argument with murphy scared hell when came las...</td>\n",
       "    </tr>\n",
       "  </tbody>\n",
       "</table>\n",
       "<p>11314 rows × 2 columns</p>\n",
       "</div>"
      ],
      "text/plain": [
       "                                                document  \\\n",
       "0      Well i'm not sure about the story nad it did s...   \n",
       "1      \\n\\n\\n\\n\\n\\n\\nYeah, do you expect people to re...   \n",
       "2      Although I realize that principle is not one o...   \n",
       "3      Notwithstanding all the legitimate fuss about ...   \n",
       "4      Well, I will have to change the scoring on my ...   \n",
       "...                                                  ...   \n",
       "11309  Danny Rubenstein, an Israeli journalist, will ...   \n",
       "11310                                                 \\n   \n",
       "11311  \\nI agree.  Home runs off Clemens are always m...   \n",
       "11312  I used HP DeskJet with Orange Micros Grappler ...   \n",
       "11313                                        ^^^^^^\\n...   \n",
       "\n",
       "                                               clean_doc  \n",
       "0      well sure about story seem biased what disagre...  \n",
       "1      yeah expect people read actually accept hard a...  \n",
       "2      although realize that principle your strongest...  \n",
       "3      notwithstanding legitimate fuss about this pro...  \n",
       "4      well will have change scoring playoff pool unf...  \n",
       "...                                                  ...  \n",
       "11309  danny rubenstein israeli journalist will speak...  \n",
       "11310                                                     \n",
       "11311  agree home runs clemens always memorable kinda...  \n",
       "11312  used deskjet with orange micros grappler syste...  \n",
       "11313  argument with murphy scared hell when came las...  \n",
       "\n",
       "[11314 rows x 2 columns]"
      ]
     },
     "execution_count": 4,
     "metadata": {},
     "output_type": "execute_result"
    }
   ],
   "source": [
    "news_df = pd.DataFrame({\"document\" : documents})\n",
    "\n",
    "# 문서 내 특수문자 제거\n",
    "news_df['clean_doc'] = news_df['document'].str.replace(\"[^a-zA-Z]\", \" \")\n",
    "\n",
    "# 문서 내 길이가 3 이하인 단어 제거\n",
    "news_df['clean_doc'] = news_df['clean_doc'].apply(lambda x: ' '.join([w for w in x.split() if len(w) > 3]))\n",
    "\n",
    "# 전체 단어에 대한 소문자 변환\n",
    "news_df['clean_doc'] = news_df['clean_doc'].apply(lambda x: x.lower())\n",
    "news_df"
   ]
  },
  {
   "cell_type": "markdown",
   "metadata": {},
   "source": [
    "#### 1차 전처리 document 예시"
   ]
  },
  {
   "cell_type": "code",
   "execution_count": 5,
   "metadata": {},
   "outputs": [
    {
     "data": {
      "text/plain": [
       "'yeah expect people read actually accept hard atheism need little leap faith jimmy your logic runs steam sorry pity sorry that have these feelings denial about faith need well just pretend that will happily ever after anyway maybe start newsgroup atheist hard bummin much forget your flintstone chewables bake timmons'"
      ]
     },
     "execution_count": 5,
     "metadata": {},
     "output_type": "execute_result"
    }
   ],
   "source": [
    "news_df['clean_doc'][1]"
   ]
  },
  {
   "cell_type": "markdown",
   "metadata": {},
   "source": [
    "#### Stopwords 제거를 위한 nltk 라이브러리"
   ]
  },
  {
   "cell_type": "code",
   "execution_count": 6,
   "metadata": {},
   "outputs": [
    {
     "name": "stderr",
     "output_type": "stream",
     "text": [
      "[nltk_data] Downloading package stopwords to\n",
      "[nltk_data]     C:\\Users\\kimminsu\\AppData\\Roaming\\nltk_data...\n",
      "[nltk_data]   Package stopwords is already up-to-date!\n"
     ]
    }
   ],
   "source": [
    "import nltk\n",
    "nltk.download('stopwords')\n",
    "\n",
    "from nltk.corpus import stopwords\n",
    "stop_words = stopwords.words('english')"
   ]
  },
  {
   "cell_type": "markdown",
   "metadata": {},
   "source": [
    "- stopwords 예시"
   ]
  },
  {
   "cell_type": "code",
   "execution_count": 7,
   "metadata": {},
   "outputs": [
    {
     "data": {
      "text/plain": [
       "['i', 'me', 'my', 'myself', 'we', 'our', 'ours', 'ourselves', 'you', \"you're\"]"
      ]
     },
     "execution_count": 7,
     "metadata": {},
     "output_type": "execute_result"
    }
   ],
   "source": [
    "stop_words[:10]"
   ]
  },
  {
   "cell_type": "markdown",
   "metadata": {},
   "source": [
    "### 문서 tokenize 이후 stopwords 제거"
   ]
  },
  {
   "cell_type": "code",
   "execution_count": 8,
   "metadata": {},
   "outputs": [],
   "source": [
    "tokenized_doc = news_df['clean_doc'].apply(lambda x: x.split())\n",
    "tokenized_doc = tokenized_doc.apply(lambda x: [item for item in x if item not in stop_words])"
   ]
  },
  {
   "cell_type": "markdown",
   "metadata": {},
   "source": [
    "### 학습에 사용할 최종 데이터\n",
    "- document를 word로 이루어진 list 형태로 변환\n",
    "- 추천 데이터의 경우 document = user, word = item의 형태로 구성"
   ]
  },
  {
   "cell_type": "code",
   "execution_count": 9,
   "metadata": {
    "scrolled": true
   },
   "outputs": [
    {
     "data": {
      "text/plain": [
       "['yeah',\n",
       " 'expect',\n",
       " 'people',\n",
       " 'read',\n",
       " 'actually',\n",
       " 'accept',\n",
       " 'hard',\n",
       " 'atheism',\n",
       " 'need',\n",
       " 'little',\n",
       " 'leap',\n",
       " 'faith',\n",
       " 'jimmy',\n",
       " 'logic',\n",
       " 'runs',\n",
       " 'steam',\n",
       " 'sorry',\n",
       " 'pity',\n",
       " 'sorry',\n",
       " 'feelings',\n",
       " 'denial',\n",
       " 'faith',\n",
       " 'need',\n",
       " 'well',\n",
       " 'pretend',\n",
       " 'happily',\n",
       " 'ever',\n",
       " 'anyway',\n",
       " 'maybe',\n",
       " 'start',\n",
       " 'newsgroup',\n",
       " 'atheist',\n",
       " 'hard',\n",
       " 'bummin',\n",
       " 'much',\n",
       " 'forget',\n",
       " 'flintstone',\n",
       " 'chewables',\n",
       " 'bake',\n",
       " 'timmons']"
      ]
     },
     "execution_count": 9,
     "metadata": {},
     "output_type": "execute_result"
    }
   ],
   "source": [
    "tokenized_doc[1]"
   ]
  },
  {
   "cell_type": "markdown",
   "metadata": {},
   "source": [
    "- gensim에서 지원하는 dictionary"
   ]
  },
  {
   "cell_type": "code",
   "execution_count": 10,
   "metadata": {},
   "outputs": [],
   "source": [
    "id2word = corpora.Dictionary(tokenized_doc)"
   ]
  },
  {
   "cell_type": "markdown",
   "metadata": {},
   "source": [
    "- document를 TF 형태로 변환"
   ]
  },
  {
   "cell_type": "code",
   "execution_count": 11,
   "metadata": {},
   "outputs": [
    {
     "name": "stdout",
     "output_type": "stream",
     "text": [
      "[(52, 1), (55, 1), (56, 1), (57, 1), (58, 1), (59, 1), (60, 1), (61, 1), (62, 1), (63, 1), (64, 1), (65, 1), (66, 2), (67, 1), (68, 1), (69, 1), (70, 1), (71, 2), (72, 1), (73, 1), (74, 1), (75, 1), (76, 1), (77, 1), (78, 2), (79, 1), (80, 1), (81, 1), (82, 1), (83, 1), (84, 1), (85, 2), (86, 1), (87, 1), (88, 1), (89, 1)]\n"
     ]
    }
   ],
   "source": [
    "corpus = [id2word.doc2bow(text) for text in tokenized_doc]\n",
    "print(corpus[1])"
   ]
  },
  {
   "cell_type": "markdown",
   "metadata": {},
   "source": [
    "- 개별 단어는 id의 형태로 변환되어 모델에 사용"
   ]
  },
  {
   "cell_type": "code",
   "execution_count": 12,
   "metadata": {},
   "outputs": [
    {
     "data": {
      "text/plain": [
       "'well'"
      ]
     },
     "execution_count": 12,
     "metadata": {},
     "output_type": "execute_result"
    }
   ],
   "source": [
    "id2word[52]"
   ]
  },
  {
   "cell_type": "markdown",
   "metadata": {},
   "source": [
    "- document 1의 예시"
   ]
  },
  {
   "cell_type": "code",
   "execution_count": 13,
   "metadata": {
    "scrolled": true
   },
   "outputs": [
    {
     "data": {
      "text/plain": [
       "[(52, 'well', 1),\n",
       " (55, 'accept', 1),\n",
       " (56, 'actually', 1),\n",
       " (57, 'anyway', 1),\n",
       " (58, 'atheism', 1),\n",
       " (59, 'atheist', 1),\n",
       " (60, 'bake', 1),\n",
       " (61, 'bummin', 1),\n",
       " (62, 'chewables', 1),\n",
       " (63, 'denial', 1),\n",
       " (64, 'ever', 1),\n",
       " (65, 'expect', 1),\n",
       " (66, 'faith', 2),\n",
       " (67, 'feelings', 1),\n",
       " (68, 'flintstone', 1),\n",
       " (69, 'forget', 1),\n",
       " (70, 'happily', 1),\n",
       " (71, 'hard', 2),\n",
       " (72, 'jimmy', 1),\n",
       " (73, 'leap', 1),\n",
       " (74, 'little', 1),\n",
       " (75, 'logic', 1),\n",
       " (76, 'maybe', 1),\n",
       " (77, 'much', 1),\n",
       " (78, 'need', 2),\n",
       " (79, 'newsgroup', 1),\n",
       " (80, 'people', 1),\n",
       " (81, 'pity', 1),\n",
       " (82, 'pretend', 1),\n",
       " (83, 'read', 1),\n",
       " (84, 'runs', 1),\n",
       " (85, 'sorry', 2),\n",
       " (86, 'start', 1),\n",
       " (87, 'steam', 1),\n",
       " (88, 'timmons', 1),\n",
       " (89, 'yeah', 1)]"
      ]
     },
     "execution_count": 13,
     "metadata": {},
     "output_type": "execute_result"
    }
   ],
   "source": [
    "[(id, id2word[id], freq) for id, freq in corpus[1]]"
   ]
  },
  {
   "cell_type": "markdown",
   "metadata": {},
   "source": [
    "## 02. Gensim LDA 학습\n",
    "- gensim에서 제공하는 lda 모델링\n",
    "- 하이퍼 파라미터는 [API 문서 참고](https://radimrehurek.com/gensim/models/ldamodel.html)\n",
    "- multicore를 지원하여 빠르게 학습하는 LdaMulticore 모델을 사용 가능"
   ]
  },
  {
   "cell_type": "markdown",
   "metadata": {},
   "source": [
    "### LDA 모델 학습"
   ]
  },
  {
   "cell_type": "code",
   "execution_count": 14,
   "metadata": {},
   "outputs": [],
   "source": [
    "topic_num = 20\n",
    "\n",
    "ldamodel = gensim.models.ldamodel.LdaModel(corpus,\n",
    "                                          num_topics = topic_num,\n",
    "                                          id2word = id2word,\n",
    "                                          passes=10,\n",
    "                                          per_word_topics=True)"
   ]
  },
  {
   "cell_type": "markdown",
   "metadata": {},
   "source": [
    "#### 특정 Topic의 Top 5 단어"
   ]
  },
  {
   "cell_type": "code",
   "execution_count": 15,
   "metadata": {},
   "outputs": [
    {
     "name": "stdout",
     "output_type": "stream",
     "text": [
      "jesus 0.021902012\n",
      "christian 0.012947079\n",
      "bible 0.012267443\n",
      "church 0.010227376\n",
      "christ 0.008986625\n"
     ]
    }
   ],
   "source": [
    "topic = 0\n",
    "topn = 5\n",
    "\n",
    "for id, prob in ldamodel.get_topic_terms(topic, topn=topn):\n",
    "    print(ldamodel.id2word[id], prob)"
   ]
  },
  {
   "cell_type": "markdown",
   "metadata": {},
   "source": [
    "#### Topic 별 Top 5 단어 출력"
   ]
  },
  {
   "cell_type": "code",
   "execution_count": 16,
   "metadata": {},
   "outputs": [
    {
     "name": "stdout",
     "output_type": "stream",
     "text": [
      "(0, '0.022*\"jesus\" + 0.013*\"christian\" + 0.012*\"bible\" + 0.010*\"church\" + 0.009*\"christ\"')\n",
      "(1, '0.013*\"water\" + 0.009*\"wiring\" + 0.007*\"smokeless\" + 0.007*\"power\" + 0.007*\"dept\"')\n",
      "(2, '0.026*\"keyboard\" + 0.022*\"monitor\" + 0.014*\"offer\" + 0.012*\"asking\" + 0.012*\"condition\"')\n",
      "(3, '0.013*\"circuit\" + 0.012*\"simms\" + 0.011*\"input\" + 0.010*\"signal\" + 0.008*\"voltage\"')\n",
      "(4, '0.018*\"scsi\" + 0.016*\"picture\" + 0.015*\"nist\" + 0.012*\"sleeve\" + 0.012*\"pope\"')\n",
      "(5, '0.019*\"game\" + 0.017*\"team\" + 0.013*\"year\" + 0.012*\"games\" + 0.012*\"play\"')\n",
      "(6, '0.012*\"like\" + 0.012*\"would\" + 0.010*\"know\" + 0.009*\"time\" + 0.008*\"think\"')\n",
      "(7, '0.015*\"would\" + 0.015*\"people\" + 0.010*\"think\" + 0.007*\"even\" + 0.006*\"know\"')\n",
      "(8, '0.013*\"health\" + 0.011*\"medical\" + 0.008*\"disease\" + 0.007*\"food\" + 0.006*\"patients\"')\n",
      "(9, '0.017*\"borland\" + 0.009*\"cleveland\" + 0.009*\"paradox\" + 0.008*\"expos\" + 0.007*\"yassin\"')\n",
      "(10, '0.011*\"windows\" + 0.011*\"would\" + 0.011*\"thanks\" + 0.011*\"drive\" + 0.010*\"know\"')\n",
      "(11, '0.016*\"navy\" + 0.011*\"cheers\" + 0.009*\"chinese\" + 0.009*\"kent\" + 0.008*\"david\"')\n",
      "(12, '0.019*\"israel\" + 0.015*\"jews\" + 0.012*\"israeli\" + 0.011*\"guns\" + 0.008*\"arab\"')\n",
      "(13, '0.011*\"georgia\" + 0.008*\"ships\" + 0.007*\"erzurum\" + 0.007*\"ingr\" + 0.007*\"uucp\"')\n",
      "(14, '0.027*\"file\" + 0.015*\"program\" + 0.015*\"window\" + 0.014*\"output\" + 0.013*\"entry\"')\n",
      "(15, '0.020*\"armenian\" + 0.017*\"armenians\" + 0.014*\"turkish\" + 0.011*\"people\" + 0.010*\"said\"')\n",
      "(16, '0.013*\"government\" + 0.008*\"president\" + 0.006*\"states\" + 0.006*\"state\" + 0.005*\"public\"')\n",
      "(17, '0.011*\"available\" + 0.010*\"information\" + 0.008*\"data\" + 0.007*\"also\" + 0.006*\"system\"')\n",
      "(18, '0.013*\"part\" + 0.013*\"crypt\" + 0.012*\"compass\" + 0.010*\"cryptography\" + 0.009*\"attack\"')\n",
      "(19, '0.027*\"space\" + 0.009*\"nasa\" + 0.006*\"center\" + 0.006*\"launch\" + 0.006*\"earth\"')\n"
     ]
    }
   ],
   "source": [
    "topics = ldamodel.print_topics(num_words = 5)\n",
    "for topic in topics:\n",
    "    print(topic)"
   ]
  },
  {
   "cell_type": "markdown",
   "metadata": {},
   "source": [
    "#### 특정 문서의 토픽별 분포"
   ]
  },
  {
   "cell_type": "code",
   "execution_count": 17,
   "metadata": {},
   "outputs": [
    {
     "data": {
      "text/plain": [
       "[(0, 0.14899082),\n",
       " (5, 0.027571857),\n",
       " (7, 0.32009748),\n",
       " (8, 0.14150786),\n",
       " (12, 0.28807348),\n",
       " (15, 0.06243821)]"
      ]
     },
     "execution_count": 17,
     "metadata": {},
     "output_type": "execute_result"
    }
   ],
   "source": [
    "bow = corpus[0]\n",
    "ldamodel.get_document_topics(bow)"
   ]
  },
  {
   "cell_type": "code",
   "execution_count": 18,
   "metadata": {},
   "outputs": [
    {
     "data": {
      "text/plain": [
       "[(0, 0.14901087),\n",
       " (1, 0.0008085897),\n",
       " (2, 0.0008085897),\n",
       " (3, 0.0008085897),\n",
       " (4, 0.0008085897),\n",
       " (5, 0.027570331),\n",
       " (6, 0.0008085897),\n",
       " (7, 0.32009575),\n",
       " (8, 0.14150956),\n",
       " (9, 0.0008085897),\n",
       " (10, 0.0008085897),\n",
       " (11, 0.0008085897),\n",
       " (12, 0.28810126),\n",
       " (13, 0.0008085897),\n",
       " (14, 0.0008085897),\n",
       " (15, 0.062392015),\n",
       " (16, 0.0008085897),\n",
       " (17, 0.0008085897),\n",
       " (18, 0.0008085897),\n",
       " (19, 0.0008085897)]"
      ]
     },
     "execution_count": 18,
     "metadata": {},
     "output_type": "execute_result"
    }
   ],
   "source": [
    "ldamodel.get_document_topics(bow, minimum_probability=0)"
   ]
  },
  {
   "cell_type": "markdown",
   "metadata": {},
   "source": [
    "#### 모든 문서에 대한 토픽 추출"
   ]
  },
  {
   "cell_type": "code",
   "execution_count": 19,
   "metadata": {},
   "outputs": [
    {
     "data": {
      "text/html": [
       "<div>\n",
       "<style scoped>\n",
       "    .dataframe tbody tr th:only-of-type {\n",
       "        vertical-align: middle;\n",
       "    }\n",
       "\n",
       "    .dataframe tbody tr th {\n",
       "        vertical-align: top;\n",
       "    }\n",
       "\n",
       "    .dataframe thead th {\n",
       "        text-align: right;\n",
       "    }\n",
       "</style>\n",
       "<table border=\"1\" class=\"dataframe\">\n",
       "  <thead>\n",
       "    <tr style=\"text-align: right;\">\n",
       "      <th></th>\n",
       "      <th>doc_id</th>\n",
       "      <th>top_topic</th>\n",
       "      <th>prop</th>\n",
       "    </tr>\n",
       "  </thead>\n",
       "  <tbody>\n",
       "    <tr>\n",
       "      <th>0</th>\n",
       "      <td>0</td>\n",
       "      <td>7</td>\n",
       "      <td>0.3201</td>\n",
       "    </tr>\n",
       "    <tr>\n",
       "      <th>1</th>\n",
       "      <td>1</td>\n",
       "      <td>7</td>\n",
       "      <td>0.7271</td>\n",
       "    </tr>\n",
       "    <tr>\n",
       "      <th>2</th>\n",
       "      <td>2</td>\n",
       "      <td>12</td>\n",
       "      <td>0.4976</td>\n",
       "    </tr>\n",
       "    <tr>\n",
       "      <th>3</th>\n",
       "      <td>3</td>\n",
       "      <td>7</td>\n",
       "      <td>0.2580</td>\n",
       "    </tr>\n",
       "    <tr>\n",
       "      <th>4</th>\n",
       "      <td>4</td>\n",
       "      <td>5</td>\n",
       "      <td>0.5909</td>\n",
       "    </tr>\n",
       "    <tr>\n",
       "      <th>...</th>\n",
       "      <td>...</td>\n",
       "      <td>...</td>\n",
       "      <td>...</td>\n",
       "    </tr>\n",
       "    <tr>\n",
       "      <th>11309</th>\n",
       "      <td>11309</td>\n",
       "      <td>16</td>\n",
       "      <td>0.2835</td>\n",
       "    </tr>\n",
       "    <tr>\n",
       "      <th>11310</th>\n",
       "      <td>11310</td>\n",
       "      <td>0</td>\n",
       "      <td>0.0500</td>\n",
       "    </tr>\n",
       "    <tr>\n",
       "      <th>11311</th>\n",
       "      <td>11311</td>\n",
       "      <td>6</td>\n",
       "      <td>0.6592</td>\n",
       "    </tr>\n",
       "    <tr>\n",
       "      <th>11312</th>\n",
       "      <td>11312</td>\n",
       "      <td>10</td>\n",
       "      <td>0.6631</td>\n",
       "    </tr>\n",
       "    <tr>\n",
       "      <th>11313</th>\n",
       "      <td>11313</td>\n",
       "      <td>6</td>\n",
       "      <td>0.6134</td>\n",
       "    </tr>\n",
       "  </tbody>\n",
       "</table>\n",
       "<p>11314 rows × 3 columns</p>\n",
       "</div>"
      ],
      "text/plain": [
       "       doc_id  top_topic    prop\n",
       "0           0          7  0.3201\n",
       "1           1          7  0.7271\n",
       "2           2         12  0.4976\n",
       "3           3          7  0.2580\n",
       "4           4          5  0.5909\n",
       "...       ...        ...     ...\n",
       "11309   11309         16  0.2835\n",
       "11310   11310          0  0.0500\n",
       "11311   11311          6  0.6592\n",
       "11312   11312         10  0.6631\n",
       "11313   11313          6  0.6134\n",
       "\n",
       "[11314 rows x 3 columns]"
      ]
     },
     "execution_count": 19,
     "metadata": {},
     "output_type": "execute_result"
    }
   ],
   "source": [
    "result = []\n",
    "\n",
    "for i, topic_list in enumerate(ldamodel[corpus]):\n",
    "    topics = topic_list[0]\n",
    "    topics = sorted(topics, key=lambda x: (x[1]), reverse=True)\n",
    "    if len(topics) > 0:\n",
    "        topic_num, prop_topic = topics[0][0], topics[0][1]\n",
    "        result.append([i, int(topic_num), round(prop_topic,4)])\n",
    "\n",
    "topic_table = pd.DataFrame(result, columns = ['doc_id', 'top_topic', 'prop'])\n",
    "topic_table"
   ]
  },
  {
   "cell_type": "markdown",
   "metadata": {},
   "source": [
    "#### Perplexity 계산, Perplexity가 낮을수록 좋은 모델"
   ]
  },
  {
   "cell_type": "code",
   "execution_count": 20,
   "metadata": {},
   "outputs": [
    {
     "name": "stdout",
     "output_type": "stream",
     "text": [
      "Perplexity:  -10.749942679504752\n"
     ]
    }
   ],
   "source": [
    "print(\"Perplexity: \",  ldamodel.log_perplexity(corpus))"
   ]
  },
  {
   "cell_type": "markdown",
   "metadata": {},
   "source": [
    "### Visualize the topics"
   ]
  },
  {
   "cell_type": "markdown",
   "metadata": {},
   "source": [
    "pyLDAvis.enable_notebook()\n",
    "vis = pyLDAvis.gensim.prepare(ldamodel, corpus, id2word)\n",
    "vis"
   ]
  },
  {
   "cell_type": "markdown",
   "metadata": {},
   "source": [
    "## 03. 커머스 데이터로 LDA 추천 모델 만들기\n",
    "- **`문서: 사용자`**, **`단어: 아이템`**\n",
    "- 각 사용자는 K개 토픽의 분포로 표현되고, 각 토픽은 아이템의 분포로 표현됩니다.\n",
    "- 사용자가 특정 토픽에 대한 비율이 높다면, 그 사용자에게 해당 토픽의 비율이 높은 아이템을 추천해줍니다."
   ]
  },
  {
   "cell_type": "code",
   "execution_count": 21,
   "metadata": {},
   "outputs": [
    {
     "data": {
      "text/html": [
       "<div>\n",
       "<style scoped>\n",
       "    .dataframe tbody tr th:only-of-type {\n",
       "        vertical-align: middle;\n",
       "    }\n",
       "\n",
       "    .dataframe tbody tr th {\n",
       "        vertical-align: top;\n",
       "    }\n",
       "\n",
       "    .dataframe thead th {\n",
       "        text-align: right;\n",
       "    }\n",
       "</style>\n",
       "<table border=\"1\" class=\"dataframe\">\n",
       "  <thead>\n",
       "    <tr style=\"text-align: right;\">\n",
       "      <th></th>\n",
       "      <th>InvoiceNo</th>\n",
       "      <th>StockCode</th>\n",
       "      <th>Description</th>\n",
       "      <th>Quantity</th>\n",
       "      <th>InvoiceDate</th>\n",
       "      <th>UnitPrice</th>\n",
       "      <th>CustomerID</th>\n",
       "      <th>Country</th>\n",
       "    </tr>\n",
       "  </thead>\n",
       "  <tbody>\n",
       "    <tr>\n",
       "      <th>0</th>\n",
       "      <td>536365</td>\n",
       "      <td>85123A</td>\n",
       "      <td>WHITE HANGING HEART T-LIGHT HOLDER</td>\n",
       "      <td>6</td>\n",
       "      <td>2010-12-01 08:26:00</td>\n",
       "      <td>2.55</td>\n",
       "      <td>17850.0</td>\n",
       "      <td>United Kingdom</td>\n",
       "    </tr>\n",
       "    <tr>\n",
       "      <th>1</th>\n",
       "      <td>536365</td>\n",
       "      <td>71053</td>\n",
       "      <td>WHITE METAL LANTERN</td>\n",
       "      <td>6</td>\n",
       "      <td>2010-12-01 08:26:00</td>\n",
       "      <td>3.39</td>\n",
       "      <td>17850.0</td>\n",
       "      <td>United Kingdom</td>\n",
       "    </tr>\n",
       "    <tr>\n",
       "      <th>2</th>\n",
       "      <td>536365</td>\n",
       "      <td>84406B</td>\n",
       "      <td>CREAM CUPID HEARTS COAT HANGER</td>\n",
       "      <td>8</td>\n",
       "      <td>2010-12-01 08:26:00</td>\n",
       "      <td>2.75</td>\n",
       "      <td>17850.0</td>\n",
       "      <td>United Kingdom</td>\n",
       "    </tr>\n",
       "    <tr>\n",
       "      <th>3</th>\n",
       "      <td>536365</td>\n",
       "      <td>84029G</td>\n",
       "      <td>KNITTED UNION FLAG HOT WATER BOTTLE</td>\n",
       "      <td>6</td>\n",
       "      <td>2010-12-01 08:26:00</td>\n",
       "      <td>3.39</td>\n",
       "      <td>17850.0</td>\n",
       "      <td>United Kingdom</td>\n",
       "    </tr>\n",
       "    <tr>\n",
       "      <th>4</th>\n",
       "      <td>536365</td>\n",
       "      <td>84029E</td>\n",
       "      <td>RED WOOLLY HOTTIE WHITE HEART.</td>\n",
       "      <td>6</td>\n",
       "      <td>2010-12-01 08:26:00</td>\n",
       "      <td>3.39</td>\n",
       "      <td>17850.0</td>\n",
       "      <td>United Kingdom</td>\n",
       "    </tr>\n",
       "  </tbody>\n",
       "</table>\n",
       "</div>"
      ],
      "text/plain": [
       "  InvoiceNo StockCode                          Description  Quantity  \\\n",
       "0    536365    85123A   WHITE HANGING HEART T-LIGHT HOLDER         6   \n",
       "1    536365     71053                  WHITE METAL LANTERN         6   \n",
       "2    536365    84406B       CREAM CUPID HEARTS COAT HANGER         8   \n",
       "3    536365    84029G  KNITTED UNION FLAG HOT WATER BOTTLE         6   \n",
       "4    536365    84029E       RED WOOLLY HOTTIE WHITE HEART.         6   \n",
       "\n",
       "          InvoiceDate  UnitPrice  CustomerID         Country  \n",
       "0 2010-12-01 08:26:00       2.55     17850.0  United Kingdom  \n",
       "1 2010-12-01 08:26:00       3.39     17850.0  United Kingdom  \n",
       "2 2010-12-01 08:26:00       2.75     17850.0  United Kingdom  \n",
       "3 2010-12-01 08:26:00       3.39     17850.0  United Kingdom  \n",
       "4 2010-12-01 08:26:00       3.39     17850.0  United Kingdom  "
      ]
     },
     "execution_count": 21,
     "metadata": {},
     "output_type": "execute_result"
    }
   ],
   "source": [
    "parse_date = lambda x: datetime.strptime(x, \"%Y-%m-%d %H:%M\")\n",
    "retail_df = pd.read_csv(\"../data/online_retail.csv\", encoding='utf-8', parse_dates = ['InvoiceDate'], date_parser = parse_date)\n",
    "retail_df.head()"
   ]
  },
  {
   "cell_type": "code",
   "execution_count": 22,
   "metadata": {},
   "outputs": [],
   "source": [
    "stock_to_description = {row[\"StockCode\"] : row[\"Description\"] for _, row in retail_df.iterrows()}"
   ]
  },
  {
   "cell_type": "markdown",
   "metadata": {},
   "source": [
    "#### 일부 데이터 제외\n",
    "- 사용자 아이디가 없는 데이터 제외\n",
    "- quantity가 음수인 데이터 제외"
   ]
  },
  {
   "cell_type": "code",
   "execution_count": 23,
   "metadata": {},
   "outputs": [],
   "source": [
    "cleaned_retail_df = retail_df[~(retail_df['CustomerID'].isnull()) & (retail_df['Quantity'] > 0)]"
   ]
  },
  {
   "cell_type": "markdown",
   "metadata": {},
   "source": [
    "### 데이터 전처리"
   ]
  },
  {
   "cell_type": "code",
   "execution_count": 24,
   "metadata": {},
   "outputs": [],
   "source": [
    "cleaned_retail_df['CustomerId'] = cleaned_retail_df.CustomerID.astype(int)\n",
    "cleaned_retail_df['StockCode']  = cleaned_retail_df['StockCode'].astype(\"str\")\n",
    "cleaned_retail_df = cleaned_retail_df[['InvoiceNo', 'StockCode', 'Quantity', 'CustomerID', 'InvoiceDate']]\n",
    "cleaned_retail_df['ym'] = cleaned_retail_df['InvoiceDate'].apply(lambda x: str(x)[:7])"
   ]
  },
  {
   "cell_type": "markdown",
   "metadata": {},
   "source": [
    "#### 전체 기간 데이터 확인"
   ]
  },
  {
   "cell_type": "code",
   "execution_count": 25,
   "metadata": {},
   "outputs": [
    {
     "data": {
      "text/plain": [
       "<matplotlib.axes._subplots.AxesSubplot at 0x2929d552248>"
      ]
     },
     "execution_count": 25,
     "metadata": {},
     "output_type": "execute_result"
    },
    {
     "data": {
      "image/png": "[encoded data removed]",
      "text/plain": [
       "<Figure size 360x360 with 1 Axes>"
      ]
     },
     "metadata": {
      "needs_background": "light"
     },
     "output_type": "display_data"
    }
   ],
   "source": [
    "cleaned_retail_df.groupby(['ym'])['StockCode'].count().plot.bar(figsize=(5, 5))"
   ]
  },
  {
   "cell_type": "markdown",
   "metadata": {},
   "source": [
    "- **`2011-09 ~ 2011-11`** 데이터를 train 데이터로 사용하고, **`2011-12`** 데이터를 test 데이터로 사용합니다."
   ]
  },
  {
   "cell_type": "code",
   "execution_count": 26,
   "metadata": {},
   "outputs": [],
   "source": [
    "cleaned_retail_df['ym'] = cleaned_retail_df['InvoiceDate'].apply(lambda x: str(x)[:7])\n",
    "train_df = cleaned_retail_df[(cleaned_retail_df['ym'] >= '2011-09') & (cleaned_retail_df['ym'] <= '2011-11')]\n",
    "test_df  = cleaned_retail_df[cleaned_retail_df['ym'] == '2011-12']"
   ]
  },
  {
   "cell_type": "markdown",
   "metadata": {},
   "source": [
    "- 사용자 별로 groupby 하여 문서의 형태로 만들어줍니다."
   ]
  },
  {
   "cell_type": "code",
   "execution_count": 27,
   "metadata": {},
   "outputs": [],
   "source": [
    "train_groupby = train_df.groupby(['CustomerID'])\n",
    "doc_list = []\n",
    "\n",
    "for user_id, user_df in train_groupby:\n",
    "    document = user_df['StockCode'].values.tolist()\n",
    "    doc_list.append(document)"
   ]
  },
  {
   "cell_type": "markdown",
   "metadata": {},
   "source": [
    "#### 학습 데이터 샘플"
   ]
  },
  {
   "cell_type": "code",
   "execution_count": 28,
   "metadata": {
    "scrolled": true
   },
   "outputs": [
    {
     "data": {
      "text/plain": [
       "['22993',\n",
       " '16045',\n",
       " '22398',\n",
       " '22608',\n",
       " '22610',\n",
       " '21558',\n",
       " '16008',\n",
       " '23379',\n",
       " '23392',\n",
       " '23559',\n",
       " '90087',\n",
       " '23388',\n",
       " '23389',\n",
       " '21559',\n",
       " '22352',\n",
       " '35964',\n",
       " '22579',\n",
       " '21015',\n",
       " '21014',\n",
       " '22336',\n",
       " '23483',\n",
       " '23540',\n",
       " '23542',\n",
       " 'POST',\n",
       " '22326',\n",
       " '21580',\n",
       " '22327',\n",
       " 'POST']"
      ]
     },
     "execution_count": 28,
     "metadata": {},
     "output_type": "execute_result"
    }
   ],
   "source": [
    "doc_list[100]"
   ]
  },
  {
   "cell_type": "markdown",
   "metadata": {},
   "source": [
    "#### gensim에서 지원하는 dictionary"
   ]
  },
  {
   "cell_type": "code",
   "execution_count": 29,
   "metadata": {},
   "outputs": [],
   "source": [
    "id2word = corpora.Dictionary(doc_list)"
   ]
  },
  {
   "cell_type": "markdown",
   "metadata": {},
   "source": [
    "#### 문서를 TF의 형태로 변환"
   ]
  },
  {
   "cell_type": "code",
   "execution_count": 30,
   "metadata": {},
   "outputs": [
    {
     "name": "stdout",
     "output_type": "stream",
     "text": [
      "[(49, 2), (67, 1), (139, 1), (148, 1), (329, 1), (342, 1), (343, 1), (354, 1), (433, 1), (434, 1), (501, 1), (741, 1), (757, 1), (774, 1), (800, 1), (1035, 1), (1081, 1), (1192, 1), (1213, 1), (1403, 1), (1404, 1), (1405, 1), (1406, 1), (1407, 1), (1408, 1), (1409, 1), (1410, 1)]\n"
     ]
    }
   ],
   "source": [
    "corpus = [id2word.doc2bow(doc) for doc in doc_list]\n",
    "print(corpus[100])"
   ]
  },
  {
   "cell_type": "markdown",
   "metadata": {},
   "source": [
    "### LDA 모델링"
   ]
  },
  {
   "cell_type": "code",
   "execution_count": 31,
   "metadata": {},
   "outputs": [],
   "source": [
    "topic_num = 20\n",
    "ldamodel  = gensim.models.ldamodel.LdaModel(corpus,\n",
    "                                           num_topics = topic_num,\n",
    "                                           id2word = id2word,\n",
    "                                           passes=10)"
   ]
  },
  {
   "cell_type": "markdown",
   "metadata": {},
   "source": [
    "#### 20개 토픽별 Top N 아이템 분포 확인"
   ]
  },
  {
   "cell_type": "code",
   "execution_count": 32,
   "metadata": {},
   "outputs": [
    {
     "name": "stdout",
     "output_type": "stream",
     "text": [
      "(0, '0.033*\"22749\" + 0.033*\"22568\" + 0.032*\"22750\" + 0.029*\"22940\" + 0.029*\"22144\"')\n",
      "(1, '0.035*\"21137\" + 0.030*\"15056N\" + 0.029*\"15056BL\" + 0.028*\"22197\" + 0.027*\"23084\"')\n",
      "(2, '0.032*\"POST\" + 0.020*\"22629\" + 0.016*\"22326\" + 0.015*\"22630\" + 0.014*\"23256\"')\n",
      "(3, '0.014*\"84946\" + 0.014*\"84879\" + 0.012*\"22086\" + 0.010*\"22158\" + 0.008*\"23215\"')\n",
      "(4, '0.033*\"22578\" + 0.028*\"22577\" + 0.028*\"23266\" + 0.028*\"23265\" + 0.027*\"23263\"')\n",
      "(5, '0.010*\"22574\" + 0.010*\"22573\" + 0.007*\"23275\" + 0.007*\"22576\" + 0.007*\"22578\"')\n",
      "(6, '0.030*\"21790\" + 0.017*\"21889\" + 0.016*\"21791\" + 0.014*\"22561\" + 0.013*\"22086\"')\n",
      "(7, '0.033*\"85099B\" + 0.031*\"23203\" + 0.024*\"23344\" + 0.023*\"23202\" + 0.022*\"23209\"')\n",
      "(8, '0.020*\"23293\" + 0.015*\"23296\" + 0.015*\"23295\" + 0.011*\"23294\" + 0.010*\"23240\"')\n",
      "(9, '0.060*\"22726\" + 0.057*\"22727\" + 0.042*\"22728\" + 0.034*\"22730\" + 0.029*\"23084\"')\n",
      "(10, '0.023*\"22423\" + 0.020*\"22699\" + 0.019*\"23245\" + 0.019*\"22697\" + 0.017*\"22698\"')\n",
      "(11, '0.014*\"22138\" + 0.009*\"21891\" + 0.009*\"20975\" + 0.008*\"22553\" + 0.008*\"22531\"')\n",
      "(12, '0.012*\"20727\" + 0.011*\"22383\" + 0.009*\"22998\" + 0.009*\"22382\" + 0.008*\"22995\"')\n",
      "(13, '0.013*\"21034\" + 0.008*\"47503A\" + 0.008*\"22208\" + 0.007*\"22093\" + 0.007*\"20992\"')\n",
      "(14, '0.019*\"22470\" + 0.018*\"85123A\" + 0.018*\"22469\" + 0.016*\"23322\" + 0.015*\"23284\"')\n",
      "(15, '0.014*\"22659\" + 0.014*\"22900\" + 0.012*\"22616\" + 0.011*\"23005\" + 0.010*\"22970\"')\n",
      "(16, '0.021*\"22910\" + 0.020*\"22086\" + 0.019*\"23349\" + 0.018*\"22909\" + 0.017*\"22952\"')\n",
      "(17, '0.024*\"23395\" + 0.019*\"23396\" + 0.016*\"23394\" + 0.016*\"23032\" + 0.014*\"46000M\"')\n",
      "(18, '0.040*\"23355\" + 0.036*\"22112\" + 0.031*\"22114\" + 0.029*\"22835\" + 0.028*\"22111\"')\n",
      "(19, '0.011*\"23309\" + 0.008*\"23301\" + 0.008*\"21034\" + 0.007*\"84992\" + 0.007*\"22086\"')\n"
     ]
    }
   ],
   "source": [
    "topics = ldamodel.print_topics(num_words = 5)\n",
    "for topic in topics: print(topic)"
   ]
  },
  {
   "cell_type": "code",
   "execution_count": 33,
   "metadata": {},
   "outputs": [
    {
     "name": "stdout",
     "output_type": "stream",
     "text": [
      "0 ['FELTCRAFT PRINCESS CHARLOTTE DOLL', 'FELTCRAFT CUSHION OWL', 'FELTCRAFT PRINCESS LOLA DOLL', 'FELTCRAFT CHRISTMAS FAIRY', 'CHRISTMAS CRAFT LITTLE FRIENDS']\n",
      "1 ['BLACK RECORD COVER FRAME', 'EDWARDIAN PARASOL NATURAL', 'EDWARDIAN PARASOL BLACK', 'POPCORN HOLDER', 'RABBIT NIGHT LIGHT']\n",
      "2 ['POSTAGE', 'SPACEBOY LUNCH BOX ', 'ROUND SNACK BOXES SET OF4 WOODLAND ', 'DOLLY GIRL LUNCH BOX', 'CHILDRENS CUTLERY SPACEBOY ']\n",
      "3 ['ANTIQUE SILVER T-LIGHT GLASS', 'ASSORTED COLOUR BIRD ORNAMENT', \"PAPER CHAIN KIT 50'S CHRISTMAS \", '3 HEARTS HANGING DECORATION RUSTIC', 'JINGLE BELL HEART ANTIQUE SILVER']\n",
      "4 ['WOODEN STAR CHRISTMAS SCANDINAVIAN', 'WOODEN HEART CHRISTMAS SCANDINAVIAN', 'SET OF 3 WOODEN STOCKING DECORATION', 'SET OF 3 WOODEN TREE DECORATIONS', 'SET OF 3 WOODEN HEART DECORATIONS']\n",
      "5 ['HEART WOODEN CHRISTMAS DECORATION', 'STAR WOODEN CHRISTMAS DECORATION', 'SET OF 3 HANGING OWLS OLLIE BEAK', 'SWALLOW WOODEN CHRISTMAS DECORATION', 'WOODEN STAR CHRISTMAS SCANDINAVIAN']\n",
      "6 ['VINTAGE SNAP CARDS', 'WOODEN BOX OF DOMINOES', 'VINTAGE HEADS AND TAILS CARD GAME ', 'WOODEN SCHOOL COLOURING SET', \"PAPER CHAIN KIT 50'S CHRISTMAS \"]\n",
      "7 ['JUMBO BAG RED RETROSPOT', 'JUMBO BAG VINTAGE DOILY ', \"JUMBO BAG 50'S CHRISTMAS \", 'JUMBO BAG VINTAGE LEAF', 'LUNCH BAG VINTAGE DOILY ']\n",
      "8 ['SET OF 12 FAIRY CAKE BAKING CASES', 'SET OF 6 TEA TIME BAKING CASES', 'SET OF 12 MINI LOAF BAKING CASES', 'SET OF 6 SNACK LOAF BAKING CASES', 'SET OF 4 KNICK KNACK TINS DOILY ']\n",
      "9 ['ALARM CLOCK BAKELIKE GREEN', 'ALARM CLOCK BAKELIKE RED ', 'ALARM CLOCK BAKELIKE PINK', 'ALARM CLOCK BAKELIKE IVORY', 'RABBIT NIGHT LIGHT']\n",
      "10 ['REGENCY CAKESTAND 3 TIER', 'ROSES REGENCY TEACUP AND SAUCER ', 'SET OF 3 REGENCY CAKE TINS', 'GREEN REGENCY TEACUP AND SAUCER', 'PINK REGENCY TEACUP AND SAUCER']\n",
      "11 ['BAKING SET 9 PIECE RETROSPOT ', 'TRADITIONAL WOODEN SKIPPING ROPE', '12 PENCILS SMALL TUBE RED RETROSPOT', 'PLASTERS IN TIN SKULLS', 'MAGIC DRAWING SLATE CIRCUS PARADE  ']\n",
      "12 ['LUNCH BAG  BLACK SKULL.', 'LUNCH BAG SUKI DESIGN ', 'TRAVEL CARD WALLET KEEP CALM', 'LUNCH BAG SPACEBOY DESIGN ', 'TRAVEL CARD WALLET SUKI']\n",
      "13 ['REX CASH+CARRY JUMBO SHOPPER', nan, 'WOOD STAMP SET THANK YOU', 'MOTORING TISSUE BOX', 'JAZZ HEARTS PURSE NOTEBOOK']\n",
      "14 ['HEART OF WICKER LARGE', 'CREAM HANGING HEART T-LIGHT HOLDER', 'HEART OF WICKER SMALL', 'LARGE WHITE HEART OF WICKER', 'DOORMAT KEEP CALM AND COME IN']\n",
      "15 ['LUNCH BOX I LOVE LONDON', 'SET 2 TEA TOWELS I LOVE LONDON ', 'PACK OF 12 LONDON TISSUES ', 'TRAVEL CARD WALLET I LOVE LONDON', 'LONDON BUS COFFEE MUG']\n",
      "16 ['PAPER CHAIN KIT VINTAGE CHRISTMAS', \"PAPER CHAIN KIT 50'S CHRISTMAS \", 'ROLL WRAP VINTAGE CHRISTMAS', 'SET OF 20 VINTAGE CHRISTMAS NAPKINS', '60 CAKE CASES VINTAGE CHRISTMAS']\n",
      "17 ['BELLE JARDINIERE CUSHION COVER', 'LE JARDIN BOTANIQUE CUSHION COVER', 'POSTE FRANCE CUSHION COVER', 'DRAWER KNOB CRACKLE GLAZE IVORY', 'POLYESTER FILLER PAD 45x45cm']\n",
      "18 ['HOT WATER BOTTLE KEEP CALM', 'CHOCOLATE HOT WATER BOTTLE', 'HOT WATER BOTTLE TEA AND SYMPATHY', 'HOT WATER BOTTLE I AM SO POORLY', 'SCOTTIE DOG HOT WATER BOTTLE']\n",
      "19 ['SET OF 60 I LOVE LONDON CAKE CASES ', 'GARDENERS KNEELING PAD KEEP CALM ', 'REX CASH+CARRY JUMBO SHOPPER', '72 SWEETHEART FAIRY CAKE CASES', \"PAPER CHAIN KIT 50'S CHRISTMAS \"]\n"
     ]
    }
   ],
   "source": [
    "for i in range(20):\n",
    "    recommend = ldamodel.show_topic(topicid=i, topn=5)\n",
    "    print(i, [stock_to_description[item] for item, score in recommend])"
   ]
  },
  {
   "cell_type": "markdown",
   "metadata": {},
   "source": [
    "#### 유저의 토픽 분포를 구해봅시다"
   ]
  },
  {
   "cell_type": "code",
   "execution_count": 34,
   "metadata": {},
   "outputs": [],
   "source": [
    "user_topic_dict = {}\n",
    "for user_id, user_df in train_groupby:\n",
    "    document = user_df['StockCode'].values.tolist()\n",
    "    user_topic_dict[user_id] = ldamodel.get_document_topics(id2word.doc2bow(document), minimum_probability=0.0)"
   ]
  },
  {
   "cell_type": "code",
   "execution_count": 35,
   "metadata": {},
   "outputs": [
    {
     "data": {
      "text/plain": [
       "[(0, 0.016125945),\n",
       " (1, 0.10703708),\n",
       " (2, 0.42855385),\n",
       " (3, 0.00035468393),\n",
       " (4, 0.00035468393),\n",
       " (5, 0.00035468393),\n",
       " (6, 0.023952905),\n",
       " (7, 0.21593425),\n",
       " (8, 0.12408726),\n",
       " (9, 0.00035468393),\n",
       " (10, 0.042694774),\n",
       " (11, 0.00035468393),\n",
       " (12, 0.00035468393),\n",
       " (13, 0.00035468393),\n",
       " (14, 0.00035468393),\n",
       " (15, 0.037357707),\n",
       " (16, 0.00035468393),\n",
       " (17, 0.00035468393),\n",
       " (18, 0.00035468393),\n",
       " (19, 0.00035468393)]"
      ]
     },
     "execution_count": 35,
     "metadata": {},
     "output_type": "execute_result"
    }
   ],
   "source": [
    "user_id = 12682\n",
    "user_topic_dict[user_id]"
   ]
  },
  {
   "cell_type": "markdown",
   "metadata": {},
   "source": [
    "## 04. LDA로 유저에게 추천"
   ]
  },
  {
   "cell_type": "markdown",
   "metadata": {},
   "source": [
    "### 유저 토픽 가운데 확률이 높은 topic을 이용한 추천\n",
    "- 유저의 토픽 분포를 확인하고 가장 확률이 높은 토픽을 선택합니다.\n",
    "- 해당 토픽에 속한 Top N 아이템을 추천합니다.\n",
    "- example: user - 12682, n - 20"
   ]
  },
  {
   "cell_type": "code",
   "execution_count": 36,
   "metadata": {},
   "outputs": [
    {
     "data": {
      "text/plain": [
       "['POST',\n",
       " '22629',\n",
       " '22326',\n",
       " '22630',\n",
       " '23256',\n",
       " '23389',\n",
       " '23254',\n",
       " '22328',\n",
       " '22382',\n",
       " '21669',\n",
       " '22551',\n",
       " '22467',\n",
       " '22554',\n",
       " '23390',\n",
       " '23388',\n",
       " '21212',\n",
       " '21668',\n",
       " '21731',\n",
       " '23292',\n",
       " '23290']"
      ]
     },
     "execution_count": 36,
     "metadata": {},
     "output_type": "execute_result"
    }
   ],
   "source": [
    "topn = 20\n",
    "user_id = 12682\n",
    "user_topics = user_topic_dict[user_id]\n",
    "user_topics = sorted(user_topics, key=lambda x: (x[1]), reverse=True)\n",
    "user_topic = user_topics[0][0]\n",
    "\n",
    "recommend = ldamodel.show_topic(topicid = user_topic, topn=topn)\n",
    "recommend = [item for item, score in recommend]\n",
    "recommend"
   ]
  },
  {
   "cell_type": "code",
   "execution_count": 37,
   "metadata": {},
   "outputs": [
    {
     "data": {
      "text/plain": [
       "2"
      ]
     },
     "execution_count": 37,
     "metadata": {},
     "output_type": "execute_result"
    }
   ],
   "source": [
    "user_topic"
   ]
  },
  {
   "cell_type": "markdown",
   "metadata": {},
   "source": [
    "#### 실제 유저가 test 데이터에서 선호한(구매한) 아이템"
   ]
  },
  {
   "cell_type": "code",
   "execution_count": 38,
   "metadata": {
    "scrolled": true
   },
   "outputs": [
    {
     "data": {
      "text/plain": [
       "['20750',\n",
       " '21931',\n",
       " '85099B',\n",
       " '22423',\n",
       " '21242',\n",
       " '21243',\n",
       " '21239',\n",
       " '21240',\n",
       " '23040',\n",
       " '22596',\n",
       " '22456',\n",
       " '48185',\n",
       " '21770',\n",
       " '21977',\n",
       " '21212',\n",
       " '84375',\n",
       " '23163',\n",
       " '84378',\n",
       " '23020',\n",
       " '22966',\n",
       " '23084',\n",
       " '22556',\n",
       " '22551',\n",
       " '22555',\n",
       " '47566',\n",
       " '23192',\n",
       " '22139',\n",
       " '22138',\n",
       " '22467',\n",
       " 'POST']"
      ]
     },
     "execution_count": 38,
     "metadata": {},
     "output_type": "execute_result"
    }
   ],
   "source": [
    "relevant = test_df[test_df['CustomerID'] == user_id]['StockCode'].unique()\n",
    "list(relevant)"
   ]
  },
  {
   "cell_type": "code",
   "execution_count": 39,
   "metadata": {},
   "outputs": [],
   "source": [
    "def get_precision(relevant, recommend):\n",
    "    _intersection = set(recommend).intersection(set(relevant))\n",
    "    return len(_intersection) / len(recommend)\n",
    "\n",
    "def get_recall(relevant, recommend):\n",
    "    _intersection = set(recommend).intersection(set(relevant))\n",
    "    return len(_intersection) / len(relevant)"
   ]
  },
  {
   "cell_type": "code",
   "execution_count": 40,
   "metadata": {},
   "outputs": [
    {
     "name": "stdout",
     "output_type": "stream",
     "text": [
      "0.2\n",
      "0.13333333333333333\n"
     ]
    }
   ],
   "source": [
    "# Precision\n",
    "print(get_precision(relevant, recommend))\n",
    "\n",
    "# Recall\n",
    "print(get_recall(relevant, recommend))"
   ]
  },
  {
   "cell_type": "markdown",
   "metadata": {},
   "source": [
    "### Top N 추천 성능 평가\n",
    "- 유저별로 추천하여 전체 성능을 구해봅시다"
   ]
  },
  {
   "cell_type": "code",
   "execution_count": 41,
   "metadata": {},
   "outputs": [
    {
     "name": "stdout",
     "output_type": "stream",
     "text": [
      "precision@k: 0.1078048780487805\n",
      "recall@k: 0.12760624395007583\n"
     ]
    }
   ],
   "source": [
    "train_user_ids = train_df['CustomerID'].unique()\n",
    "test_user_ids  = test_df['CustomerID'].unique()\n",
    "topn = 20\n",
    "\n",
    "default_recommend = list(train_df.groupby('StockCode')['Quantity'].count().sort_values(ascending=False)[:topn].index)\n",
    "\n",
    "precisions = []\n",
    "recalls = []\n",
    "\n",
    "for user_id in test_user_ids:\n",
    "    if user_id in train_user_ids:\n",
    "        user_topics = user_topic_dict[user_id]\n",
    "        user_topics = sorted(user_topics, key=lambda x: (x[1]), reverse=True)\n",
    "        user_topic  = user_topics[0][0]\n",
    "        recommend = [item for item, score in ldamodel.show_topic(topicid = user_topic, topn=topn)]\n",
    "    else:\n",
    "        recommend = default_recommend\n",
    "        \n",
    "    relevant = test_df[test_df['CustomerID'] == user_id]['StockCode'].unique()\n",
    "    precisions.append(get_precision(relevant, recommend))\n",
    "    recalls.append(get_recall(relevant, recommend))\n",
    "    \n",
    "print(\"precision@k:\", np.mean(np.asarray(precisions)))\n",
    "print(\"recall@k:\", np.mean(np.asarray(recalls)))"
   ]
  }
 ],
 "metadata": {
  "kernelspec": {
   "display_name": "Python 3",
   "language": "python",
   "name": "python3"
  },
  "language_info": {
   "codemirror_mode": {
    "name": "ipython",
    "version": 3
   },
   "file_extension": ".py",
   "mimetype": "text/x-python",
   "name": "python",
   "nbconvert_exporter": "python",
   "pygments_lexer": "ipython3",
   "version": "3.7.6"
  }
 },
 "nbformat": 4,
 "nbformat_minor": 2
}
