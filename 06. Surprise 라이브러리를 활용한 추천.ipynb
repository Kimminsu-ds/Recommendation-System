{
 "cells": [
  {
   "cell_type": "markdown",
   "metadata": {},
   "source": [
    "## 00. 환경설정"
   ]
  },
  {
   "cell_type": "code",
   "execution_count": 1,
   "metadata": {},
   "outputs": [],
   "source": [
    "import os\n",
    "import pandas as pd\n",
    "import seaborn as sns\n",
    "import scipy\n",
    "import numpy as np\n",
    "import random\n",
    "from matplotlib import pyplot as plt\n",
    "from datetime import datetime\n",
    "from tqdm import tqdm\n",
    "%matplotlib inline\n",
    "\n",
    "from surprise import accuracy\n",
    "from surprise.model_selection import train_test_split\n",
    "from surprise import KNNBasic, KNNWithMeans\n",
    "from surprise.model_selection.validation import cross_validate\n",
    "from sklearn.metrics import mean_squared_error, mean_absolute_error\n",
    "\n",
    "import warnings\n",
    "warnings.filterwarnings(\"ignore\")"
   ]
  },
  {
   "cell_type": "markdown",
   "metadata": {},
   "source": [
    "## 01. [Surprise](https://surprise.readthedocs.io/en/stable/index.html) 라이브러리 활용\n",
    "- CF 관련 머신러닝 라이브러리 Surpise 사용\n",
    "- kNN CF, MF 등의 알고리즘도 제공"
   ]
  },
  {
   "cell_type": "markdown",
   "metadata": {},
   "source": [
    "### 데이터 준비"
   ]
  },
  {
   "cell_type": "code",
   "execution_count": 2,
   "metadata": {},
   "outputs": [],
   "source": [
    "ratings_df = pd.read_csv(\"../data/ml-latest-small/ratings.csv\", encoding='utf-8')"
   ]
  },
  {
   "cell_type": "code",
   "execution_count": 3,
   "metadata": {},
   "outputs": [
    {
     "data": {
      "text/plain": [
       "<matplotlib.axes._subplots.AxesSubplot at 0x2d450c550c8>"
      ]
     },
     "execution_count": 3,
     "metadata": {},
     "output_type": "execute_result"
    },
    {
     "data": {
      "image/png": "[encoded data removed]",
      "text/plain": [
       "<Figure size 432x288 with 1 Axes>"
      ]
     },
     "metadata": {
      "needs_background": "light"
     },
     "output_type": "display_data"
    }
   ],
   "source": [
    "sns.distplot(ratings_df['rating'])"
   ]
  },
  {
   "cell_type": "markdown",
   "metadata": {},
   "source": [
    "### Surprise 패키지에서 제공하는 dataset과 reader"
   ]
  },
  {
   "cell_type": "code",
   "execution_count": 4,
   "metadata": {},
   "outputs": [],
   "source": [
    "from surprise import Reader, Dataset\n",
    "\n",
    "reader = Reader(rating_scale=(0.5, 5.0))\n",
    "data = Dataset.load_from_df(ratings_df[['userId', 'movieId', 'rating']], reader)"
   ]
  },
  {
   "cell_type": "code",
   "execution_count": 5,
   "metadata": {},
   "outputs": [
    {
     "data": {
      "text/plain": [
       "surprise.dataset.DatasetAutoFolds"
      ]
     },
     "execution_count": 5,
     "metadata": {},
     "output_type": "execute_result"
    }
   ],
   "source": [
    "type(data)"
   ]
  },
  {
   "cell_type": "markdown",
   "metadata": {},
   "source": [
    "### kNN Model\n",
    "- [모델 API](https://surprise.readthedocs.io/en/stable/knn_inspired.html)\n",
    "- [유사도 API](https://surprise.readthedocs.io/en/stable/prediction_algorithms.html#similarity-measures-configuration)"
   ]
  },
  {
   "cell_type": "code",
   "execution_count": 6,
   "metadata": {},
   "outputs": [
    {
     "name": "stdout",
     "output_type": "stream",
     "text": [
      "Computing the cosine similarity matrix...\n",
      "Done computing similarity matrix.\n",
      "RMSE: 0.9699\n"
     ]
    },
    {
     "data": {
      "text/plain": [
       "0.969943918550271"
      ]
     },
     "execution_count": 6,
     "metadata": {},
     "output_type": "execute_result"
    }
   ],
   "source": [
    "from surprise import accuracy\n",
    "from surprise.model_selection import train_test_split\n",
    "\n",
    "# train / test 데이터 나누기, surprise에서 제공하는 함수\n",
    "\n",
    "train_data, test_data = train_test_split(data, test_size=0.2, random_state=10)\n",
    "\n",
    "# 기본 KNN 모델을 사용합니다\n",
    "# user-based\n",
    "\n",
    "sim_options = {\n",
    "    'name': 'cosine',\n",
    "    'user_based': True\n",
    "}\n",
    "\n",
    "knnbasic = KNNBasic(k = 40, min_k = 1, sim_options = sim_options)\n",
    "\n",
    "# 학습 데이터를 가지고 모델을 학습하고, 예측을 수행합니다\n",
    "knnbasic.fit(train_data)\n",
    "predictions = knnbasic.test(test_data)\n",
    "\n",
    "# 모델 성능을 rmse로 계산합니다\n",
    "accuracy.rmse(predictions)"
   ]
  },
  {
   "cell_type": "code",
   "execution_count": 7,
   "metadata": {},
   "outputs": [
    {
     "data": {
      "text/plain": [
       "20168"
      ]
     },
     "execution_count": 7,
     "metadata": {},
     "output_type": "execute_result"
    }
   ],
   "source": [
    "len(predictions)"
   ]
  },
  {
   "cell_type": "markdown",
   "metadata": {},
   "source": [
    "#### cross validation 함수를 지원합니다"
   ]
  },
  {
   "cell_type": "code",
   "execution_count": 8,
   "metadata": {},
   "outputs": [
    {
     "name": "stdout",
     "output_type": "stream",
     "text": [
      "Computing the cosine similarity matrix...\n",
      "Done computing similarity matrix.\n",
      "Computing the cosine similarity matrix...\n",
      "Done computing similarity matrix.\n",
      "Computing the cosine similarity matrix...\n",
      "Done computing similarity matrix.\n",
      "Computing the cosine similarity matrix...\n",
      "Done computing similarity matrix.\n",
      "Computing the cosine similarity matrix...\n",
      "Done computing similarity matrix.\n",
      "Evaluating RMSE, MAE of algorithm KNNBasic on 5 split(s).\n",
      "\n",
      "                  Fold 1  Fold 2  Fold 3  Fold 4  Fold 5  Mean    Std     \n",
      "RMSE (testset)    0.9732  0.9733  0.9672  0.9748  0.9742  0.9726  0.0027  \n",
      "MAE (testset)     0.7524  0.7502  0.7461  0.7475  0.7486  0.7490  0.0022  \n",
      "Fit time          1.20    1.71    1.72    1.46    1.45    1.51    0.19    \n",
      "Test time         3.13    4.19    3.80    3.94    3.45    3.70    0.37    \n"
     ]
    }
   ],
   "source": [
    "user_based_cv_result = cross_validate(knnbasic, data, measures=['RMSE', 'MAE'], cv=5, verbose=True)"
   ]
  },
  {
   "cell_type": "markdown",
   "metadata": {},
   "source": [
    "#### Item-based 추천"
   ]
  },
  {
   "cell_type": "code",
   "execution_count": 9,
   "metadata": {},
   "outputs": [
    {
     "name": "stdout",
     "output_type": "stream",
     "text": [
      "Computing the cosine similarity matrix...\n",
      "Done computing similarity matrix.\n",
      "RMSE: 0.9765\n"
     ]
    },
    {
     "data": {
      "text/plain": [
       "0.9764701105938001"
      ]
     },
     "execution_count": 9,
     "metadata": {},
     "output_type": "execute_result"
    }
   ],
   "source": [
    "sim_options = {\n",
    "    'name': 'cosine',\n",
    "    'user_based': False # item-based\n",
    "}\n",
    "\n",
    "knnbasic = KNNBasic(k = 40, min_k = 1, sim_options = sim_options)\n",
    "\n",
    "# 학습 데이터를 가지고 모델을 학습하고, 예측을 수행합니다\n",
    "knnbasic.fit(train_data)\n",
    "predictions = knnbasic.test(test_data)\n",
    "\n",
    "# 모델 성능을 rmse로 계산합니다\n",
    "accuracy.rmse(predictions)"
   ]
  },
  {
   "cell_type": "code",
   "execution_count": 10,
   "metadata": {},
   "outputs": [
    {
     "name": "stdout",
     "output_type": "stream",
     "text": [
      "Computing the cosine similarity matrix...\n",
      "Done computing similarity matrix.\n",
      "Computing the cosine similarity matrix...\n",
      "Done computing similarity matrix.\n",
      "Computing the cosine similarity matrix...\n",
      "Done computing similarity matrix.\n",
      "Computing the cosine similarity matrix...\n",
      "Done computing similarity matrix.\n",
      "Computing the cosine similarity matrix...\n",
      "Done computing similarity matrix.\n",
      "Evaluating RMSE, MAE of algorithm KNNBasic on 5 split(s).\n",
      "\n",
      "                  Fold 1  Fold 2  Fold 3  Fold 4  Fold 5  Mean    Std     \n",
      "RMSE (testset)    0.9687  0.9816  0.9807  0.9752  0.9682  0.9749  0.0057  \n",
      "MAE (testset)     0.7549  0.7637  0.7652  0.7603  0.7560  0.7600  0.0041  \n",
      "Fit time          35.76   29.82   28.10   28.39   29.01   30.22   2.84    \n",
      "Test time         13.00   11.64   11.62   12.01   13.38   12.33   0.73    \n"
     ]
    }
   ],
   "source": [
    "item_based_cv_result = cross_validate(knnbasic, data, measures=['RMSE', 'MAE'], cv=5, verbose=True)"
   ]
  },
  {
   "cell_type": "markdown",
   "metadata": {},
   "source": [
    "### kNN Model with deviation\n",
    "- 평점을 예측할 때, 사용자 혹은 아이템의 평균 평점을 고려하여 예측하는 모델\n",
    "- predicted rating = average rating + predicted deviation"
   ]
  },
  {
   "cell_type": "code",
   "execution_count": 11,
   "metadata": {},
   "outputs": [
    {
     "name": "stdout",
     "output_type": "stream",
     "text": [
      "Computing the cosine similarity matrix...\n",
      "Done computing similarity matrix.\n",
      "RMSE: 0.9034\n"
     ]
    },
    {
     "data": {
      "text/plain": [
       "0.9033571267064436"
      ]
     },
     "execution_count": 11,
     "metadata": {},
     "output_type": "execute_result"
    }
   ],
   "source": [
    "# KNN with Means\n",
    "# user-based\n",
    "\n",
    "sim_options = {\n",
    "    'name': 'cosine',\n",
    "    'user_based': True\n",
    "}\n",
    "\n",
    "knnbasic = KNNWithMeans(k = 40, min_k = 1, sim_options = sim_options)\n",
    "\n",
    "knnbasic.fit(train_data)\n",
    "predictions = knnbasic.test(test_data)\n",
    "\n",
    "accuracy.rmse(predictions)"
   ]
  },
  {
   "cell_type": "markdown",
   "metadata": {},
   "source": [
    "#### Item-based"
   ]
  },
  {
   "cell_type": "code",
   "execution_count": 12,
   "metadata": {},
   "outputs": [
    {
     "name": "stdout",
     "output_type": "stream",
     "text": [
      "Computing the cosine similarity matrix...\n",
      "Done computing similarity matrix.\n",
      "RMSE: 0.9031\n"
     ]
    },
    {
     "data": {
      "text/plain": [
       "0.9030789845102651"
      ]
     },
     "execution_count": 12,
     "metadata": {},
     "output_type": "execute_result"
    }
   ],
   "source": [
    "sim_options = {\n",
    "    'name': 'cosine',\n",
    "    'user_based': False\n",
    "}\n",
    "\n",
    "knnbasic = KNNWithMeans(k = 40, min_k = 1, sim_options = sim_options)\n",
    "\n",
    "# Train the algorithm on the trainset, and predict ratings for the testset\n",
    "knnbasic.fit(train_data)\n",
    "predictions = knnbasic.test(test_data)\n",
    "\n",
    "# Then compute RMSE\n",
    "accuracy.rmse(predictions)"
   ]
  },
  {
   "cell_type": "markdown",
   "metadata": {},
   "source": [
    "### 여러 가지 알고리즘, 하이퍼파라미터 비교"
   ]
  },
  {
   "cell_type": "code",
   "execution_count": 13,
   "metadata": {},
   "outputs": [
    {
     "name": "stdout",
     "output_type": "stream",
     "text": [
      "Computing the cosine similarity matrix...\n",
      "Done computing similarity matrix.\n",
      "Computing the cosine similarity matrix...\n",
      "Done computing similarity matrix.\n",
      "Computing the cosine similarity matrix...\n",
      "Done computing similarity matrix.\n",
      "Computing the cosine similarity matrix...\n",
      "Done computing similarity matrix.\n",
      "Computing the msd similarity matrix...\n",
      "Done computing similarity matrix.\n",
      "Computing the msd similarity matrix...\n",
      "Done computing similarity matrix.\n",
      "Computing the msd similarity matrix...\n",
      "Done computing similarity matrix.\n",
      "Computing the msd similarity matrix...\n",
      "Done computing similarity matrix.\n",
      "Computing the pearson similarity matrix...\n",
      "Done computing similarity matrix.\n",
      "Computing the pearson similarity matrix...\n",
      "Done computing similarity matrix.\n",
      "Computing the pearson similarity matrix...\n",
      "Done computing similarity matrix.\n",
      "Computing the pearson similarity matrix...\n",
      "Done computing similarity matrix.\n",
      "Computing the cosine similarity matrix...\n",
      "Done computing similarity matrix.\n",
      "Computing the cosine similarity matrix...\n",
      "Done computing similarity matrix.\n",
      "Computing the cosine similarity matrix...\n",
      "Done computing similarity matrix.\n",
      "Computing the cosine similarity matrix...\n",
      "Done computing similarity matrix.\n",
      "Computing the msd similarity matrix...\n",
      "Done computing similarity matrix.\n",
      "Computing the msd similarity matrix...\n",
      "Done computing similarity matrix.\n",
      "Computing the msd similarity matrix...\n",
      "Done computing similarity matrix.\n",
      "Computing the msd similarity matrix...\n",
      "Done computing similarity matrix.\n",
      "Computing the pearson similarity matrix...\n",
      "Done computing similarity matrix.\n",
      "Computing the pearson similarity matrix...\n",
      "Done computing similarity matrix.\n",
      "Computing the pearson similarity matrix...\n",
      "Done computing similarity matrix.\n",
      "Computing the pearson similarity matrix...\n",
      "Done computing similarity matrix.\n",
      "Computing the cosine similarity matrix...\n",
      "Done computing similarity matrix.\n",
      "Computing the cosine similarity matrix...\n",
      "Done computing similarity matrix.\n",
      "Computing the cosine similarity matrix...\n",
      "Done computing similarity matrix.\n",
      "Computing the cosine similarity matrix...\n",
      "Done computing similarity matrix.\n",
      "Computing the msd similarity matrix...\n",
      "Done computing similarity matrix.\n",
      "Computing the msd similarity matrix...\n",
      "Done computing similarity matrix.\n",
      "Computing the msd similarity matrix...\n",
      "Done computing similarity matrix.\n",
      "Computing the msd similarity matrix...\n",
      "Done computing similarity matrix.\n",
      "Computing the pearson similarity matrix...\n",
      "Done computing similarity matrix.\n",
      "Computing the pearson similarity matrix...\n",
      "Done computing similarity matrix.\n",
      "Computing the pearson similarity matrix...\n",
      "Done computing similarity matrix.\n",
      "Computing the pearson similarity matrix...\n",
      "Done computing similarity matrix.\n",
      "Computing the cosine similarity matrix...\n",
      "Done computing similarity matrix.\n",
      "Computing the cosine similarity matrix...\n",
      "Done computing similarity matrix.\n",
      "Computing the cosine similarity matrix...\n",
      "Done computing similarity matrix.\n",
      "Computing the cosine similarity matrix...\n",
      "Done computing similarity matrix.\n",
      "Computing the msd similarity matrix...\n",
      "Done computing similarity matrix.\n",
      "Computing the msd similarity matrix...\n",
      "Done computing similarity matrix.\n",
      "Computing the msd similarity matrix...\n",
      "Done computing similarity matrix.\n",
      "Computing the msd similarity matrix...\n",
      "Done computing similarity matrix.\n",
      "Computing the pearson similarity matrix...\n",
      "Done computing similarity matrix.\n",
      "Computing the pearson similarity matrix...\n",
      "Done computing similarity matrix.\n",
      "Computing the pearson similarity matrix...\n",
      "Done computing similarity matrix.\n",
      "Computing the pearson similarity matrix...\n",
      "Done computing similarity matrix.\n",
      "Computing the cosine similarity matrix...\n",
      "Done computing similarity matrix.\n",
      "Computing the cosine similarity matrix...\n",
      "Done computing similarity matrix.\n",
      "Computing the cosine similarity matrix...\n",
      "Done computing similarity matrix.\n",
      "Computing the cosine similarity matrix...\n",
      "Done computing similarity matrix.\n",
      "Computing the msd similarity matrix...\n",
      "Done computing similarity matrix.\n",
      "Computing the msd similarity matrix...\n",
      "Done computing similarity matrix.\n",
      "Computing the msd similarity matrix...\n",
      "Done computing similarity matrix.\n",
      "Computing the msd similarity matrix...\n",
      "Done computing similarity matrix.\n",
      "Computing the pearson similarity matrix...\n",
      "Done computing similarity matrix.\n",
      "Computing the pearson similarity matrix...\n",
      "Done computing similarity matrix.\n",
      "Computing the pearson similarity matrix...\n",
      "Done computing similarity matrix.\n",
      "Computing the pearson similarity matrix...\n",
      "Done computing similarity matrix.\n",
      "Computing the cosine similarity matrix...\n",
      "Done computing similarity matrix.\n",
      "Computing the cosine similarity matrix...\n",
      "Done computing similarity matrix.\n",
      "Computing the cosine similarity matrix...\n",
      "Done computing similarity matrix.\n",
      "Computing the cosine similarity matrix...\n",
      "Done computing similarity matrix.\n",
      "Computing the msd similarity matrix...\n",
      "Done computing similarity matrix.\n",
      "Computing the msd similarity matrix...\n",
      "Done computing similarity matrix.\n",
      "Computing the msd similarity matrix...\n",
      "Done computing similarity matrix.\n",
      "Computing the msd similarity matrix...\n",
      "Done computing similarity matrix.\n",
      "Computing the pearson similarity matrix...\n",
      "Done computing similarity matrix.\n",
      "Computing the pearson similarity matrix...\n",
      "Done computing similarity matrix.\n",
      "Computing the pearson similarity matrix...\n",
      "Done computing similarity matrix.\n",
      "Computing the pearson similarity matrix...\n",
      "Done computing similarity matrix.\n"
     ]
    }
   ],
   "source": [
    "benchmark = []\n",
    "\n",
    "for algorithm in [KNNBasic(), KNNWithMeans()]:\n",
    "    for k in [10, 20, 40]:\n",
    "        for similarity in ['cosine', 'msd', 'pearson']:\n",
    "            for user_based in [True, False]:            \n",
    "                algorithm.k = k\n",
    "                algorithm.sim_options = {'name':  similarity, 'user_based': user_based}\n",
    "                results = cross_validate(algorithm, data, measures=['RMSE'], cv=2, verbose=False)\n",
    "\n",
    "                # Get results & append algorithm name\n",
    "                rmse = results['test_rmse'].mean()\n",
    "                benchmark.append([str(algorithm.__class__.__name__), k, similarity, user_based, rmse])\n",
    "\n",
    "benchmark_df = pd.DataFrame(benchmark,\n",
    "                            columns = ['algorithm', 'k', 'similarity', 'user_based', 'rmse']\n",
    "                           ).sort_values(by='rmse')"
   ]
  },
  {
   "cell_type": "code",
   "execution_count": 14,
   "metadata": {},
   "outputs": [
    {
     "data": {
      "text/html": [
       "<div>\n",
       "<style scoped>\n",
       "    .dataframe tbody tr th:only-of-type {\n",
       "        vertical-align: middle;\n",
       "    }\n",
       "\n",
       "    .dataframe tbody tr th {\n",
       "        vertical-align: top;\n",
       "    }\n",
       "\n",
       "    .dataframe thead th {\n",
       "        text-align: right;\n",
       "    }\n",
       "</style>\n",
       "<table border=\"1\" class=\"dataframe\">\n",
       "  <thead>\n",
       "    <tr style=\"text-align: right;\">\n",
       "      <th></th>\n",
       "      <th>algorithm</th>\n",
       "      <th>k</th>\n",
       "      <th>similarity</th>\n",
       "      <th>user_based</th>\n",
       "      <th>rmse</th>\n",
       "    </tr>\n",
       "  </thead>\n",
       "  <tbody>\n",
       "    <tr>\n",
       "      <th>33</th>\n",
       "      <td>KNNWithMeans</td>\n",
       "      <td>40</td>\n",
       "      <td>msd</td>\n",
       "      <td>False</td>\n",
       "      <td>0.914445</td>\n",
       "    </tr>\n",
       "    <tr>\n",
       "      <th>32</th>\n",
       "      <td>KNNWithMeans</td>\n",
       "      <td>40</td>\n",
       "      <td>msd</td>\n",
       "      <td>True</td>\n",
       "      <td>0.921171</td>\n",
       "    </tr>\n",
       "    <tr>\n",
       "      <th>27</th>\n",
       "      <td>KNNWithMeans</td>\n",
       "      <td>20</td>\n",
       "      <td>msd</td>\n",
       "      <td>False</td>\n",
       "      <td>0.921212</td>\n",
       "    </tr>\n",
       "    <tr>\n",
       "      <th>26</th>\n",
       "      <td>KNNWithMeans</td>\n",
       "      <td>20</td>\n",
       "      <td>msd</td>\n",
       "      <td>True</td>\n",
       "      <td>0.921375</td>\n",
       "    </tr>\n",
       "    <tr>\n",
       "      <th>24</th>\n",
       "      <td>KNNWithMeans</td>\n",
       "      <td>20</td>\n",
       "      <td>cosine</td>\n",
       "      <td>True</td>\n",
       "      <td>0.922970</td>\n",
       "    </tr>\n",
       "    <tr>\n",
       "      <th>30</th>\n",
       "      <td>KNNWithMeans</td>\n",
       "      <td>40</td>\n",
       "      <td>cosine</td>\n",
       "      <td>True</td>\n",
       "      <td>0.923521</td>\n",
       "    </tr>\n",
       "    <tr>\n",
       "      <th>15</th>\n",
       "      <td>KNNBasic</td>\n",
       "      <td>40</td>\n",
       "      <td>msd</td>\n",
       "      <td>False</td>\n",
       "      <td>0.925583</td>\n",
       "    </tr>\n",
       "    <tr>\n",
       "      <th>31</th>\n",
       "      <td>KNNWithMeans</td>\n",
       "      <td>40</td>\n",
       "      <td>cosine</td>\n",
       "      <td>False</td>\n",
       "      <td>0.926080</td>\n",
       "    </tr>\n",
       "    <tr>\n",
       "      <th>20</th>\n",
       "      <td>KNNWithMeans</td>\n",
       "      <td>10</td>\n",
       "      <td>msd</td>\n",
       "      <td>True</td>\n",
       "      <td>0.928613</td>\n",
       "    </tr>\n",
       "    <tr>\n",
       "      <th>34</th>\n",
       "      <td>KNNWithMeans</td>\n",
       "      <td>40</td>\n",
       "      <td>pearson</td>\n",
       "      <td>True</td>\n",
       "      <td>0.930003</td>\n",
       "    </tr>\n",
       "    <tr>\n",
       "      <th>18</th>\n",
       "      <td>KNNWithMeans</td>\n",
       "      <td>10</td>\n",
       "      <td>cosine</td>\n",
       "      <td>True</td>\n",
       "      <td>0.931876</td>\n",
       "    </tr>\n",
       "    <tr>\n",
       "      <th>28</th>\n",
       "      <td>KNNWithMeans</td>\n",
       "      <td>20</td>\n",
       "      <td>pearson</td>\n",
       "      <td>True</td>\n",
       "      <td>0.932089</td>\n",
       "    </tr>\n",
       "    <tr>\n",
       "      <th>9</th>\n",
       "      <td>KNNBasic</td>\n",
       "      <td>20</td>\n",
       "      <td>msd</td>\n",
       "      <td>False</td>\n",
       "      <td>0.932487</td>\n",
       "    </tr>\n",
       "    <tr>\n",
       "      <th>25</th>\n",
       "      <td>KNNWithMeans</td>\n",
       "      <td>20</td>\n",
       "      <td>cosine</td>\n",
       "      <td>False</td>\n",
       "      <td>0.934504</td>\n",
       "    </tr>\n",
       "    <tr>\n",
       "      <th>22</th>\n",
       "      <td>KNNWithMeans</td>\n",
       "      <td>10</td>\n",
       "      <td>pearson</td>\n",
       "      <td>True</td>\n",
       "      <td>0.937051</td>\n",
       "    </tr>\n",
       "    <tr>\n",
       "      <th>35</th>\n",
       "      <td>KNNWithMeans</td>\n",
       "      <td>40</td>\n",
       "      <td>pearson</td>\n",
       "      <td>False</td>\n",
       "      <td>0.937427</td>\n",
       "    </tr>\n",
       "    <tr>\n",
       "      <th>21</th>\n",
       "      <td>KNNWithMeans</td>\n",
       "      <td>10</td>\n",
       "      <td>msd</td>\n",
       "      <td>False</td>\n",
       "      <td>0.937991</td>\n",
       "    </tr>\n",
       "    <tr>\n",
       "      <th>29</th>\n",
       "      <td>KNNWithMeans</td>\n",
       "      <td>20</td>\n",
       "      <td>pearson</td>\n",
       "      <td>False</td>\n",
       "      <td>0.942951</td>\n",
       "    </tr>\n",
       "    <tr>\n",
       "      <th>19</th>\n",
       "      <td>KNNWithMeans</td>\n",
       "      <td>10</td>\n",
       "      <td>cosine</td>\n",
       "      <td>False</td>\n",
       "      <td>0.949653</td>\n",
       "    </tr>\n",
       "    <tr>\n",
       "      <th>3</th>\n",
       "      <td>KNNBasic</td>\n",
       "      <td>10</td>\n",
       "      <td>msd</td>\n",
       "      <td>False</td>\n",
       "      <td>0.954442</td>\n",
       "    </tr>\n",
       "    <tr>\n",
       "      <th>23</th>\n",
       "      <td>KNNWithMeans</td>\n",
       "      <td>10</td>\n",
       "      <td>pearson</td>\n",
       "      <td>False</td>\n",
       "      <td>0.956067</td>\n",
       "    </tr>\n",
       "    <tr>\n",
       "      <th>8</th>\n",
       "      <td>KNNBasic</td>\n",
       "      <td>20</td>\n",
       "      <td>msd</td>\n",
       "      <td>True</td>\n",
       "      <td>0.972627</td>\n",
       "    </tr>\n",
       "    <tr>\n",
       "      <th>14</th>\n",
       "      <td>KNNBasic</td>\n",
       "      <td>40</td>\n",
       "      <td>msd</td>\n",
       "      <td>True</td>\n",
       "      <td>0.975529</td>\n",
       "    </tr>\n",
       "    <tr>\n",
       "      <th>13</th>\n",
       "      <td>KNNBasic</td>\n",
       "      <td>40</td>\n",
       "      <td>cosine</td>\n",
       "      <td>False</td>\n",
       "      <td>0.976191</td>\n",
       "    </tr>\n",
       "    <tr>\n",
       "      <th>2</th>\n",
       "      <td>KNNBasic</td>\n",
       "      <td>10</td>\n",
       "      <td>msd</td>\n",
       "      <td>True</td>\n",
       "      <td>0.976197</td>\n",
       "    </tr>\n",
       "    <tr>\n",
       "      <th>17</th>\n",
       "      <td>KNNBasic</td>\n",
       "      <td>40</td>\n",
       "      <td>pearson</td>\n",
       "      <td>False</td>\n",
       "      <td>0.983168</td>\n",
       "    </tr>\n",
       "    <tr>\n",
       "      <th>7</th>\n",
       "      <td>KNNBasic</td>\n",
       "      <td>20</td>\n",
       "      <td>cosine</td>\n",
       "      <td>False</td>\n",
       "      <td>0.987684</td>\n",
       "    </tr>\n",
       "    <tr>\n",
       "      <th>12</th>\n",
       "      <td>KNNBasic</td>\n",
       "      <td>40</td>\n",
       "      <td>cosine</td>\n",
       "      <td>True</td>\n",
       "      <td>0.993313</td>\n",
       "    </tr>\n",
       "    <tr>\n",
       "      <th>6</th>\n",
       "      <td>KNNBasic</td>\n",
       "      <td>20</td>\n",
       "      <td>cosine</td>\n",
       "      <td>True</td>\n",
       "      <td>0.993856</td>\n",
       "    </tr>\n",
       "    <tr>\n",
       "      <th>11</th>\n",
       "      <td>KNNBasic</td>\n",
       "      <td>20</td>\n",
       "      <td>pearson</td>\n",
       "      <td>False</td>\n",
       "      <td>0.995272</td>\n",
       "    </tr>\n",
       "    <tr>\n",
       "      <th>16</th>\n",
       "      <td>KNNBasic</td>\n",
       "      <td>40</td>\n",
       "      <td>pearson</td>\n",
       "      <td>True</td>\n",
       "      <td>1.005712</td>\n",
       "    </tr>\n",
       "    <tr>\n",
       "      <th>0</th>\n",
       "      <td>KNNBasic</td>\n",
       "      <td>10</td>\n",
       "      <td>cosine</td>\n",
       "      <td>True</td>\n",
       "      <td>1.007023</td>\n",
       "    </tr>\n",
       "    <tr>\n",
       "      <th>10</th>\n",
       "      <td>KNNBasic</td>\n",
       "      <td>20</td>\n",
       "      <td>pearson</td>\n",
       "      <td>True</td>\n",
       "      <td>1.007237</td>\n",
       "    </tr>\n",
       "    <tr>\n",
       "      <th>5</th>\n",
       "      <td>KNNBasic</td>\n",
       "      <td>10</td>\n",
       "      <td>pearson</td>\n",
       "      <td>False</td>\n",
       "      <td>1.009787</td>\n",
       "    </tr>\n",
       "    <tr>\n",
       "      <th>1</th>\n",
       "      <td>KNNBasic</td>\n",
       "      <td>10</td>\n",
       "      <td>cosine</td>\n",
       "      <td>False</td>\n",
       "      <td>1.011970</td>\n",
       "    </tr>\n",
       "    <tr>\n",
       "      <th>4</th>\n",
       "      <td>KNNBasic</td>\n",
       "      <td>10</td>\n",
       "      <td>pearson</td>\n",
       "      <td>True</td>\n",
       "      <td>1.014593</td>\n",
       "    </tr>\n",
       "  </tbody>\n",
       "</table>\n",
       "</div>"
      ],
      "text/plain": [
       "       algorithm   k similarity  user_based      rmse\n",
       "33  KNNWithMeans  40        msd       False  0.914445\n",
       "32  KNNWithMeans  40        msd        True  0.921171\n",
       "27  KNNWithMeans  20        msd       False  0.921212\n",
       "26  KNNWithMeans  20        msd        True  0.921375\n",
       "24  KNNWithMeans  20     cosine        True  0.922970\n",
       "30  KNNWithMeans  40     cosine        True  0.923521\n",
       "15      KNNBasic  40        msd       False  0.925583\n",
       "31  KNNWithMeans  40     cosine       False  0.926080\n",
       "20  KNNWithMeans  10        msd        True  0.928613\n",
       "34  KNNWithMeans  40    pearson        True  0.930003\n",
       "18  KNNWithMeans  10     cosine        True  0.931876\n",
       "28  KNNWithMeans  20    pearson        True  0.932089\n",
       "9       KNNBasic  20        msd       False  0.932487\n",
       "25  KNNWithMeans  20     cosine       False  0.934504\n",
       "22  KNNWithMeans  10    pearson        True  0.937051\n",
       "35  KNNWithMeans  40    pearson       False  0.937427\n",
       "21  KNNWithMeans  10        msd       False  0.937991\n",
       "29  KNNWithMeans  20    pearson       False  0.942951\n",
       "19  KNNWithMeans  10     cosine       False  0.949653\n",
       "3       KNNBasic  10        msd       False  0.954442\n",
       "23  KNNWithMeans  10    pearson       False  0.956067\n",
       "8       KNNBasic  20        msd        True  0.972627\n",
       "14      KNNBasic  40        msd        True  0.975529\n",
       "13      KNNBasic  40     cosine       False  0.976191\n",
       "2       KNNBasic  10        msd        True  0.976197\n",
       "17      KNNBasic  40    pearson       False  0.983168\n",
       "7       KNNBasic  20     cosine       False  0.987684\n",
       "12      KNNBasic  40     cosine        True  0.993313\n",
       "6       KNNBasic  20     cosine        True  0.993856\n",
       "11      KNNBasic  20    pearson       False  0.995272\n",
       "16      KNNBasic  40    pearson        True  1.005712\n",
       "0       KNNBasic  10     cosine        True  1.007023\n",
       "10      KNNBasic  20    pearson        True  1.007237\n",
       "5       KNNBasic  10    pearson       False  1.009787\n",
       "1       KNNBasic  10     cosine       False  1.011970\n",
       "4       KNNBasic  10    pearson        True  1.014593"
      ]
     },
     "execution_count": 14,
     "metadata": {},
     "output_type": "execute_result"
    }
   ],
   "source": [
    "benchmark_df"
   ]
  },
  {
   "cell_type": "markdown",
   "metadata": {},
   "source": [
    "## 02. 추천 결과 서빙\n",
    "- 위에서 수행한 오프라인 테스트 결과를 바탕으로 모델을 선택합니다.\n",
    "- 실제 프로덕션에 적용할 때는 train/test를 나누지 않고 지금까지 쌓인 모든 데이터를 가지고 학습하여 모델을 만듭니다."
   ]
  },
  {
   "cell_type": "markdown",
   "metadata": {},
   "source": [
    "#### 제일 좋은 성능을 낸 모델로 추천 서빙"
   ]
  },
  {
   "cell_type": "code",
   "execution_count": 15,
   "metadata": {},
   "outputs": [
    {
     "name": "stdout",
     "output_type": "stream",
     "text": [
      "Computing the msd similarity matrix...\n",
      "Done computing similarity matrix.\n"
     ]
    },
    {
     "data": {
      "text/plain": [
       "<surprise.prediction_algorithms.knns.KNNWithMeans at 0x2d4540a68c8>"
      ]
     },
     "execution_count": 15,
     "metadata": {},
     "output_type": "execute_result"
    }
   ],
   "source": [
    "sim_options = {\n",
    "    'name': 'msd',\n",
    "    'user_based': False\n",
    "}\n",
    "\n",
    "knn = KNNWithMeans(k = 40, min_k = 1, sim_options = sim_options)\n",
    "\n",
    "# 전체 데이터를 가지고 학습데이터를 만든다\n",
    "full_train_data = data.build_full_trainset()\n",
    "knn.fit(full_train_data)"
   ]
  },
  {
   "cell_type": "markdown",
   "metadata": {},
   "source": [
    "#### user 1의 item 29에 대한 평점을 구한다면\n",
    "- [predict method](https://surprise.readthedocs.io/en/stable/algobase.html#surprise.prediction_algorithms.algo_base.AlgoBase.predict)"
   ]
  },
  {
   "cell_type": "code",
   "execution_count": 16,
   "metadata": {},
   "outputs": [
    {
     "data": {
      "text/plain": [
       "Prediction(uid=1, iid=29, r_ui=None, est=4.900674110940887, details={'actual_k': 40, 'was_impossible': False})"
      ]
     },
     "execution_count": 16,
     "metadata": {},
     "output_type": "execute_result"
    }
   ],
   "source": [
    "knn.predict(1, 29)"
   ]
  },
  {
   "cell_type": "code",
   "execution_count": 17,
   "metadata": {},
   "outputs": [],
   "source": [
    "# user 1에 대해서 rating이 없는 영화 가운데 추천을 해봅시다\n",
    "user_id = 1\n",
    "\n",
    "# 전체 영화 리스트 가운데서 user 1이 이미 평가한 영화를 제거합니다\n",
    "candidate_itemlist = list(set(ratings_df['movieId'].unique()) \\\n",
    "                    - set(ratings_df[ratings_df['userId'] == user_id]['movieId'].unique()))"
   ]
  },
  {
   "cell_type": "code",
   "execution_count": 18,
   "metadata": {},
   "outputs": [
    {
     "data": {
      "text/plain": [
       "9492"
      ]
     },
     "execution_count": 18,
     "metadata": {},
     "output_type": "execute_result"
    }
   ],
   "source": [
    "len(candidate_itemlist)"
   ]
  },
  {
   "cell_type": "code",
   "execution_count": 19,
   "metadata": {},
   "outputs": [],
   "source": [
    "def recommend_highest_rating_from_user(user_id, item_ids, algorithm, k):\n",
    "    \n",
    "    _result = []\n",
    "    \n",
    "    # 받은 영화 리스트에 대해서 평점을 구합니다\n",
    "    for item_id in item_ids:\n",
    "        pred_rating = algorithm.predict(user_id, item_id).est\n",
    "        _result.append([item_id, pred_rating])\n",
    "    \n",
    "    # 평점을 기준으로 정렬하여 k개를 return합니다\n",
    "    ratings = pd.DataFrame(_result, columns=['movieId', 'predRating']).sort_values(by='predRating', ascending=False)\n",
    "    return ratings[:k]"
   ]
  },
  {
   "cell_type": "code",
   "execution_count": 20,
   "metadata": {},
   "outputs": [
    {
     "name": "stdout",
     "output_type": "stream",
     "text": [
      "Wall time: 3.52 s\n"
     ]
    },
    {
     "data": {
      "text/html": [
       "<div>\n",
       "<style scoped>\n",
       "    .dataframe tbody tr th:only-of-type {\n",
       "        vertical-align: middle;\n",
       "    }\n",
       "\n",
       "    .dataframe tbody tr th {\n",
       "        vertical-align: top;\n",
       "    }\n",
       "\n",
       "    .dataframe thead th {\n",
       "        text-align: right;\n",
       "    }\n",
       "</style>\n",
       "<table border=\"1\" class=\"dataframe\">\n",
       "  <thead>\n",
       "    <tr style=\"text-align: right;\">\n",
       "      <th></th>\n",
       "      <th>movieId</th>\n",
       "      <th>predRating</th>\n",
       "    </tr>\n",
       "  </thead>\n",
       "  <tbody>\n",
       "    <tr>\n",
       "      <th>6400</th>\n",
       "      <td>164917</td>\n",
       "      <td>5.0</td>\n",
       "    </tr>\n",
       "    <tr>\n",
       "      <th>6316</th>\n",
       "      <td>107951</td>\n",
       "      <td>5.0</td>\n",
       "    </tr>\n",
       "    <tr>\n",
       "      <th>9468</th>\n",
       "      <td>98154</td>\n",
       "      <td>5.0</td>\n",
       "    </tr>\n",
       "    <tr>\n",
       "      <th>4577</th>\n",
       "      <td>71462</td>\n",
       "      <td>5.0</td>\n",
       "    </tr>\n",
       "    <tr>\n",
       "      <th>2627</th>\n",
       "      <td>3330</td>\n",
       "      <td>5.0</td>\n",
       "    </tr>\n",
       "    <tr>\n",
       "      <th>7136</th>\n",
       "      <td>147196</td>\n",
       "      <td>5.0</td>\n",
       "    </tr>\n",
       "    <tr>\n",
       "      <th>7138</th>\n",
       "      <td>147250</td>\n",
       "      <td>5.0</td>\n",
       "    </tr>\n",
       "    <tr>\n",
       "      <th>3114</th>\n",
       "      <td>3942</td>\n",
       "      <td>5.0</td>\n",
       "    </tr>\n",
       "    <tr>\n",
       "      <th>4585</th>\n",
       "      <td>5938</td>\n",
       "      <td>5.0</td>\n",
       "    </tr>\n",
       "    <tr>\n",
       "      <th>4595</th>\n",
       "      <td>5949</td>\n",
       "      <td>5.0</td>\n",
       "    </tr>\n",
       "  </tbody>\n",
       "</table>\n",
       "</div>"
      ],
      "text/plain": [
       "      movieId  predRating\n",
       "6400   164917         5.0\n",
       "6316   107951         5.0\n",
       "9468    98154         5.0\n",
       "4577    71462         5.0\n",
       "2627     3330         5.0\n",
       "7136   147196         5.0\n",
       "7138   147250         5.0\n",
       "3114     3942         5.0\n",
       "4585     5938         5.0\n",
       "4595     5949         5.0"
      ]
     },
     "execution_count": 20,
     "metadata": {},
     "output_type": "execute_result"
    }
   ],
   "source": [
    "%%time\n",
    "recommend_highest_rating_from_user(user_id, candidate_itemlist, knn, 10)"
   ]
  },
  {
   "cell_type": "markdown",
   "metadata": {},
   "source": [
    "#### 실제 서비스에서는 모든 아이템에 대해서 예측 평점을 구해서 정렬하기 어렵기 때문에 아래와 같은 방법을 사용하기도 합니다"
   ]
  },
  {
   "cell_type": "code",
   "execution_count": 21,
   "metadata": {},
   "outputs": [],
   "source": [
    "def recommend_higher_than_threshold_from_user(user_id, item_ids, algorithm, k, threshold):\n",
    "    random.shuffle(item_ids)\n",
    "    _result = []\n",
    "    for item_id in item_ids:\n",
    "        pred_rating = algorithm.predict(user_id, item_id).est\n",
    "        if pred_rating >= threshold:\n",
    "            _result.append([item_id, pred_rating])\n",
    "            \n",
    "        if len(_result) >= k:\n",
    "            break\n",
    "        \n",
    "    ratings = pd.DataFrame(_result, columns=['movieId', 'predRating']).sort_values(by='predRating', ascending=False)\n",
    "    return ratings"
   ]
  },
  {
   "cell_type": "code",
   "execution_count": 22,
   "metadata": {},
   "outputs": [
    {
     "name": "stdout",
     "output_type": "stream",
     "text": [
      "Wall time: 23.9 ms\n"
     ]
    },
    {
     "data": {
      "text/html": [
       "<div>\n",
       "<style scoped>\n",
       "    .dataframe tbody tr th:only-of-type {\n",
       "        vertical-align: middle;\n",
       "    }\n",
       "\n",
       "    .dataframe tbody tr th {\n",
       "        vertical-align: top;\n",
       "    }\n",
       "\n",
       "    .dataframe thead th {\n",
       "        text-align: right;\n",
       "    }\n",
       "</style>\n",
       "<table border=\"1\" class=\"dataframe\">\n",
       "  <thead>\n",
       "    <tr style=\"text-align: right;\">\n",
       "      <th></th>\n",
       "      <th>movieId</th>\n",
       "      <th>predRating</th>\n",
       "    </tr>\n",
       "  </thead>\n",
       "  <tbody>\n",
       "    <tr>\n",
       "      <th>1</th>\n",
       "      <td>6201</td>\n",
       "      <td>5.000000</td>\n",
       "    </tr>\n",
       "    <tr>\n",
       "      <th>3</th>\n",
       "      <td>47423</td>\n",
       "      <td>5.000000</td>\n",
       "    </tr>\n",
       "    <tr>\n",
       "      <th>6</th>\n",
       "      <td>7981</td>\n",
       "      <td>5.000000</td>\n",
       "    </tr>\n",
       "    <tr>\n",
       "      <th>7</th>\n",
       "      <td>33201</td>\n",
       "      <td>5.000000</td>\n",
       "    </tr>\n",
       "    <tr>\n",
       "      <th>4</th>\n",
       "      <td>100159</td>\n",
       "      <td>4.999819</td>\n",
       "    </tr>\n",
       "    <tr>\n",
       "      <th>9</th>\n",
       "      <td>3569</td>\n",
       "      <td>4.831323</td>\n",
       "    </tr>\n",
       "    <tr>\n",
       "      <th>8</th>\n",
       "      <td>111362</td>\n",
       "      <td>4.718940</td>\n",
       "    </tr>\n",
       "    <tr>\n",
       "      <th>5</th>\n",
       "      <td>4465</td>\n",
       "      <td>4.670411</td>\n",
       "    </tr>\n",
       "    <tr>\n",
       "      <th>2</th>\n",
       "      <td>121</td>\n",
       "      <td>4.648007</td>\n",
       "    </tr>\n",
       "    <tr>\n",
       "      <th>0</th>\n",
       "      <td>94677</td>\n",
       "      <td>4.507225</td>\n",
       "    </tr>\n",
       "  </tbody>\n",
       "</table>\n",
       "</div>"
      ],
      "text/plain": [
       "   movieId  predRating\n",
       "1     6201    5.000000\n",
       "3    47423    5.000000\n",
       "6     7981    5.000000\n",
       "7    33201    5.000000\n",
       "4   100159    4.999819\n",
       "9     3569    4.831323\n",
       "8   111362    4.718940\n",
       "5     4465    4.670411\n",
       "2      121    4.648007\n",
       "0    94677    4.507225"
      ]
     },
     "execution_count": 22,
     "metadata": {},
     "output_type": "execute_result"
    }
   ],
   "source": [
    "%%time\n",
    "recommend_higher_than_threshold_from_user(user_id, candidate_itemlist, knn, 10, 4.5)"
   ]
  }
 ],
 "metadata": {
  "kernelspec": {
   "display_name": "Python 3",
   "language": "python",
   "name": "python3"
  },
  "language_info": {
   "codemirror_mode": {
    "name": "ipython",
    "version": 3
   },
   "file_extension": ".py",
   "mimetype": "text/x-python",
   "name": "python",
   "nbconvert_exporter": "python",
   "pygments_lexer": "ipython3",
   "version": "3.7.6"
  }
 },
 "nbformat": 4,
 "nbformat_minor": 2
}
